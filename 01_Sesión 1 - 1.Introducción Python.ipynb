{
  "cells": [
    {
      "cell_type": "markdown",
      "metadata": {
        "id": "I4c0J82DFj5y"
      },
      "source": [
        "# <u>Introducción al Python</u>"
      ]
    },
    {
      "cell_type": "markdown",
      "metadata": {
        "id": "Oq2oWZ_YgzrV"
      },
      "source": [
        "## ¿Qué es Python?"
      ]
    },
    {
      "cell_type": "markdown",
      "metadata": {
        "id": "GdDJEo5VgzrV"
      },
      "source": [
        "Python es un lenguaje de programación interpretado, orientado a objetos, de alto nivel y con semántica dinámica creado por Guido van Rossum en 1991.\n",
        "\n",
        "A continuación haremos una breve introducción de los conceptos y operaciones básicas de Python."
      ]
    },
    {
      "cell_type": "markdown",
      "metadata": {
        "id": "18bc3djzgzrV"
      },
      "source": [
        "## Celda de código"
      ]
    },
    {
      "cell_type": "code",
      "execution_count": 83,
      "metadata": {
        "id": "mhP9DgpXETSE"
      },
      "outputs": [
        {
          "data": {
            "text/plain": [
              "9"
            ]
          },
          "execution_count": 83,
          "metadata": {},
          "output_type": "execute_result"
        }
      ],
      "source": [
        "#Celda de código\n",
        "\n",
        "4 + 5"
      ]
    },
    {
      "cell_type": "markdown",
      "metadata": {
        "id": "cKKJMN37Ettq"
      },
      "source": [
        "Esto es un comentario dentro de una celda de texto\n",
        "# Título nivel 1\n",
        "## Título nivel 2\n",
        "### Título nivel 3\n",
        "#### Título nivel 4\n",
        "##### Título nivel 5"
      ]
    },
    {
      "cell_type": "markdown",
      "metadata": {
        "id": "AtPLf6czgzrW"
      },
      "source": [
        "<center> <u><i><b>Texto centrado</b></i></u> </center>"
      ]
    },
    {
      "cell_type": "markdown",
      "metadata": {
        "id": "2dAOvrNdgzrW"
      },
      "source": [
        "<i> Cursiva </i>"
      ]
    },
    {
      "cell_type": "markdown",
      "metadata": {
        "id": "3JgHmz_RLnUD"
      },
      "source": [
        "## Tipos de datos básicos"
      ]
    },
    {
      "cell_type": "code",
      "execution_count": 84,
      "metadata": {
        "id": "PeUYDkiugzrX"
      },
      "outputs": [],
      "source": [
        "#Crear una variable\n",
        "x = 25"
      ]
    },
    {
      "cell_type": "code",
      "execution_count": 85,
      "metadata": {
        "id": "ZoT4bNA4gzrX"
      },
      "outputs": [
        {
          "data": {
            "text/plain": [
              "25"
            ]
          },
          "execution_count": 85,
          "metadata": {},
          "output_type": "execute_result"
        }
      ],
      "source": [
        "#Consultar el contenido de una variable\n",
        "x"
      ]
    },
    {
      "cell_type": "code",
      "execution_count": 86,
      "metadata": {
        "id": "RyuNzjmQgzrX"
      },
      "outputs": [],
      "source": [
        "# Asignación múltiple de variables\n",
        "x, y, z = 1,2,3"
      ]
    },
    {
      "cell_type": "code",
      "execution_count": 87,
      "metadata": {
        "id": "L843lIkcgzrX"
      },
      "outputs": [
        {
          "data": {
            "text/plain": [
              "1"
            ]
          },
          "execution_count": 87,
          "metadata": {},
          "output_type": "execute_result"
        }
      ],
      "source": [
        "x"
      ]
    },
    {
      "cell_type": "code",
      "execution_count": 88,
      "metadata": {
        "id": "Cf8sHCxkgzrX"
      },
      "outputs": [
        {
          "data": {
            "text/plain": [
              "2"
            ]
          },
          "execution_count": 88,
          "metadata": {},
          "output_type": "execute_result"
        }
      ],
      "source": [
        "y"
      ]
    },
    {
      "cell_type": "code",
      "execution_count": 89,
      "metadata": {
        "id": "_LGCupXagzrX"
      },
      "outputs": [
        {
          "data": {
            "text/plain": [
              "(1, 2, 3)"
            ]
          },
          "execution_count": 89,
          "metadata": {},
          "output_type": "execute_result"
        }
      ],
      "source": [
        "x,y,z"
      ]
    },
    {
      "cell_type": "code",
      "execution_count": 90,
      "metadata": {
        "id": "6JfgfBaogzrX"
      },
      "outputs": [],
      "source": [
        "#True = 3"
      ]
    },
    {
      "cell_type": "markdown",
      "metadata": {
        "id": "mbiVFHk8gzrX"
      },
      "source": [
        "### Datos Numéricos"
      ]
    },
    {
      "cell_type": "code",
      "execution_count": 91,
      "metadata": {
        "id": "VjvAebXALFUY"
      },
      "outputs": [],
      "source": [
        "a,b = 25,7"
      ]
    },
    {
      "cell_type": "code",
      "execution_count": 92,
      "metadata": {
        "id": "JxRvbYCBLu_3"
      },
      "outputs": [
        {
          "data": {
            "text/plain": [
              "32"
            ]
          },
          "execution_count": 92,
          "metadata": {},
          "output_type": "execute_result"
        }
      ],
      "source": [
        "a + b"
      ]
    },
    {
      "cell_type": "code",
      "execution_count": 93,
      "metadata": {
        "id": "AEA8ZgiILx6Q"
      },
      "outputs": [
        {
          "data": {
            "text/plain": [
              "18"
            ]
          },
          "execution_count": 93,
          "metadata": {},
          "output_type": "execute_result"
        }
      ],
      "source": [
        "a - b"
      ]
    },
    {
      "cell_type": "code",
      "execution_count": 94,
      "metadata": {
        "id": "zqW3ooW6Lz7w"
      },
      "outputs": [
        {
          "data": {
            "text/plain": [
              "175"
            ]
          },
          "execution_count": 94,
          "metadata": {},
          "output_type": "execute_result"
        }
      ],
      "source": [
        "a * b"
      ]
    },
    {
      "cell_type": "code",
      "execution_count": 95,
      "metadata": {
        "id": "3OpOSiXFL1lv"
      },
      "outputs": [
        {
          "data": {
            "text/plain": [
              "3.5714285714285716"
            ]
          },
          "execution_count": 95,
          "metadata": {},
          "output_type": "execute_result"
        }
      ],
      "source": [
        "#División real\n",
        "a / b"
      ]
    },
    {
      "cell_type": "code",
      "execution_count": 96,
      "metadata": {
        "id": "PBXTk-hcL5vG"
      },
      "outputs": [
        {
          "data": {
            "text/plain": [
              "3"
            ]
          },
          "execution_count": 96,
          "metadata": {},
          "output_type": "execute_result"
        }
      ],
      "source": [
        "#División entera\n",
        "a // b"
      ]
    },
    {
      "cell_type": "code",
      "execution_count": 97,
      "metadata": {
        "id": "bQKw57eLMPQs"
      },
      "outputs": [
        {
          "data": {
            "text/plain": [
              "4"
            ]
          },
          "execution_count": 97,
          "metadata": {},
          "output_type": "execute_result"
        }
      ],
      "source": [
        "#Residuo (Operador módulo)\n",
        "a % b"
      ]
    },
    {
      "cell_type": "markdown",
      "metadata": {
        "id": "NGV5PVEmN3IR"
      },
      "source": [
        "Al tener diversas operaciones y consultas dentro de una misma celda de código, todas las operaciones son ejecutadas pero solo la última consulta será visible en el output."
      ]
    },
    {
      "cell_type": "code",
      "execution_count": 98,
      "metadata": {
        "id": "wpitkfm1Maye"
      },
      "outputs": [
        {
          "data": {
            "text/plain": [
              "(25, 7, 3.5714285714285716)"
            ]
          },
          "execution_count": 98,
          "metadata": {},
          "output_type": "execute_result"
        }
      ],
      "source": [
        "c = a / b\n",
        "a, b, c"
      ]
    },
    {
      "cell_type": "code",
      "execution_count": 99,
      "metadata": {
        "id": "Bl_FgPvqM6kK"
      },
      "outputs": [
        {
          "data": {
            "text/plain": [
              "(int, int, float)"
            ]
          },
          "execution_count": 99,
          "metadata": {},
          "output_type": "execute_result"
        }
      ],
      "source": [
        "#Consultar el tipo de dato de una variable\n",
        "type(a), type(b), type(c)"
      ]
    },
    {
      "cell_type": "code",
      "execution_count": 100,
      "metadata": {
        "id": "8IDFB0rPSJZR",
        "scrolled": true
      },
      "outputs": [
        {
          "data": {
            "text/plain": [
              "3.5714285714285716"
            ]
          },
          "execution_count": 100,
          "metadata": {},
          "output_type": "execute_result"
        }
      ],
      "source": [
        "c"
      ]
    },
    {
      "cell_type": "code",
      "execution_count": 101,
      "metadata": {
        "id": "kRUqQF-mStpF"
      },
      "outputs": [
        {
          "data": {
            "text/plain": [
              "3.57"
            ]
          },
          "execution_count": 101,
          "metadata": {},
          "output_type": "execute_result"
        }
      ],
      "source": [
        "#Función útil de redondeo, no requiere importar ningún paquete o módulo adicional\n",
        "\n",
        "round(c, 2)"
      ]
    },
    {
      "cell_type": "code",
      "execution_count": 102,
      "metadata": {
        "id": "wOAZvXk5NZ_d"
      },
      "outputs": [
        {
          "data": {
            "text/plain": [
              "4586471424"
            ]
          },
          "execution_count": 102,
          "metadata": {},
          "output_type": "execute_result"
        }
      ],
      "source": [
        "#Operador exponencial\n",
        "24 ** 7"
      ]
    },
    {
      "cell_type": "code",
      "execution_count": 103,
      "metadata": {
        "id": "tp71DFIYNt-k"
      },
      "outputs": [
        {
          "data": {
            "text/plain": [
              "27116193136692591104682440379141732091722167354991582274848721451310630646079189677776822388976332662393324185081056289629455173962963042261414172902506835200646805776871574671200726410686596704788209896258036144900392202580904571767639774973048167764816428714130884544505583950113541776969257970295405435716869372794613831810356083475072494311942927067472523240554194309402194405067013211220931329782420525520611221403040587435810328413003983672497402056133210797767892336054950864847982814248145226273914546050071659119490633147678809051651853327531266145782055850121159435427881870440351952370722969378975016306031918912345329916645527437363801036898250775949372634453489848208141074135794220983181224007599071156050645285091649952246361354289522022832129171020729779154386310331830826565128942587481890689261527049633277793355571443326117264004842583421456275815758842435849142245227002120785910451753813540396272432510669646064849791121253297262772593628558146518922571314224774706824771862782781821119342457285161606815598434020342161098919414285405380323240828428694216574682160156645704875092446192630396332402887093346533605763717250591470242811335265811932268005884197662926896573151083595881690950593133415027334427163124125629067090804917325358826896339098097940260870170707255953563236689731696817645437037786890654925809325773070212604009314646246177070413928742296328473753754009192914879789519208954060665733678362668932655142988442370722001475695120379605991160670980925961446027038582225515412368798852272514998879883452165273638456710614264011383056640625"
            ]
          },
          "execution_count": 103,
          "metadata": {},
          "output_type": "execute_result"
        }
      ],
      "source": [
        "#Números muy grandes son soportados en Python\n",
        "5424157445487845 ** 100"
      ]
    },
    {
      "cell_type": "code",
      "execution_count": 104,
      "metadata": {
        "id": "Xq_rFyOhNyEH"
      },
      "outputs": [
        {
          "data": {
            "text/plain": [
              "2.0476725110792193"
            ]
          },
          "execution_count": 104,
          "metadata": {},
          "output_type": "execute_result"
        }
      ],
      "source": [
        "#Calculando una raiz como la inversa de la exponencial\n",
        "36 ** (1/5)"
      ]
    },
    {
      "cell_type": "code",
      "execution_count": 105,
      "metadata": {
        "id": "G6lE6_W_gzrZ"
      },
      "outputs": [
        {
          "data": {
            "text/plain": [
              "100"
            ]
          },
          "execution_count": 105,
          "metadata": {},
          "output_type": "execute_result"
        }
      ],
      "source": [
        "pow(10,2)"
      ]
    },
    {
      "cell_type": "code",
      "execution_count": 106,
      "metadata": {
        "id": "05QsznZggzrZ"
      },
      "outputs": [
        {
          "data": {
            "text/plain": [
              "2.0476725110792193"
            ]
          },
          "execution_count": 106,
          "metadata": {},
          "output_type": "execute_result"
        }
      ],
      "source": [
        "pow(36,1/5)"
      ]
    },
    {
      "cell_type": "code",
      "execution_count": 190,
      "metadata": {},
      "outputs": [
        {
          "data": {
            "text/plain": [
              "6.0"
            ]
          },
          "execution_count": 190,
          "metadata": {},
          "output_type": "execute_result"
        }
      ],
      "source": [
        "pow(36,1/2)"
      ]
    },
    {
      "cell_type": "code",
      "execution_count": 191,
      "metadata": {},
      "outputs": [
        {
          "data": {
            "text/plain": [
              "6.0"
            ]
          },
          "execution_count": 191,
          "metadata": {},
          "output_type": "execute_result"
        }
      ],
      "source": [
        "import math\n",
        "math.sqrt(36)"
      ]
    },
    {
      "cell_type": "code",
      "execution_count": 192,
      "metadata": {
        "id": "lLTc6ThEgzrZ"
      },
      "outputs": [
        {
          "data": {
            "text/plain": [
              "11.0"
            ]
          },
          "execution_count": 192,
          "metadata": {},
          "output_type": "execute_result"
        }
      ],
      "source": [
        "7-6+2**3/4*5"
      ]
    },
    {
      "cell_type": "code",
      "execution_count": 108,
      "metadata": {
        "id": "fXznrGE8gzrZ"
      },
      "outputs": [
        {
          "data": {
            "text/plain": [
              "3"
            ]
          },
          "execution_count": 108,
          "metadata": {},
          "output_type": "execute_result"
        }
      ],
      "source": [
        "#Division entera\n",
        "25//8"
      ]
    },
    {
      "cell_type": "code",
      "execution_count": 109,
      "metadata": {
        "id": "qC_wHowggzrZ"
      },
      "outputs": [
        {
          "data": {
            "text/plain": [
              "1"
            ]
          },
          "execution_count": 109,
          "metadata": {},
          "output_type": "execute_result"
        }
      ],
      "source": [
        "int(1)"
      ]
    },
    {
      "cell_type": "code",
      "execution_count": 110,
      "metadata": {
        "id": "rdgmJRu6gzrZ"
      },
      "outputs": [
        {
          "name": "stdout",
          "output_type": "stream",
          "text": [
            "24.0 <class 'float'>\n"
          ]
        }
      ],
      "source": [
        "# Declarar un variable con un valor del tipo punto flotante\n",
        "\n",
        "x = 24.0\n",
        "print(x, type(x))"
      ]
    },
    {
      "cell_type": "code",
      "execution_count": 111,
      "metadata": {
        "id": "CqxFaxyqgzrk"
      },
      "outputs": [
        {
          "name": "stdout",
          "output_type": "stream",
          "text": [
            "24.0 <class 'float'>\n"
          ]
        }
      ],
      "source": [
        "# Declarar una variable con un valor numérico usando la función float\n",
        "\n",
        "x = float(24)\n",
        "print(x, type(x))"
      ]
    },
    {
      "cell_type": "code",
      "execution_count": 112,
      "metadata": {
        "id": "fS-5nFKagzrk"
      },
      "outputs": [
        {
          "name": "stdout",
          "output_type": "stream",
          "text": [
            "(24+20j) <class 'complex'>\n"
          ]
        }
      ],
      "source": [
        "# Declarar un variable con un valor del tipo complejo\n",
        "\n",
        "var = 24 + 20j\n",
        "print(var, type(var))"
      ]
    },
    {
      "cell_type": "code",
      "execution_count": 113,
      "metadata": {
        "id": "KRpF9Q-lgzrk"
      },
      "outputs": [
        {
          "name": "stdout",
          "output_type": "stream",
          "text": [
            "(24+20j) <class 'complex'>\n"
          ]
        }
      ],
      "source": [
        "# Declarar una variable con un un para de valores numéricos usando la función complex\n",
        "\n",
        "var = complex(24, 20)\n",
        "print(var, type(var))"
      ]
    },
    {
      "cell_type": "code",
      "execution_count": 114,
      "metadata": {
        "id": "_l6nZAx3gzrk"
      },
      "outputs": [
        {
          "name": "stdout",
          "output_type": "stream",
          "text": [
            "24.0\n",
            "20.0\n"
          ]
        }
      ],
      "source": [
        "print(var.real)\n",
        "print(var.imag)"
      ]
    },
    {
      "cell_type": "code",
      "execution_count": 115,
      "metadata": {
        "id": "VLk7cpeEgzrk"
      },
      "outputs": [
        {
          "data": {
            "text/plain": [
              "(6.123233995736766e-17+1j)"
            ]
          },
          "execution_count": 115,
          "metadata": {},
          "output_type": "execute_result"
        }
      ],
      "source": [
        "pow(-1,1/2)"
      ]
    },
    {
      "cell_type": "markdown",
      "metadata": {
        "id": "rXSPSXpmJnuq"
      },
      "source": [
        "### Datos Booleanos"
      ]
    },
    {
      "cell_type": "code",
      "execution_count": 116,
      "metadata": {
        "id": "m9Uwyn6CInVR"
      },
      "outputs": [],
      "source": [
        "b1 = True\n",
        "b2 = True\n",
        "b3 = False"
      ]
    },
    {
      "cell_type": "code",
      "execution_count": 117,
      "metadata": {
        "id": "4I47hQuJJ0xD"
      },
      "outputs": [
        {
          "data": {
            "text/plain": [
              "True"
            ]
          },
          "execution_count": 117,
          "metadata": {},
          "output_type": "execute_result"
        }
      ],
      "source": [
        "b1"
      ]
    },
    {
      "cell_type": "code",
      "execution_count": 118,
      "metadata": {
        "id": "0k_GdFilJ8DA"
      },
      "outputs": [
        {
          "data": {
            "text/plain": [
              "False"
            ]
          },
          "execution_count": 118,
          "metadata": {},
          "output_type": "execute_result"
        }
      ],
      "source": [
        "#Negación\n",
        "not b1"
      ]
    },
    {
      "cell_type": "code",
      "execution_count": 119,
      "metadata": {
        "id": "iWQh9WqPgzrl"
      },
      "outputs": [
        {
          "data": {
            "text/plain": [
              "False"
            ]
          },
          "execution_count": 119,
          "metadata": {},
          "output_type": "execute_result"
        }
      ],
      "source": [
        "3 == 5   #igualdad"
      ]
    },
    {
      "cell_type": "code",
      "execution_count": 120,
      "metadata": {
        "id": "H86iitYngzrl"
      },
      "outputs": [
        {
          "data": {
            "text/plain": [
              "True"
            ]
          },
          "execution_count": 120,
          "metadata": {},
          "output_type": "execute_result"
        }
      ],
      "source": [
        "5 > 3"
      ]
    },
    {
      "cell_type": "code",
      "execution_count": 121,
      "metadata": {
        "id": "mnltgIYnJ_BP"
      },
      "outputs": [
        {
          "data": {
            "text/plain": [
              "False"
            ]
          },
          "execution_count": 121,
          "metadata": {},
          "output_type": "execute_result"
        }
      ],
      "source": [
        "#Operador and: si ambas condiciones son verdaderas, todo es verdadero, cc es falso\n",
        "b1 and b3"
      ]
    },
    {
      "cell_type": "code",
      "execution_count": 122,
      "metadata": {
        "id": "70HVtm5Igzrl"
      },
      "outputs": [
        {
          "data": {
            "text/plain": [
              "True"
            ]
          },
          "execution_count": 122,
          "metadata": {},
          "output_type": "execute_result"
        }
      ],
      "source": [
        "b1 and b2"
      ]
    },
    {
      "cell_type": "code",
      "execution_count": 123,
      "metadata": {
        "id": "nJj333fnK8zc"
      },
      "outputs": [
        {
          "data": {
            "text/plain": [
              "True"
            ]
          },
          "execution_count": 123,
          "metadata": {},
          "output_type": "execute_result"
        }
      ],
      "source": [
        "#Operador or: si ambas condiciones son falsas, todo es falso, cc es verdadero\n",
        "b2 or b3"
      ]
    },
    {
      "cell_type": "code",
      "execution_count": 124,
      "metadata": {
        "id": "ZdaHLxN1gzrl"
      },
      "outputs": [
        {
          "data": {
            "text/plain": [
              "False"
            ]
          },
          "execution_count": 124,
          "metadata": {},
          "output_type": "execute_result"
        }
      ],
      "source": [
        "not b2 or b3"
      ]
    },
    {
      "cell_type": "code",
      "execution_count": 125,
      "metadata": {
        "id": "x7EOaAwzK_mB"
      },
      "outputs": [
        {
          "data": {
            "text/plain": [
              "True"
            ]
          },
          "execution_count": 125,
          "metadata": {},
          "output_type": "execute_result"
        }
      ],
      "source": [
        "#Operador xor: disyuncion exclusiva - si ambas condiciones son iguales es falso\n",
        "b1 ^ b3"
      ]
    },
    {
      "cell_type": "markdown",
      "metadata": {
        "id": "F29g7rPZgzrl"
      },
      "source": [
        "#### Operadores relacionales"
      ]
    },
    {
      "cell_type": "code",
      "execution_count": 126,
      "metadata": {
        "id": "kEDnlgj7gzrl"
      },
      "outputs": [
        {
          "data": {
            "text/plain": [
              "False"
            ]
          },
          "execution_count": 126,
          "metadata": {},
          "output_type": "execute_result"
        }
      ],
      "source": [
        "3 == 4  # Igual que"
      ]
    },
    {
      "cell_type": "code",
      "execution_count": 127,
      "metadata": {
        "id": "r7Jmb3Jxgzrm"
      },
      "outputs": [
        {
          "data": {
            "text/plain": [
              "True"
            ]
          },
          "execution_count": 127,
          "metadata": {},
          "output_type": "execute_result"
        }
      ],
      "source": [
        "3 != 4  # Distinto que"
      ]
    },
    {
      "cell_type": "code",
      "execution_count": 128,
      "metadata": {
        "id": "Lt-TV0Zkgzrm"
      },
      "outputs": [
        {
          "data": {
            "text/plain": [
              "True"
            ]
          },
          "execution_count": 128,
          "metadata": {},
          "output_type": "execute_result"
        }
      ],
      "source": [
        "8 < 12  # Menor que"
      ]
    },
    {
      "cell_type": "code",
      "execution_count": 129,
      "metadata": {
        "id": "pdsWACPdgzrm"
      },
      "outputs": [
        {
          "data": {
            "text/plain": [
              "True"
            ]
          },
          "execution_count": 129,
          "metadata": {},
          "output_type": "execute_result"
        }
      ],
      "source": [
        "12 > 7  # Mayor que"
      ]
    },
    {
      "cell_type": "code",
      "execution_count": 130,
      "metadata": {
        "id": "kMhkGDfIgzrm"
      },
      "outputs": [
        {
          "data": {
            "text/plain": [
              "True"
            ]
          },
          "execution_count": 130,
          "metadata": {},
          "output_type": "execute_result"
        }
      ],
      "source": [
        "12 <= 12  # Menor o igual que"
      ]
    },
    {
      "cell_type": "code",
      "execution_count": 131,
      "metadata": {
        "id": "82YlfPAPgzrm"
      },
      "outputs": [
        {
          "data": {
            "text/plain": [
              "False"
            ]
          },
          "execution_count": 131,
          "metadata": {},
          "output_type": "execute_result"
        }
      ],
      "source": [
        "4 >= 5  # Mayor o igual que"
      ]
    },
    {
      "cell_type": "markdown",
      "metadata": {
        "id": "7BJxlsRhgzrm"
      },
      "source": [
        "#### Operadores lógicos"
      ]
    },
    {
      "cell_type": "code",
      "execution_count": 132,
      "metadata": {
        "id": "OMTaHtP6gzrm"
      },
      "outputs": [
        {
          "data": {
            "text/plain": [
              "False"
            ]
          },
          "execution_count": 132,
          "metadata": {},
          "output_type": "execute_result"
        }
      ],
      "source": [
        "5 == 7 and 7 < 12  #False and True"
      ]
    },
    {
      "cell_type": "code",
      "execution_count": 133,
      "metadata": {
        "id": "BU5SSI-Fgzrm"
      },
      "outputs": [
        {
          "data": {
            "text/plain": [
              "True"
            ]
          },
          "execution_count": 133,
          "metadata": {},
          "output_type": "execute_result"
        }
      ],
      "source": [
        "9 < 12 and 12 > 7  # True and True"
      ]
    },
    {
      "cell_type": "code",
      "execution_count": 134,
      "metadata": {
        "id": "xlf3tlYUgzrm"
      },
      "outputs": [
        {
          "data": {
            "text/plain": [
              "False"
            ]
          },
          "execution_count": 134,
          "metadata": {},
          "output_type": "execute_result"
        }
      ],
      "source": [
        "9 < 12 and 12 > 15  # True and False"
      ]
    },
    {
      "cell_type": "code",
      "execution_count": 135,
      "metadata": {
        "id": "0WUOufqxgzrm"
      },
      "outputs": [
        {
          "data": {
            "text/plain": [
              "True"
            ]
          },
          "execution_count": 135,
          "metadata": {},
          "output_type": "execute_result"
        }
      ],
      "source": [
        "12 == 12 or 15 < 7  # True or False"
      ]
    },
    {
      "cell_type": "code",
      "execution_count": 136,
      "metadata": {
        "id": "9dY3LUHXgzrm"
      },
      "outputs": [
        {
          "data": {
            "text/plain": [
              "True"
            ]
          },
          "execution_count": 136,
          "metadata": {},
          "output_type": "execute_result"
        }
      ],
      "source": [
        "7 > 5 or 9 < 12  # True or True"
      ]
    },
    {
      "cell_type": "code",
      "execution_count": 137,
      "metadata": {
        "id": "KHcgjYFLgzrm",
        "scrolled": true
      },
      "outputs": [
        {
          "data": {
            "text/plain": [
              "False"
            ]
          },
          "execution_count": 137,
          "metadata": {},
          "output_type": "execute_result"
        }
      ],
      "source": [
        "12 == 13 or 15 < 7  # False or False"
      ]
    },
    {
      "cell_type": "markdown",
      "metadata": {
        "id": "xigZHzTMgzrn"
      },
      "source": [
        "### Datos String"
      ]
    },
    {
      "cell_type": "code",
      "execution_count": 138,
      "metadata": {
        "id": "tPF9EN7Zgzrn"
      },
      "outputs": [
        {
          "data": {
            "text/plain": [
              "'Hola Data Science - FUTURA'"
            ]
          },
          "execution_count": 138,
          "metadata": {},
          "output_type": "execute_result"
        }
      ],
      "source": [
        "'Hola Data Science - FUTURA'"
      ]
    },
    {
      "cell_type": "code",
      "execution_count": 139,
      "metadata": {
        "id": "IXMI_t1qgzrn"
      },
      "outputs": [
        {
          "data": {
            "text/plain": [
              "'Hola Data Science - FUTURA'"
            ]
          },
          "execution_count": 139,
          "metadata": {},
          "output_type": "execute_result"
        }
      ],
      "source": [
        "\"Hola Data Science - FUTURA\""
      ]
    },
    {
      "cell_type": "code",
      "execution_count": 140,
      "metadata": {
        "id": "hIHPB9BYgzrn"
      },
      "outputs": [
        {
          "data": {
            "text/plain": [
              "'Este texto incluye unas  '"
            ]
          },
          "execution_count": 140,
          "metadata": {},
          "output_type": "execute_result"
        }
      ],
      "source": [
        "'Este texto incluye unas ' ' '"
      ]
    },
    {
      "cell_type": "code",
      "execution_count": 141,
      "metadata": {
        "id": "qNp_tqF0gzrn"
      },
      "outputs": [
        {
          "data": {
            "text/plain": [
              "'Este texto incluye unas \" \" '"
            ]
          },
          "execution_count": 141,
          "metadata": {},
          "output_type": "execute_result"
        }
      ],
      "source": [
        "'Este texto incluye unas \" \" '"
      ]
    },
    {
      "cell_type": "code",
      "execution_count": 142,
      "metadata": {
        "id": "yhWax_l8gzrn"
      },
      "outputs": [
        {
          "data": {
            "text/plain": [
              "\"Esta 'palabra' se encuentra escrita entre comillas simples\""
            ]
          },
          "execution_count": 142,
          "metadata": {},
          "output_type": "execute_result"
        }
      ],
      "source": [
        "\"Esta 'palabra' se encuentra escrita entre comillas simples\""
      ]
    },
    {
      "cell_type": "code",
      "execution_count": 143,
      "metadata": {
        "id": "XtDKSm5Ygzrn"
      },
      "outputs": [
        {
          "data": {
            "text/plain": [
              "'Esta \"palabra\" se encuentra escrita entre comillas dobles'"
            ]
          },
          "execution_count": 143,
          "metadata": {},
          "output_type": "execute_result"
        }
      ],
      "source": [
        "# \\ es conocido el operador skip: permite volver literal un operador\n",
        "\"Esta \\\"palabra\\\" se encuentra escrita entre comillas dobles\""
      ]
    },
    {
      "cell_type": "code",
      "execution_count": 144,
      "metadata": {
        "id": "WwMUPooggzrn"
      },
      "outputs": [
        {
          "data": {
            "text/plain": [
              "\"Esta 'palabra' se encuentra escrita entre comillas simples\""
            ]
          },
          "execution_count": 144,
          "metadata": {},
          "output_type": "execute_result"
        }
      ],
      "source": [
        "'Esta \\'palabra\\' se encuentra escrita entre comillas simples'"
      ]
    },
    {
      "cell_type": "code",
      "execution_count": 145,
      "metadata": {
        "id": "Rz_cQEi1PSQw"
      },
      "outputs": [],
      "source": [
        "s1 = 'Hola, soy un string.'\n",
        "s2 = \"Yo también\""
      ]
    },
    {
      "cell_type": "code",
      "execution_count": 146,
      "metadata": {
        "id": "Mc0BhMD_gzrn"
      },
      "outputs": [
        {
          "data": {
            "text/plain": [
              "'Hola, soy un string.'"
            ]
          },
          "execution_count": 146,
          "metadata": {},
          "output_type": "execute_result"
        }
      ],
      "source": [
        "s1"
      ]
    },
    {
      "cell_type": "code",
      "execution_count": 147,
      "metadata": {
        "id": "5mIvqhi0P1xd",
        "scrolled": true
      },
      "outputs": [
        {
          "data": {
            "text/plain": [
              "str"
            ]
          },
          "execution_count": 147,
          "metadata": {},
          "output_type": "execute_result"
        }
      ],
      "source": [
        "type(s2)"
      ]
    },
    {
      "cell_type": "markdown",
      "metadata": {
        "id": "S0Xuw1NVRbu8"
      },
      "source": [
        "## Casting de datos\n",
        "\n",
        "Es la operación de cambio de tipo de dato entre variables:\n",
        "- De int a float\n",
        "- De int a str\n",
        "- De float a str\n",
        "- Viceversa\n",
        "\n",
        "Tener en cuenta que un str se puede convertir a número (int o float) siempre que no tenga otros caracteres, es decir, solo puede estar compuesto por dígitos.\n"
      ]
    },
    {
      "cell_type": "code",
      "execution_count": 148,
      "metadata": {
        "id": "r9D-S2JdREhm"
      },
      "outputs": [
        {
          "data": {
            "text/plain": [
              "25"
            ]
          },
          "execution_count": 148,
          "metadata": {},
          "output_type": "execute_result"
        }
      ],
      "source": [
        "a"
      ]
    },
    {
      "cell_type": "code",
      "execution_count": 149,
      "metadata": {
        "id": "G_9yzswYRkZE"
      },
      "outputs": [
        {
          "data": {
            "text/plain": [
              "25.0"
            ]
          },
          "execution_count": 149,
          "metadata": {},
          "output_type": "execute_result"
        }
      ],
      "source": [
        "#De int a float\n",
        "\n",
        "float(a)"
      ]
    },
    {
      "cell_type": "code",
      "execution_count": 150,
      "metadata": {
        "id": "VKg8Loj-gzro"
      },
      "outputs": [],
      "source": [
        "a = float(a)"
      ]
    },
    {
      "cell_type": "code",
      "execution_count": 151,
      "metadata": {
        "id": "o7IBGujjgzro"
      },
      "outputs": [
        {
          "data": {
            "text/plain": [
              "float"
            ]
          },
          "execution_count": 151,
          "metadata": {},
          "output_type": "execute_result"
        }
      ],
      "source": [
        "type(a)"
      ]
    },
    {
      "cell_type": "code",
      "execution_count": 152,
      "metadata": {
        "id": "-Bkm40ylgzro"
      },
      "outputs": [],
      "source": [
        "a = int(a)"
      ]
    },
    {
      "cell_type": "code",
      "execution_count": 153,
      "metadata": {
        "id": "cSkWdkP7gzro"
      },
      "outputs": [
        {
          "data": {
            "text/plain": [
              "int"
            ]
          },
          "execution_count": 153,
          "metadata": {},
          "output_type": "execute_result"
        }
      ],
      "source": [
        "type(a)"
      ]
    },
    {
      "cell_type": "code",
      "execution_count": 154,
      "metadata": {
        "id": "Jcp9DXroRtXk"
      },
      "outputs": [
        {
          "data": {
            "text/plain": [
              "'25'"
            ]
          },
          "execution_count": 154,
          "metadata": {},
          "output_type": "execute_result"
        }
      ],
      "source": [
        "#De int a str\n",
        "\n",
        "str(a)"
      ]
    },
    {
      "cell_type": "code",
      "execution_count": 155,
      "metadata": {
        "id": "6PA9hicfRxQY"
      },
      "outputs": [],
      "source": [
        "s1 = \"Hola\""
      ]
    },
    {
      "cell_type": "code",
      "execution_count": 156,
      "metadata": {
        "id": "unNVJh8lR3LT"
      },
      "outputs": [],
      "source": [
        "#Error, no se puede convertir a int\n",
        "\n",
        "#int(s1)"
      ]
    },
    {
      "cell_type": "code",
      "execution_count": 194,
      "metadata": {
        "id": "7K9SqXaPR5Fe"
      },
      "outputs": [
        {
          "data": {
            "text/plain": [
              "35"
            ]
          },
          "execution_count": 194,
          "metadata": {},
          "output_type": "execute_result"
        }
      ],
      "source": [
        "#Solicitamos la edad y convertimos a int, puesto que la función input() siempre devuelve un str\n",
        "\n",
        "edad = int(input(\"Ingrese la edad: \"))\n",
        "edad"
      ]
    },
    {
      "cell_type": "code",
      "execution_count": 195,
      "metadata": {
        "id": "ZTbOUXmagzrp"
      },
      "outputs": [
        {
          "data": {
            "text/plain": [
              "int"
            ]
          },
          "execution_count": 195,
          "metadata": {},
          "output_type": "execute_result"
        }
      ],
      "source": [
        "type(edad)"
      ]
    },
    {
      "cell_type": "code",
      "execution_count": 196,
      "metadata": {
        "id": "4eMrsQX_SDcP"
      },
      "outputs": [
        {
          "data": {
            "text/plain": [
              "40"
            ]
          },
          "execution_count": 196,
          "metadata": {},
          "output_type": "execute_result"
        }
      ],
      "source": [
        "edad + 5"
      ]
    },
    {
      "cell_type": "markdown",
      "metadata": {
        "id": "zZsrBZNjgzrp"
      },
      "source": [
        "Calcular el producto de 444...444 (150 dígitos) por 777...777 (300 dígitos). Sin escribir el número completo."
      ]
    },
    {
      "cell_type": "code",
      "execution_count": 161,
      "metadata": {
        "id": "MwzWQX6sgzrp"
      },
      "outputs": [
        {
          "data": {
            "text/plain": [
              "345679012345679012345679012345679012345679012345679012345679012345679012345679012345679012345679012345679012345679012345679012345679012345679012345678666666666666666666666666666666666666666666666666666666666666666666666666666666666666666666666666666666666666666666666666666666666666666666666666666666320987654320987654320987654320987654320987654320987654320987654320987654320987654320987654320987654320987654320987654320987654320987654320987654320988"
            ]
          },
          "execution_count": 161,
          "metadata": {},
          "output_type": "execute_result"
        }
      ],
      "source": [
        "int('4' * 150) * int('7' * 300)"
      ]
    },
    {
      "cell_type": "markdown",
      "metadata": {
        "id": "T7pJj4JZgzrp"
      },
      "source": [
        "1. Se replica el string '4' 150 veces.\n",
        "2. Se convierte ese string de 150 caracteres a un entero con la operación de cast.\n",
        "3. Se realiza el mismo proceso con el string '7'.\n",
        "4. Se realiza el cálculo de la multiplicación sin problemas, ambos son enteros."
      ]
    },
    {
      "cell_type": "markdown",
      "metadata": {
        "id": "p939tgO1gzrp"
      },
      "source": [
        "## Ingreso y Salida de datos"
      ]
    },
    {
      "cell_type": "markdown",
      "metadata": {
        "id": "8teJHfHRgzrp"
      },
      "source": [
        "### Salida de datos: print\n",
        "\n",
        "Es una instrucción que nos permite mostrar correctamente el valor de una cadena (u otros valores/variables) por pantalla."
      ]
    },
    {
      "cell_type": "code",
      "execution_count": 197,
      "metadata": {
        "id": "dhndKjy1gzrp"
      },
      "outputs": [
        {
          "data": {
            "text/plain": [
              "'Pyhton'"
            ]
          },
          "execution_count": 197,
          "metadata": {},
          "output_type": "execute_result"
        }
      ],
      "source": [
        "\"Visual .Net\"\n",
        "'Java'\n",
        "'Pyhton'"
      ]
    },
    {
      "cell_type": "code",
      "execution_count": 163,
      "metadata": {
        "id": "vfVOGEDSgzrp"
      },
      "outputs": [
        {
          "name": "stdout",
          "output_type": "stream",
          "text": [
            "Visual .Net\n",
            "Java\n",
            "Python\n"
          ]
        }
      ],
      "source": [
        "print(\"Visual .Net\")\n",
        "print('Java')\n",
        "print('Python')"
      ]
    },
    {
      "cell_type": "code",
      "execution_count": 164,
      "metadata": {
        "id": "1OaSxqiWgzrp"
      },
      "outputs": [],
      "source": [
        "x = 18\n",
        "y = 30"
      ]
    },
    {
      "cell_type": "code",
      "execution_count": 200,
      "metadata": {
        "id": "ECaHBI3ZHN5A"
      },
      "outputs": [
        {
          "name": "stdout",
          "output_type": "stream",
          "text": [
            "La variable x vale 18\n",
            "La variable x vale 18\n",
            "La variable x vale 18 y la variable y vale:  2\n",
            "la variable x vale: 18 y la variable y vale: 2\n"
          ]
        }
      ],
      "source": [
        "#Mostrar en pantalla: 2 formas\n",
        "\n",
        "print(\"La variable x vale\", x)\n",
        "print(f\"La variable x vale {x}\") \n",
        "print(\"La variable x vale\",x, \"y la variable y vale: \",y)\n",
        "print(f\"la variable x vale: {x} y la variable y vale: {y}\")"
      ]
    },
    {
      "cell_type": "code",
      "execution_count": 166,
      "metadata": {
        "id": "jWZYSL85gzrq"
      },
      "outputs": [
        {
          "name": "stdout",
          "output_type": "stream",
          "text": [
            "Hola como estas\n"
          ]
        }
      ],
      "source": [
        "print('Hola','como','estas')"
      ]
    },
    {
      "cell_type": "code",
      "execution_count": 201,
      "metadata": {
        "id": "9cH64yGjgzrq"
      },
      "outputs": [
        {
          "name": "stdout",
          "output_type": "stream",
          "text": [
            "Hola\n",
            "Hola Mundo\n",
            "Hola***Mundo\n",
            "Hola Mundo***"
          ]
        }
      ],
      "source": [
        "print(\"Hola\")\n",
        "print(\"Hola\",\"Mundo\")\n",
        "print(\"Hola\",\"Mundo\", sep=\"***\")\n",
        "print(\"Hola\",\"Mundo\", end=\"***\")"
      ]
    },
    {
      "cell_type": "code",
      "execution_count": 168,
      "metadata": {
        "id": "wNhyAfuOgzrq"
      },
      "outputs": [
        {
          "name": "stdout",
          "output_type": "stream",
          "text": [
            "Luis tiene 30 años de edad.\n"
          ]
        }
      ],
      "source": [
        "Nombre = \"Luis\"\n",
        "edad = 30\n",
        "print(Nombre, \"tiene\", edad, \"años de edad.\")"
      ]
    },
    {
      "cell_type": "code",
      "execution_count": 169,
      "metadata": {
        "id": "s61BeboIgzrq"
      },
      "outputs": [
        {
          "name": "stdout",
          "output_type": "stream",
          "text": [
            "000Hola\n"
          ]
        }
      ],
      "source": [
        "print(\"000\",\"Hola\", sep = '')"
      ]
    },
    {
      "cell_type": "code",
      "execution_count": 170,
      "metadata": {
        "id": "UFMHN5jTgzrq"
      },
      "outputs": [
        {
          "name": "stdout",
          "output_type": "stream",
          "text": [
            "Luis tiene 30 años de edad.\n"
          ]
        }
      ],
      "source": [
        "# usando operadores de formato\n",
        "print(\"%s tiene %d años de edad.\" %(Nombre, edad))\n",
        "\n",
        "# d, i   Entero\n",
        "# f      Punto flotante como m.ddddd\n",
        "# s      cadena o string"
      ]
    },
    {
      "cell_type": "code",
      "execution_count": 171,
      "metadata": {
        "id": "kU8oUJougzrq"
      },
      "outputs": [
        {
          "name": "stdout",
          "output_type": "stream",
          "text": [
            "Lucas es un alumno de IFB que saco de nota 16.\n"
          ]
        }
      ],
      "source": [
        "print(\"%s es un alumno de %s que saco de nota %d.\" %('Lucas','IFB',16))"
      ]
    },
    {
      "cell_type": "code",
      "execution_count": 172,
      "metadata": {
        "id": "wmKZelNWgzrq"
      },
      "outputs": [
        {
          "name": "stdout",
          "output_type": "stream",
          "text": [
            "El banano cuesta 24 centavos\n",
            "El     banano cuesta 24.00 centavos\n",
            "El     banano cuesta      24.00 centavos\n"
          ]
        }
      ],
      "source": [
        "precio = 24\n",
        "item = \"banano\"\n",
        "print(\"El %s cuesta %d centavos\"%(item,precio))\n",
        "print(\"El %+10s cuesta %5.2f centavos\"%(item,precio))\n",
        "print(\"El %+10s cuesta %10.2f centavos\"%(item,precio))"
      ]
    },
    {
      "cell_type": "code",
      "execution_count": 173,
      "metadata": {
        "id": "V9cytWCLgzrq"
      },
      "outputs": [
        {
          "name": "stdout",
          "output_type": "stream",
          "text": [
            "El banano cuesta    24.0 centavos\n"
          ]
        }
      ],
      "source": [
        "# usando un diccionario de datos\n",
        "\n",
        "diccitem = {\"item\":\"banano\",\"costo\":24}\n",
        "print(\"El %(item)s cuesta %(costo)7.1f centavos\"%diccitem)"
      ]
    },
    {
      "cell_type": "markdown",
      "metadata": {
        "id": "ZQapOw8Wgzrq"
      },
      "source": [
        "#### Asignación múltiple de variables"
      ]
    },
    {
      "cell_type": "code",
      "execution_count": 174,
      "metadata": {
        "id": "5zvDXRXbgzrr"
      },
      "outputs": [],
      "source": [
        "# impresión de datos de diferentes tipos\n",
        "a='string'\n",
        "b=15\n",
        "c=True"
      ]
    },
    {
      "cell_type": "code",
      "execution_count": 175,
      "metadata": {
        "id": "zsretmENgzrr"
      },
      "outputs": [
        {
          "name": "stdout",
          "output_type": "stream",
          "text": [
            "string\n",
            "15\n",
            "True\n"
          ]
        }
      ],
      "source": [
        "print(a)\n",
        "print(b)\n",
        "print(c)"
      ]
    },
    {
      "cell_type": "code",
      "execution_count": 176,
      "metadata": {
        "id": "bJaRnpvMgzrr"
      },
      "outputs": [
        {
          "name": "stdout",
          "output_type": "stream",
          "text": [
            "string 15 True\n"
          ]
        }
      ],
      "source": [
        "a, b, c = 'string', 15, True\n",
        "print(a, b, c)"
      ]
    },
    {
      "cell_type": "markdown",
      "metadata": {
        "id": "QHI0ZO6rgzrr"
      },
      "source": [
        "### Ingreso de datos: input"
      ]
    },
    {
      "cell_type": "code",
      "execution_count": 177,
      "metadata": {
        "id": "dxDqXxDFHYDr"
      },
      "outputs": [],
      "source": [
        "#Solicitar datos desde la pantalla (siempre se almacena siempre como un string)\n",
        "\n",
        "nombre = input()"
      ]
    },
    {
      "cell_type": "code",
      "execution_count": 178,
      "metadata": {
        "id": "Txzidzqsgzrr"
      },
      "outputs": [
        {
          "name": "stdout",
          "output_type": "stream",
          "text": [
            "diego\n"
          ]
        }
      ],
      "source": [
        "print(nombre)"
      ]
    },
    {
      "cell_type": "code",
      "execution_count": 179,
      "metadata": {
        "id": "I8NBvsFBgzrr"
      },
      "outputs": [
        {
          "data": {
            "text/plain": [
              "str"
            ]
          },
          "execution_count": 179,
          "metadata": {},
          "output_type": "execute_result"
        }
      ],
      "source": [
        "type(nombre)"
      ]
    },
    {
      "cell_type": "code",
      "execution_count": 180,
      "metadata": {
        "id": "UDX_5XUcgzrr"
      },
      "outputs": [],
      "source": [
        "# podemos agregarle un mensaje a la hora de ingresar datos\n",
        "\n",
        "nombre = input(\"Por favor ingrese su nombre \")"
      ]
    },
    {
      "cell_type": "code",
      "execution_count": 202,
      "metadata": {
        "id": "nhWb8QVrgzrs"
      },
      "outputs": [
        {
          "name": "stdout",
          "output_type": "stream",
          "text": [
            "33337\n"
          ]
        }
      ],
      "source": [
        "numero = int(input(\"Ingrese un número \"))\n",
        "print(numero)"
      ]
    },
    {
      "cell_type": "code",
      "execution_count": 183,
      "metadata": {
        "id": "hfYlCGJpgzrs"
      },
      "outputs": [
        {
          "data": {
            "text/plain": [
              "int"
            ]
          },
          "execution_count": 183,
          "metadata": {},
          "output_type": "execute_result"
        }
      ],
      "source": [
        "type(numero)"
      ]
    },
    {
      "cell_type": "code",
      "execution_count": 205,
      "metadata": {
        "id": "4dYQEAOOgzrs"
      },
      "outputs": [
        {
          "data": {
            "text/plain": [
              "5645645"
            ]
          },
          "execution_count": 205,
          "metadata": {},
          "output_type": "execute_result"
        }
      ],
      "source": [
        "numero = int(input(\"Ingrese un número \"))\n",
        "numero"
      ]
    },
    {
      "cell_type": "code",
      "execution_count": 206,
      "metadata": {
        "id": "7USqa7jjIVMf"
      },
      "outputs": [
        {
          "ename": "NameError",
          "evalue": "name 'nombre' is not defined",
          "output_type": "error",
          "traceback": [
            "\u001b[1;31m---------------------------------------------------------------------------\u001b[0m",
            "\u001b[1;31mNameError\u001b[0m                                 Traceback (most recent call last)",
            "Cell \u001b[1;32mIn[206], line 3\u001b[0m\n\u001b[0;32m      1\u001b[0m \u001b[38;5;66;03m#Eliminar una variable\u001b[39;00m\n\u001b[1;32m----> 3\u001b[0m \u001b[38;5;28;01mdel\u001b[39;00m \u001b[43mnombre\u001b[49m\n",
            "\u001b[1;31mNameError\u001b[0m: name 'nombre' is not defined"
          ]
        }
      ],
      "source": [
        "#Eliminar una variable\n",
        "\n",
        "del nombre"
      ]
    },
    {
      "cell_type": "code",
      "execution_count": 186,
      "metadata": {
        "id": "08Bg47E4gzrs"
      },
      "outputs": [
        {
          "ename": "NameError",
          "evalue": "name 'nombre' is not defined",
          "output_type": "error",
          "traceback": [
            "\u001b[1;31m---------------------------------------------------------------------------\u001b[0m",
            "\u001b[1;31mNameError\u001b[0m                                 Traceback (most recent call last)",
            "Cell \u001b[1;32mIn[186], line 1\u001b[0m\n\u001b[1;32m----> 1\u001b[0m \u001b[38;5;28mprint\u001b[39m(\u001b[43mnombre\u001b[49m)\n",
            "\u001b[1;31mNameError\u001b[0m: name 'nombre' is not defined"
          ]
        }
      ],
      "source": [
        "print(nombre)"
      ]
    },
    {
      "cell_type": "markdown",
      "metadata": {
        "id": "NdJztvS3gzrs"
      },
      "source": [
        "#### Ejemplos adicionales:"
      ]
    },
    {
      "cell_type": "code",
      "execution_count": 207,
      "metadata": {
        "id": "4dRaDxNXgzrs"
      },
      "outputs": [
        {
          "name": "stdout",
          "output_type": "stream",
          "text": [
            "Me alegro de conocerle, Diego\n"
          ]
        }
      ],
      "source": [
        "nombre = input(\"¿Cómo se llama?\")\n",
        "print(f\"Me alegro de conocerle, {nombre}\")"
      ]
    },
    {
      "cell_type": "markdown",
      "metadata": {
        "id": "C2lNwp4ygzrt"
      },
      "source": [
        "De forma predeterminada, la función input() convierte la entrada en una cadena, aunque escribamos un número. Si intentamos hacer operaciones, se producirá un error."
      ]
    },
    {
      "cell_type": "code",
      "execution_count": 209,
      "metadata": {
        "id": "DJI8lfDOgzrt"
      },
      "outputs": [
        {
          "ename": "TypeError",
          "evalue": "unsupported operand type(s) for /: 'str' and 'float'",
          "output_type": "error",
          "traceback": [
            "\u001b[1;31m---------------------------------------------------------------------------\u001b[0m",
            "\u001b[1;31mTypeError\u001b[0m                                 Traceback (most recent call last)",
            "Cell \u001b[1;32mIn[209], line 2\u001b[0m\n\u001b[0;32m      1\u001b[0m cantidad \u001b[38;5;241m=\u001b[39m \u001b[38;5;28minput\u001b[39m(\u001b[38;5;124m\"\u001b[39m\u001b[38;5;124mDígame una cantidad en pesetas: \u001b[39m\u001b[38;5;124m\"\u001b[39m)\n\u001b[1;32m----> 2\u001b[0m \u001b[38;5;28mprint\u001b[39m(\u001b[38;5;124mf\u001b[39m\u001b[38;5;124m\"\u001b[39m\u001b[38;5;132;01m{\u001b[39;00mcantidad\u001b[38;5;132;01m}\u001b[39;00m\u001b[38;5;124m pesetas son \u001b[39m\u001b[38;5;132;01m{\u001b[39;00m\u001b[38;5;28mround\u001b[39m(\u001b[43mcantidad\u001b[49m\u001b[38;5;250;43m \u001b[39;49m\u001b[38;5;241;43m/\u001b[39;49m\u001b[38;5;250;43m \u001b[39;49m\u001b[38;5;241;43m166.386\u001b[39;49m,\u001b[38;5;250m \u001b[39m\u001b[38;5;241m2\u001b[39m)\u001b[38;5;132;01m}\u001b[39;00m\u001b[38;5;124m euros\u001b[39m\u001b[38;5;124m\"\u001b[39m)\n\u001b[0;32m      4\u001b[0m \u001b[38;5;66;03m# f permite imprimir cadenas formateadas\u001b[39;00m\n",
            "\u001b[1;31mTypeError\u001b[0m: unsupported operand type(s) for /: 'str' and 'float'"
          ]
        }
      ],
      "source": [
        "cantidad = input(\"Dígame una cantidad en pesetas: \")\n",
        "print(f\"{cantidad} pesetas son {round(cantidad / 166.386, 2)} euros\")\n",
        "\n",
        "# f permite imprimir cadenas formateadas"
      ]
    },
    {
      "cell_type": "markdown",
      "metadata": {
        "id": "82Xnq1QYgzrt"
      },
      "source": [
        "Si se quiere que Python interprete la entrada como un número entero, se debe utilizar la función int() de la siguiente manera:"
      ]
    },
    {
      "cell_type": "code",
      "execution_count": 210,
      "metadata": {
        "id": "p3BW8Ax7gzrt"
      },
      "outputs": [
        {
          "name": "stdout",
          "output_type": "stream",
          "text": [
            "435 pesetas son 2.61 euros\n"
          ]
        }
      ],
      "source": [
        "cantidad = int(input(\"Dígame una cantidad en pesetas: \"))\n",
        "print(f\"{cantidad} pesetas son {round(cantidad / 166.386, 2)} euros\")"
      ]
    },
    {
      "cell_type": "code",
      "execution_count": 211,
      "metadata": {
        "id": "IJyDcGt_gzrt"
      },
      "outputs": [
        {
          "name": "stdout",
          "output_type": "stream",
          "text": [
            "565 soles son 137.8 dolares\n"
          ]
        }
      ],
      "source": [
        "cantidad = int(input(\"Dígame una cantidad en soles: \"))\n",
        "print(f\"{cantidad} soles son {round(cantidad / 4.10, 2)} dolares\")"
      ]
    },
    {
      "cell_type": "markdown",
      "metadata": {
        "id": "dB83w0Wdgzrt"
      },
      "source": [
        "De la misma manera, para que Python interprete la entrada como un número decimal, se debe utilizar la función float() de la siguiente manera:"
      ]
    },
    {
      "cell_type": "code",
      "execution_count": 212,
      "metadata": {
        "id": "2ZRl74Mkgzrt"
      },
      "outputs": [
        {
          "name": "stdout",
          "output_type": "stream",
          "text": [
            "45.6 euros son 7587 pesetas\n"
          ]
        }
      ],
      "source": [
        "cantidad = float(input(\"Dígame una cantidad en euros (hasta con 2 decimales): \"))\n",
        "print(f\"{cantidad} euros son {round(cantidad * 166.386)} pesetas\")"
      ]
    },
    {
      "cell_type": "markdown",
      "metadata": {
        "id": "9gW1rHR-gzrt"
      },
      "source": [
        "La función input() sólo puede tener un argumento:"
      ]
    },
    {
      "cell_type": "code",
      "execution_count": 213,
      "metadata": {
        "id": "w5ybhv7_gzrt"
      },
      "outputs": [
        {
          "name": "stdout",
          "output_type": "stream",
          "text": [
            "Me alegro de conocerle, Diego Suarez.\n"
          ]
        }
      ],
      "source": [
        "nombre = input(\"Dígame su nombre: \")\n",
        "apellido = input(f\"Dígame su apellido, {nombre}: \")\n",
        "print(f\"Me alegro de conocerle, {nombre} {apellido}.\")"
      ]
    },
    {
      "cell_type": "code",
      "execution_count": 214,
      "metadata": {
        "id": "FlEJXtNXgzrt"
      },
      "outputs": [
        {
          "name": "stdout",
          "output_type": "stream",
          "text": [
            "La diferencia entre ellos es 111.\n"
          ]
        }
      ],
      "source": [
        "numero1 = int(input(\"Dígame un número: \"))\n",
        "numero2 = int(input(f\"Dígame un número mayor que {numero1}: \"))\n",
        "print(f\"La diferencia entre ellos es {numero2 - numero1}.\")"
      ]
    },
    {
      "cell_type": "markdown",
      "metadata": {
        "id": "fH5VFoIGNm1Y"
      },
      "source": [
        "## Importación de librerías"
      ]
    },
    {
      "cell_type": "code",
      "execution_count": 215,
      "metadata": {
        "id": "mhUNmByjFn8p"
      },
      "outputs": [],
      "source": [
        "#importar toda la librería con sus funciones\n",
        "import numpy as np"
      ]
    },
    {
      "cell_type": "code",
      "execution_count": 216,
      "metadata": {
        "id": "iqYI-YaCgzru"
      },
      "outputs": [],
      "source": [
        "#sólo importar la(s) funcion(es) que se seleccionen de una determinada libería\n",
        "from numpy import sqrt as raiz"
      ]
    },
    {
      "cell_type": "code",
      "execution_count": 217,
      "metadata": {
        "id": "QxQuo7UGOAGe"
      },
      "outputs": [
        {
          "data": {
            "text/plain": [
              "3.8501476017100584"
            ]
          },
          "execution_count": 217,
          "metadata": {},
          "output_type": "execute_result"
        }
      ],
      "source": [
        "#Llamando a la función log que se encuentra en numpy (alias np)\n",
        "np.log(47)"
      ]
    },
    {
      "cell_type": "code",
      "execution_count": 218,
      "metadata": {
        "id": "_91o2DdDOad4"
      },
      "outputs": [
        {
          "data": {
            "text/plain": [
              "10.0"
            ]
          },
          "execution_count": 218,
          "metadata": {},
          "output_type": "execute_result"
        }
      ],
      "source": [
        "#Llamando a la función sqrt con el alias de raiz (declarado en la importación de librerías)\n",
        "raiz(100)"
      ]
    },
    {
      "cell_type": "code",
      "execution_count": 219,
      "metadata": {
        "id": "_ZHycit2gzru"
      },
      "outputs": [
        {
          "data": {
            "text/plain": [
              "10.0"
            ]
          },
          "execution_count": 219,
          "metadata": {},
          "output_type": "execute_result"
        }
      ],
      "source": [
        "np.sqrt(100)"
      ]
    },
    {
      "cell_type": "code",
      "execution_count": 220,
      "metadata": {
        "id": "eI9f1jddgzru"
      },
      "outputs": [],
      "source": [
        "# asignación de una función a una variable (renombrar una función)\n",
        "a = np.sqrt"
      ]
    },
    {
      "cell_type": "code",
      "execution_count": 221,
      "metadata": {
        "id": "KqQwiI6ogzru"
      },
      "outputs": [
        {
          "data": {
            "text/plain": [
              "10.0"
            ]
          },
          "execution_count": 221,
          "metadata": {},
          "output_type": "execute_result"
        }
      ],
      "source": [
        "a(100)"
      ]
    },
    {
      "cell_type": "code",
      "execution_count": 222,
      "metadata": {
        "id": "iz4kCNXVgzru"
      },
      "outputs": [
        {
          "ename": "SyntaxError",
          "evalue": "invalid syntax (3723200783.py, line 3)",
          "output_type": "error",
          "traceback": [
            "\u001b[1;36m  Cell \u001b[1;32mIn[222], line 3\u001b[1;36m\u001b[0m\n\u001b[1;33m    pip install pydataset\u001b[0m\n\u001b[1;37m        ^\u001b[0m\n\u001b[1;31mSyntaxError\u001b[0m\u001b[1;31m:\u001b[0m invalid syntax\n"
          ]
        }
      ],
      "source": [
        "# instalación de una librería en jupyther notebook\n",
        "#!pip install pydataset\n",
        "pip install pydataset"
      ]
    }
  ],
  "metadata": {
    "colab": {
      "collapsed_sections": [
        "cKKJMN37Ettq",
        "fH5VFoIGNm1Y",
        "MffM1qeQPtqV",
        "jjUhPKW0UICg",
        "TxYDSkblYp6c"
      ],
      "provenance": []
    },
    "kernelspec": {
      "display_name": "Python 3 (ipykernel)",
      "language": "python",
      "name": "python3"
    },
    "language_info": {
      "codemirror_mode": {
        "name": "ipython",
        "version": 3
      },
      "file_extension": ".py",
      "mimetype": "text/x-python",
      "name": "python",
      "nbconvert_exporter": "python",
      "pygments_lexer": "ipython3",
      "version": "3.12.2"
    }
  },
  "nbformat": 4,
  "nbformat_minor": 0
}
