{
 "cells": [
  {
   "cell_type": "markdown",
   "metadata": {},
   "source": [
    "# <u>Estructuras de datos en Python</u>"
   ]
  },
  {
   "cell_type": "markdown",
   "metadata": {},
   "source": [
    "### **1. Listas**"
   ]
  },
  {
   "cell_type": "markdown",
   "metadata": {
    "collapsed": true
   },
   "source": [
    "Las listas de Python son contenedores que tienen una cantidad de otros objetos en un orden dado. Para crear una lista, simplemente coloca diferentes valores separados por comas entre corchetes:"
   ]
  },
  {
   "cell_type": "code",
   "execution_count": 1,
   "metadata": {},
   "outputs": [
    {
     "data": {
      "text/plain": [
       "['cadena de texto', 15, 2.8, 'otro dato', 25]"
      ]
     },
     "execution_count": 1,
     "metadata": {},
     "output_type": "execute_result"
    }
   ],
   "source": [
    "lista_1 = ['cadena de texto', 15, 2.8, 'otro dato', 25]\n",
    "lista_1"
   ]
  },
  {
   "cell_type": "code",
   "execution_count": 2,
   "metadata": {},
   "outputs": [
    {
     "name": "stdout",
     "output_type": "stream",
     "text": [
      "[15, 2.8, 'otro dato']\n",
      "['otro dato', 25]\n",
      "['cadena de texto', 15]\n",
      "['cadena de texto', 15, 2.8, 'otro dato', 25]\n",
      "['cadena de texto', 15, 2.8, 'otro dato', 25]\n"
     ]
    }
   ],
   "source": [
    "print(lista_1[1:4])\n",
    "print(lista_1[3:])\n",
    "print(lista_1[:2])\n",
    "print(lista_1[:])\n",
    "print(lista_1)"
   ]
  },
  {
   "cell_type": "markdown",
   "metadata": {},
   "source": [
    "Las listas también se pueden crear usando el constructor de la clase, list(iterable). En este caso, el constructor crea una lista cuyos elementos son los mismos y están en el mismo orden que los ítems del iterable.\n",
    "\n",
    "Por ejemplo, el tipo str también es un tipo secuencia. Si pasamos un string al constructor list() creará una lista cuyos elementos son cada uno de los caracteres de la cadena:"
   ]
  },
  {
   "cell_type": "code",
   "execution_count": 3,
   "metadata": {},
   "outputs": [
    {
     "data": {
      "text/plain": [
       "['M', 'e', 'd', 'i', 'c', 'i', 'n', 'a']"
      ]
     },
     "execution_count": 3,
     "metadata": {},
     "output_type": "execute_result"
    }
   ],
   "source": [
    "letras = list('Medicina')\n",
    "letras"
   ]
  },
  {
   "cell_type": "markdown",
   "metadata": {},
   "source": [
    "Las listas son mutables."
   ]
  },
  {
   "cell_type": "code",
   "execution_count": 4,
   "metadata": {},
   "outputs": [
    {
     "name": "stdout",
     "output_type": "stream",
     "text": [
      "['cadena de texto', 15, 4.5, 'otro dato', 25]\n"
     ]
    }
   ],
   "source": [
    "lista_1[2] = 4.5  # el tercer elemento ahora es 4.5\n",
    "print(lista_1)"
   ]
  },
  {
   "cell_type": "code",
   "execution_count": null,
   "metadata": {},
   "outputs": [],
   "source": [
    "dir(lista_1)"
   ]
  },
  {
   "cell_type": "code",
   "execution_count": null,
   "metadata": {},
   "outputs": [],
   "source": [
    "lista_1.append('Nuevo Dato')"
   ]
  },
  {
   "cell_type": "markdown",
   "metadata": {},
   "source": [
    "Se pueden agregar nuevos valores al final con append"
   ]
  },
  {
   "cell_type": "code",
   "execution_count": null,
   "metadata": {},
   "outputs": [],
   "source": [
    "print(lista_1)"
   ]
  },
  {
   "cell_type": "markdown",
   "metadata": {},
   "source": [
    "**pop()** permite extraer y eliminar el último elemento de una lista de manera permanente. Este elemento se puede almancenar en una variable. Se puede escoger otro elemento de la lista con el índice usando **pop(i)**"
   ]
  },
  {
   "cell_type": "code",
   "execution_count": null,
   "metadata": {},
   "outputs": [],
   "source": [
    "a = lista_1.pop()\n",
    "print(a)\n",
    "print(type(a))\n",
    "print(lista_1)"
   ]
  },
  {
   "cell_type": "markdown",
   "metadata": {},
   "source": [
    "Otro ejemplo:"
   ]
  },
  {
   "cell_type": "code",
   "execution_count": null,
   "metadata": {},
   "outputs": [],
   "source": [
    "list1 = ['student', 'teacher', 1997, 2000]\n",
    "print (list1)\n",
    "list2 = [1, 2, 3, 4, 5 ]\n",
    "print (list2)\n",
    "list3 = [\"a\", \"b\", \"c\", \"d\"]\n",
    "print (list3)"
   ]
  },
  {
   "cell_type": "markdown",
   "metadata": {
    "collapsed": true
   },
   "source": [
    "Para revisar el valor de un elemento de la lista, indique entre corchetes el índice (o índices) para obtener el valor (o valores) en esa posición (posiciones).\n",
    "\n",
    "Ejecuta el fragmento de código a continuación e intente adivinar cuál será el resultado de cada comando:\n",
    "\n",
    "**Nota:** ¡La indexación de Python comienza desde 0 y el último valor en un rango no se usa!"
   ]
  },
  {
   "cell_type": "code",
   "execution_count": null,
   "metadata": {},
   "outputs": [],
   "source": [
    "print (list1[0])\n",
    "print (list2[2:4])\n",
    "print (list3[len(list3)-1])  # negative indices must be avoided, just be aware that Python may not produce an error\n",
    "print (list3[-1])"
   ]
  },
  {
   "cell_type": "markdown",
   "metadata": {},
   "source": [
    "Se puede acceder a los elementos de estos tipos usando índices compuestos o anidados:"
   ]
  },
  {
   "cell_type": "code",
   "execution_count": null,
   "metadata": {},
   "outputs": [],
   "source": [
    "lista = ['a', ['d', 'b'], 'z']"
   ]
  },
  {
   "cell_type": "code",
   "execution_count": null,
   "metadata": {},
   "outputs": [],
   "source": [
    "lista[1]  # lista[1] hace referencia a la lista anidada"
   ]
  },
  {
   "cell_type": "code",
   "execution_count": null,
   "metadata": {},
   "outputs": [],
   "source": [
    "lista[1][1]  # lista[1] hace referencia a la lista anidada"
   ]
  },
  {
   "cell_type": "code",
   "execution_count": null,
   "metadata": {},
   "outputs": [],
   "source": [
    "listado = ['hola','adios']"
   ]
  },
  {
   "cell_type": "code",
   "execution_count": null,
   "metadata": {},
   "outputs": [],
   "source": [
    "listado[1][2]"
   ]
  },
  {
   "cell_type": "markdown",
   "metadata": {
    "collapsed": true
   },
   "source": [
    "Para agregar elementos en una lista, puede usar el método `append()` y para eliminarlos el método `remove()`.<br>\n",
    "Las listas también se pueden agregar directamente, con el mismo efecto de `append()`.<br>\n",
    "El método `reverse()` puedes usar para obtener la lista en orden inverso:"
   ]
  },
  {
   "cell_type": "code",
   "execution_count": null,
   "metadata": {},
   "outputs": [],
   "source": [
    "list1 = ['student', 'teacher', 1997, 2000,'teacher']\n",
    "print (list1)\n",
    "print ('---------------------------------------')\n",
    "list1.append(3) # agregado permanente o definitivo\n",
    "print (list1)\n",
    "list1.remove('teacher')\n",
    "print ('---------------------------------------')\n",
    "print (list1)\n",
    "print ('---------------------------------------')\n",
    "print (list1 + list2)    \n",
    "print ('---------------------------------------')\n",
    "print (list1 + ['end of list'])\n",
    "print ('---------------------------------------')\n",
    "list1.reverse() # inversión permanente o definitivo\n",
    "print(list1)"
   ]
  },
  {
   "cell_type": "code",
   "execution_count": null,
   "metadata": {},
   "outputs": [],
   "source": [
    "#list1.insert(0,'Juan')\n",
    "#list1.append('Juan')\n",
    "#list1.remove('Juan')\n",
    "#list1.pop(0)"
   ]
  },
  {
   "cell_type": "code",
   "execution_count": null,
   "metadata": {},
   "outputs": [],
   "source": [
    "list1"
   ]
  },
  {
   "cell_type": "code",
   "execution_count": null,
   "metadata": {},
   "outputs": [],
   "source": [
    "# crear una nueva lista a partir de otras\n",
    "lista_fin = list1 + ['end of list']\n",
    "print(lista_fin)"
   ]
  },
  {
   "cell_type": "code",
   "execution_count": null,
   "metadata": {},
   "outputs": [],
   "source": [
    "vocales = ['a']\n",
    "vocales.append('e')  # Añade un elemento\n",
    "vocales"
   ]
  },
  {
   "cell_type": "code",
   "execution_count": null,
   "metadata": {},
   "outputs": [],
   "source": [
    "vocales.extend(['i', 'o', 'u'])  # Añade un grupo de elementos\n",
    "vocales"
   ]
  },
  {
   "cell_type": "code",
   "execution_count": null,
   "metadata": {},
   "outputs": [],
   "source": [
    "lista_1 = [1, 2, 3]\n",
    "lista_2 = [4, 5, 6]\n",
    "nueva_lista = lista_1 + lista_2\n",
    "nueva_lista"
   ]
  },
  {
   "cell_type": "code",
   "execution_count": null,
   "metadata": {},
   "outputs": [],
   "source": [
    "numeros = [1, 2, 3]\n",
    "numeros *= 5 # equivalente a numeros = numeros * 5\n",
    "numeros"
   ]
  },
  {
   "cell_type": "markdown",
   "metadata": {
    "collapsed": true
   },
   "source": [
    "Otras funciones útiles son:\n",
    "\n",
    "* `len(list):` devuelve el número de elementos en una lista.\n",
    "* `max (list):` Devuelve el elemento de la lista con el valor máximo.\n",
    "* `min (list):` Devuelve el elemento de la lista con el valor mínimo."
   ]
  },
  {
   "cell_type": "code",
   "execution_count": null,
   "metadata": {},
   "outputs": [],
   "source": [
    "list2 = [1, 2, 3, 4, 5]\n",
    "print (len(list2))\n",
    "print (max(list2))\n",
    "print (min(list2))\n",
    "print(list2[3])"
   ]
  },
  {
   "cell_type": "markdown",
   "metadata": {},
   "source": [
    "`insert()` permite insertar un nuevo elemento en una lista en una posición determinada:"
   ]
  },
  {
   "cell_type": "code",
   "execution_count": null,
   "metadata": {},
   "outputs": [],
   "source": [
    "print(list2)\n",
    "print ('---------------------------------------')\n",
    "print(len(list2))\n",
    "print ('---------------------------------------')\n",
    "list2.insert(0,10)\n",
    "print(list2)\n",
    "print ('---------------------------------------')\n",
    "print(len(list2))\n",
    "print ('---------------------------------------')\n",
    "list2.insert(1,'uno')\n",
    "print(list2)\n",
    "print ('---------------------------------------')\n",
    "print(len(list2))"
   ]
  },
  {
   "cell_type": "markdown",
   "metadata": {},
   "source": [
    "#### Ordenar una lista"
   ]
  },
  {
   "cell_type": "code",
   "execution_count": null,
   "metadata": {},
   "outputs": [],
   "source": [
    "list3 = [42, 23, 34, 65, 59 ]\n",
    "list3.sort()\n",
    "print(list3)"
   ]
  },
  {
   "cell_type": "code",
   "execution_count": null,
   "metadata": {},
   "outputs": [],
   "source": [
    "#ordenar en orden descendente\n",
    "list3.sort(reverse = True)\n",
    "print(list3)"
   ]
  },
  {
   "cell_type": "code",
   "execution_count": null,
   "metadata": {},
   "outputs": [],
   "source": [
    "type(list3)"
   ]
  },
  {
   "cell_type": "code",
   "execution_count": null,
   "metadata": {},
   "outputs": [],
   "source": [
    "#ver la posición de cierto elemento en una lista\n",
    "list3.index(34)   # en la cuarta posición"
   ]
  },
  {
   "cell_type": "code",
   "execution_count": null,
   "metadata": {},
   "outputs": [],
   "source": [
    "list3.index(min(list3)) # busqueda del minimo elemento"
   ]
  },
  {
   "cell_type": "markdown",
   "metadata": {},
   "source": [
    "### **2. Tuplas**\n",
    "\n",
    "En la práctica, son listas inmutables.\n",
    "\n",
    "Las tuplas no tienen los métodos append(), extend(), insert(), remove() y pop()"
   ]
  },
  {
   "cell_type": "code",
   "execution_count": null,
   "metadata": {},
   "outputs": [],
   "source": [
    "tupla_1 = ('cadena de texto', 15, 2.8, 'otro dato', 25)"
   ]
  },
  {
   "cell_type": "code",
   "execution_count": null,
   "metadata": {},
   "outputs": [],
   "source": [
    "print(tupla_1)\n",
    "type(tupla_1)"
   ]
  },
  {
   "cell_type": "code",
   "execution_count": null,
   "metadata": {},
   "outputs": [],
   "source": [
    "12,25,35,89"
   ]
  },
  {
   "cell_type": "code",
   "execution_count": null,
   "metadata": {},
   "outputs": [],
   "source": [
    "a,b,c = 25,35,56"
   ]
  },
  {
   "cell_type": "code",
   "execution_count": null,
   "metadata": {},
   "outputs": [],
   "source": [
    "a,b,c"
   ]
  },
  {
   "cell_type": "markdown",
   "metadata": {},
   "source": [
    "Las tuplas son inmutables (no se puede modificar una vez creado)\n",
    "\n",
    "IMPORTANTE: El hecho que determina que una secuencia de elementos sea una tupla es la coma , no los paréntesis. Los paréntesis son opcionales y solo se necesitan para crear una tupla vacía o para evitar ambigüedades."
   ]
  },
  {
   "cell_type": "code",
   "execution_count": null,
   "metadata": {},
   "outputs": [],
   "source": [
    "tupla_1[0]"
   ]
  },
  {
   "cell_type": "code",
   "execution_count": null,
   "metadata": {},
   "outputs": [],
   "source": [
    "tupla_1[0] = 'otro valor'"
   ]
  },
  {
   "cell_type": "code",
   "execution_count": null,
   "metadata": {},
   "outputs": [],
   "source": [
    "print(tupla_1[0])"
   ]
  },
  {
   "cell_type": "markdown",
   "metadata": {},
   "source": [
    "Se puede acceder a cada elemento según su posición iniciando siempre en 0"
   ]
  },
  {
   "cell_type": "code",
   "execution_count": null,
   "metadata": {},
   "outputs": [],
   "source": [
    "print(tupla_1)\n",
    "print(tupla_1[1:4])\n",
    "print(tupla_1[3:])\n",
    "print(tupla_1[:2])\n",
    "print(tupla_1[:])"
   ]
  },
  {
   "cell_type": "markdown",
   "metadata": {},
   "source": [
    "Se puede acceder a una porción de la tupla indicando (opcionalmente) el índice de inicio hasta el de fin"
   ]
  },
  {
   "cell_type": "code",
   "execution_count": null,
   "metadata": {},
   "outputs": [],
   "source": [
    "print(tupla_1[-1])\n",
    "print(tupla_1[-2])"
   ]
  },
  {
   "cell_type": "markdown",
   "metadata": {},
   "source": [
    "Se puede acceder a la tupla de forma inversa (de atrás hacia adelante), es colocando un índice negativo"
   ]
  },
  {
   "cell_type": "markdown",
   "metadata": {},
   "source": [
    "#### tuple unpacking (desempaquetado de una tupla). \n",
    "Realmente el unpacking se puede aplicar sobre cualquier objeto de tipo secuencia, aunque se usa mayoritariamente con las tuplas, y consiste en lo siguiente:"
   ]
  },
  {
   "cell_type": "code",
   "execution_count": null,
   "metadata": {},
   "outputs": [],
   "source": [
    "bebidas = 'agua', 'café', 'batido'\n",
    "print(bebidas)\n",
    "a, b, c = bebidas  #desempaquetado de tuplas\n",
    "print(a)\n",
    "print(b)\n",
    "print(c)"
   ]
  },
  {
   "cell_type": "markdown",
   "metadata": {},
   "source": [
    "#### Modificar una tupla en Python\n",
    "Como te he indicado, las tuplas son objetos inmutables. No obstante, las tuplas pueden contener objetos u otros elementos de tipo secuencia, por ejemplo, una lista. Estos objetos, si son mutables, sí se pueden modificar:"
   ]
  },
  {
   "cell_type": "code",
   "execution_count": null,
   "metadata": {},
   "outputs": [],
   "source": [
    "tupla = (1, ['a', 'b'], 'hola', 8.2)\n",
    "tupla"
   ]
  },
  {
   "cell_type": "code",
   "execution_count": null,
   "metadata": {},
   "outputs": [],
   "source": [
    "tupla[1]"
   ]
  },
  {
   "cell_type": "code",
   "execution_count": null,
   "metadata": {},
   "outputs": [],
   "source": [
    "tupla[1].append('c')  # tupla[1] hace referencia a la lista\n",
    "tupla"
   ]
  },
  {
   "cell_type": "markdown",
   "metadata": {},
   "source": [
    "### **3. Diccionarios**"
   ]
  },
  {
   "cell_type": "markdown",
   "metadata": {},
   "source": [
    "Las principales operaciones que se suelen realizar con diccionarios son almacenar un valor asociado a una clave y recuperar un valor a partir de una clave. En un diccionario, el acceso a un elemento a partir de una clave es una operación realmente rápida, eficaz y que consume pocos recursos si lo comparamos con cómo lo haríamos con otros tipos de datos."
   ]
  },
  {
   "cell_type": "code",
   "execution_count": null,
   "metadata": {},
   "outputs": [],
   "source": [
    "#inicializar un diccionario\n",
    "diccionario = {}    # dict()\n",
    "type(diccionario)"
   ]
  },
  {
   "cell_type": "code",
   "execution_count": null,
   "metadata": {},
   "outputs": [],
   "source": [
    "diccionario"
   ]
  },
  {
   "cell_type": "markdown",
   "metadata": {},
   "source": [
    "**Formas de crear un diccionario**"
   ]
  },
  {
   "cell_type": "code",
   "execution_count": null,
   "metadata": {},
   "outputs": [],
   "source": [
    "# 1. Pares clave: valor encerrados entre llaves\n",
    "d = {'uno': 1, 'dos': 2, 'tres': 3}\n",
    "\n",
    "# 2. Argumentos con nombre\n",
    "d2 = dict(uno=1, dos=2, tres=3)\n",
    "\n",
    "# 3. Pares clave: valor encerrados entre llaves\n",
    "d3 = dict({'uno': 1, 'dos': 2, 'tres': 3})\n",
    "\n",
    "# 4. Iterable que contiene iterables con dos elementos\n",
    "d4 = dict([('uno', 1), ('dos', 2), ('tres', 3)])\n",
    "\n",
    "# 5. Diccionario vacío\n",
    "d5 = {}\n",
    "\n",
    "# 6. Diccionario vacío usando el constructor\n",
    "d6 = dict()"
   ]
  },
  {
   "cell_type": "code",
   "execution_count": null,
   "metadata": {},
   "outputs": [],
   "source": [
    "d"
   ]
  },
  {
   "cell_type": "code",
   "execution_count": null,
   "metadata": {},
   "outputs": [],
   "source": [
    "d2"
   ]
  },
  {
   "cell_type": "code",
   "execution_count": null,
   "metadata": {},
   "outputs": [],
   "source": [
    "d3"
   ]
  },
  {
   "cell_type": "code",
   "execution_count": null,
   "metadata": {},
   "outputs": [],
   "source": [
    "d4"
   ]
  },
  {
   "cell_type": "code",
   "execution_count": null,
   "metadata": {},
   "outputs": [],
   "source": [
    "d4['dos']  # búsqueda por índice en un diccionario"
   ]
  },
  {
   "cell_type": "code",
   "execution_count": null,
   "metadata": {},
   "outputs": [],
   "source": [
    "diccionario_1 = {'llave_1': 'valor_1', 'llave_2': 'valor_2', 'llave_3': 'valor_3'}\n",
    "print(diccionario_1)\n",
    "print(diccionario_1['llave_3'])  # Salida: valor_3"
   ]
  },
  {
   "cell_type": "code",
   "execution_count": null,
   "metadata": {},
   "outputs": [],
   "source": [
    "dir(diccionario_1)"
   ]
  },
  {
   "cell_type": "markdown",
   "metadata": {},
   "source": [
    "\n",
    "Mientras que a las listas y tuplas se accede solo y únicamente por un número de índice, los diccionarios permiten utilizar una clave para declarar y acceder a un valor"
   ]
  },
  {
   "cell_type": "code",
   "execution_count": null,
   "metadata": {},
   "outputs": [],
   "source": [
    "#borrar un elemento\n",
    "del(diccionario_1['llave_2'])"
   ]
  },
  {
   "cell_type": "code",
   "execution_count": null,
   "metadata": {},
   "outputs": [],
   "source": [
    "print(diccionario_1)"
   ]
  },
  {
   "cell_type": "code",
   "execution_count": null,
   "metadata": {},
   "outputs": [],
   "source": [
    "a = diccionario_1.popitem()"
   ]
  },
  {
   "cell_type": "code",
   "execution_count": null,
   "metadata": {},
   "outputs": [],
   "source": [
    "a"
   ]
  },
  {
   "cell_type": "code",
   "execution_count": null,
   "metadata": {},
   "outputs": [],
   "source": [
    "print(diccionario_1)"
   ]
  },
  {
   "cell_type": "code",
   "execution_count": null,
   "metadata": {},
   "outputs": [],
   "source": [
    "diccionario_1.pop('llave_1')"
   ]
  },
  {
   "cell_type": "code",
   "execution_count": null,
   "metadata": {},
   "outputs": [],
   "source": [
    "print(diccionario_1)"
   ]
  },
  {
   "cell_type": "markdown",
   "metadata": {},
   "source": [
    "Así tambien modificar valores como en las listas"
   ]
  },
  {
   "cell_type": "code",
   "execution_count": null,
   "metadata": {},
   "outputs": [],
   "source": [
    "diccionario_1['llave_3'] = 'Nuevo Valor'"
   ]
  },
  {
   "cell_type": "code",
   "execution_count": null,
   "metadata": {},
   "outputs": [],
   "source": [
    "print(diccionario_1)"
   ]
  },
  {
   "cell_type": "code",
   "execution_count": null,
   "metadata": {},
   "outputs": [],
   "source": [
    "diccionario_1['llave_3'] = 15000"
   ]
  },
  {
   "cell_type": "code",
   "execution_count": null,
   "metadata": {},
   "outputs": [],
   "source": [
    "print(diccionario_1)"
   ]
  },
  {
   "cell_type": "markdown",
   "metadata": {},
   "source": [
    "Agregar elementos a un diccionario"
   ]
  },
  {
   "cell_type": "code",
   "execution_count": null,
   "metadata": {},
   "outputs": [],
   "source": [
    "diccionario_1['llave_4'] = 'Otro Valor'\n",
    "print(diccionario_1)"
   ]
  },
  {
   "cell_type": "markdown",
   "metadata": {},
   "source": [
    "Otro ejemplo"
   ]
  },
  {
   "cell_type": "code",
   "execution_count": null,
   "metadata": {},
   "outputs": [],
   "source": [
    "productos = {}"
   ]
  },
  {
   "cell_type": "code",
   "execution_count": null,
   "metadata": {},
   "outputs": [],
   "source": [
    "item = input('Ingrese un producto: ')\n",
    "costo = input('Ingrese el costo del producto '+item+': ')\n",
    "productos[item] = float(costo)"
   ]
  },
  {
   "cell_type": "code",
   "execution_count": null,
   "metadata": {},
   "outputs": [],
   "source": [
    "productos"
   ]
  },
  {
   "cell_type": "code",
   "execution_count": null,
   "metadata": {},
   "outputs": [],
   "source": [
    "productos.keys() # Devuelve una vista de las claves del diccionario"
   ]
  },
  {
   "cell_type": "code",
   "execution_count": null,
   "metadata": {},
   "outputs": [],
   "source": [
    "a = list(productos.keys())\n",
    "print(a)"
   ]
  },
  {
   "cell_type": "code",
   "execution_count": null,
   "metadata": {},
   "outputs": [],
   "source": [
    "productos.values() # Devuelve una vista de los valores del diccionario."
   ]
  },
  {
   "cell_type": "code",
   "execution_count": null,
   "metadata": {},
   "outputs": [],
   "source": [
    "productos.items() # Devuelve una vista de pares (clave, valor) del diccionario."
   ]
  },
  {
   "cell_type": "code",
   "execution_count": null,
   "metadata": {},
   "outputs": [],
   "source": [
    "total = sum(productos.values())\n",
    "print(total)"
   ]
  },
  {
   "cell_type": "code",
   "execution_count": null,
   "metadata": {},
   "outputs": [],
   "source": [
    "# convertir el listado de valores en una lista\n",
    "list(productos.values())"
   ]
  },
  {
   "cell_type": "code",
   "execution_count": null,
   "metadata": {},
   "outputs": [],
   "source": [
    "# Recorrer las claves del diccionario\n",
    "for k in d.keys():\n",
    "    print(k)"
   ]
  },
  {
   "cell_type": "code",
   "execution_count": null,
   "metadata": {},
   "outputs": [],
   "source": [
    "# Recorrer los valores del diccionario\n",
    "for v in d.values():\n",
    "    print(v)"
   ]
  },
  {
   "cell_type": "code",
   "execution_count": null,
   "metadata": {},
   "outputs": [],
   "source": [
    "# Recorrer los pares clave valor\n",
    "for i in d.items():\n",
    "    print(i)"
   ]
  },
  {
   "cell_type": "code",
   "execution_count": null,
   "metadata": {},
   "outputs": [],
   "source": [
    "# pequeño almacen de datos personales\n",
    "personas = {4548:{'Edad':25,'Sexo':'M','Descripción':'Es una buena persona'}, 1245:{'Edad':30,'Sexo':'F'}, 7894:{'Edad':22,'Sexo':'M'}}"
   ]
  },
  {
   "cell_type": "code",
   "execution_count": null,
   "metadata": {},
   "outputs": [],
   "source": [
    "personas[7894]"
   ]
  },
  {
   "cell_type": "code",
   "execution_count": null,
   "metadata": {},
   "outputs": [],
   "source": [
    "personas[4548]['Descripción']"
   ]
  },
  {
   "cell_type": "markdown",
   "metadata": {},
   "source": [
    "### **4. Conjuntos**"
   ]
  },
  {
   "cell_type": "markdown",
   "metadata": {},
   "source": [
    "IMPORTANTE: {} NO crea un conjunto vacío, sino un diccionario vacío. Usa set() si quieres crear un conjunto sin elementos."
   ]
  },
  {
   "cell_type": "code",
   "execution_count": null,
   "metadata": {},
   "outputs": [],
   "source": [
    "a = {}\n",
    "type(a)"
   ]
  },
  {
   "cell_type": "code",
   "execution_count": null,
   "metadata": {},
   "outputs": [],
   "source": [
    "b = {1,2}   #también pueden crearse utilizando la función set()\n",
    "type(b)"
   ]
  },
  {
   "cell_type": "code",
   "execution_count": null,
   "metadata": {},
   "outputs": [],
   "source": [
    "c = set()\n",
    "type(c)"
   ]
  },
  {
   "cell_type": "code",
   "execution_count": null,
   "metadata": {},
   "outputs": [],
   "source": [
    "letras = {'A','B','C','D','E','A'}\n",
    "print(letras)\n",
    "print(type(letras))"
   ]
  },
  {
   "cell_type": "markdown",
   "metadata": {},
   "source": [
    "Existen dos clases para representar conjuntos: **set y frozenset**. La principal diferencia es que set es mutable. Por su parte, frozenset es inmutable y su contenido no puede ser modificado una vez que ha sido inicializado."
   ]
  },
  {
   "cell_type": "code",
   "execution_count": null,
   "metadata": {},
   "outputs": [],
   "source": [
    "f = frozenset([3, 5, 6, 1, 5])\n",
    "f"
   ]
  },
  {
   "cell_type": "markdown",
   "metadata": {},
   "source": [
    "Los conjuntos no aceptan objetos mutables, por lo que aceptan tuplas y strings pero no listas\n",
    "\n",
    "NOTA: El único modo en Python de tener un conjunto de conjuntos es utilizando objetos de tipo frozenset como elementos del propio conjunto."
   ]
  },
  {
   "cell_type": "code",
   "execution_count": null,
   "metadata": {},
   "outputs": [],
   "source": [
    "letras = {'A','B','C','D','E',{'D','H'}}"
   ]
  },
  {
   "cell_type": "code",
   "execution_count": null,
   "metadata": {},
   "outputs": [],
   "source": [
    "letras = {'A','B','C','D','E',frozenset(['D','H'])}\n",
    "letras"
   ]
  },
  {
   "cell_type": "markdown",
   "metadata": {},
   "source": [
    "**Enumerar elementos de un conjunto:** Se puede acceder y/o recorrer todos los elementos de un conjunto usando un bucle for:"
   ]
  },
  {
   "cell_type": "code",
   "execution_count": null,
   "metadata": {},
   "outputs": [],
   "source": [
    "mi_conjunto = {1, 3, 2, 9, 3, 1}\n",
    "for e in mi_conjunto:\n",
    "    print(e)"
   ]
  },
  {
   "cell_type": "markdown",
   "metadata": {},
   "source": [
    "**Eliminar los elementos de un conjunto:** La clase set ofrece cuatro métodos para eliminar elementos de un conjunto. Son: discard(), remove(), pop() y clear()."
   ]
  },
  {
   "cell_type": "code",
   "execution_count": null,
   "metadata": {},
   "outputs": [],
   "source": [
    "mi_conjunto = {1, 3, 2, 9, 3, 1, 6, 4, 5}\n",
    "mi_conjunto"
   ]
  },
  {
   "cell_type": "code",
   "execution_count": null,
   "metadata": {},
   "outputs": [],
   "source": [
    "# Elimina el elemento 1 con remove()\n",
    "mi_conjunto.remove(1)\n",
    "mi_conjunto"
   ]
  },
  {
   "cell_type": "code",
   "execution_count": null,
   "metadata": {},
   "outputs": [],
   "source": [
    "# Elimina el elemento 4 con discard()\n",
    "mi_conjunto.discard(4)\n",
    "mi_conjunto"
   ]
  },
  {
   "cell_type": "code",
   "execution_count": null,
   "metadata": {},
   "outputs": [],
   "source": [
    "# Trata de eliminar el elemento 7 (no existe) con remove()\n",
    "mi_conjunto.remove(7)\n",
    "mi_conjunto"
   ]
  },
  {
   "cell_type": "code",
   "execution_count": null,
   "metadata": {},
   "outputs": [],
   "source": [
    "# Trata de eliminar el elemento 7 (no existe) con discard()\n",
    "# No hace nada\n",
    "mi_conjunto.discard(7)\n",
    "mi_conjunto"
   ]
  },
  {
   "cell_type": "markdown",
   "metadata": {},
   "source": [
    "pop() es un tanto peculiar. Este método devuelve un elemento aleatorio del conjunto y lo elimina del mismo."
   ]
  },
  {
   "cell_type": "code",
   "execution_count": null,
   "metadata": {},
   "outputs": [],
   "source": [
    "mi_conjunto.pop()\n",
    "mi_conjunto"
   ]
  },
  {
   "cell_type": "code",
   "execution_count": null,
   "metadata": {},
   "outputs": [],
   "source": [
    "letras.pop()\n",
    "letras"
   ]
  },
  {
   "cell_type": "code",
   "execution_count": null,
   "metadata": {},
   "outputs": [],
   "source": [
    "# Elimina todos los elementos del conjunto\n",
    "mi_conjunto.clear()   #funciona también para listas y tuplas y diccionario\n",
    "mi_conjunto"
   ]
  },
  {
   "cell_type": "code",
   "execution_count": null,
   "metadata": {},
   "outputs": [],
   "source": [
    "diccionario_1.clear()\n",
    "diccionario_1"
   ]
  },
  {
   "cell_type": "markdown",
   "metadata": {},
   "source": [
    "add() agrega un elemento al conjunto"
   ]
  },
  {
   "cell_type": "code",
   "execution_count": null,
   "metadata": {},
   "outputs": [],
   "source": [
    "letras.add('Z')\n",
    "letras"
   ]
  },
  {
   "cell_type": "code",
   "execution_count": null,
   "metadata": {},
   "outputs": [],
   "source": [
    "letras.add('O')\n",
    "letras"
   ]
  },
  {
   "cell_type": "code",
   "execution_count": null,
   "metadata": {},
   "outputs": [],
   "source": [
    "len(letras)   #funciona también para listas y tuplas"
   ]
  },
  {
   "cell_type": "markdown",
   "metadata": {},
   "source": [
    "**Operaciones con conjuntos:**"
   ]
  },
  {
   "cell_type": "code",
   "execution_count": null,
   "metadata": {},
   "outputs": [],
   "source": [
    "bat = {'M','U','R','C','I','E','L','A','G','O'}\n",
    "bat"
   ]
  },
  {
   "cell_type": "code",
   "execution_count": null,
   "metadata": {},
   "outputs": [],
   "source": [
    "letras = {'A','B','C','D','E'}\n",
    "letras"
   ]
  },
  {
   "cell_type": "code",
   "execution_count": null,
   "metadata": {},
   "outputs": [],
   "source": [
    "bat - letras  # diferencia"
   ]
  },
  {
   "cell_type": "code",
   "execution_count": null,
   "metadata": {},
   "outputs": [],
   "source": [
    "bat.difference(letras)"
   ]
  },
  {
   "cell_type": "code",
   "execution_count": null,
   "metadata": {},
   "outputs": [],
   "source": [
    "bat & letras # intersección"
   ]
  },
  {
   "cell_type": "code",
   "execution_count": null,
   "metadata": {},
   "outputs": [],
   "source": [
    "bat.intersection(letras)"
   ]
  },
  {
   "cell_type": "code",
   "execution_count": null,
   "metadata": {},
   "outputs": [],
   "source": [
    "bat | letras # unión"
   ]
  },
  {
   "cell_type": "code",
   "execution_count": null,
   "metadata": {},
   "outputs": [],
   "source": [
    "bat.union(letras)"
   ]
  },
  {
   "cell_type": "code",
   "execution_count": null,
   "metadata": {},
   "outputs": [],
   "source": [
    "bat ^ letras # diferencia simétrica"
   ]
  },
  {
   "cell_type": "code",
   "execution_count": null,
   "metadata": {},
   "outputs": [],
   "source": [
    "bat.symmetric_difference(letras)"
   ]
  },
  {
   "cell_type": "markdown",
   "metadata": {},
   "source": [
    "**Inclusión e igualdad de conjuntos:**"
   ]
  },
  {
   "cell_type": "code",
   "execution_count": null,
   "metadata": {},
   "outputs": [],
   "source": [
    "m = {1, 2, 3, 4, 5, 6}\n",
    "n = {1, 6, 4, 3, 5, 2}\n",
    "p = {1, 3, 5}\n",
    "m == n"
   ]
  },
  {
   "cell_type": "code",
   "execution_count": null,
   "metadata": {},
   "outputs": [],
   "source": [
    "p < m  # inclusión de conjuntos"
   ]
  },
  {
   "cell_type": "code",
   "execution_count": null,
   "metadata": {},
   "outputs": [],
   "source": [
    "m < p"
   ]
  },
  {
   "cell_type": "code",
   "execution_count": null,
   "metadata": {},
   "outputs": [],
   "source": [
    "m <= n"
   ]
  },
  {
   "cell_type": "code",
   "execution_count": null,
   "metadata": {},
   "outputs": [],
   "source": [
    "3 in p #pertenencia de elementos en un conjunto"
   ]
  },
  {
   "cell_type": "code",
   "execution_count": null,
   "metadata": {},
   "outputs": [],
   "source": [
    "9 in p"
   ]
  },
  {
   "cell_type": "markdown",
   "metadata": {},
   "source": [
    "### Crear un conjunto o una lista de las letras distintas de una palabra:"
   ]
  },
  {
   "cell_type": "code",
   "execution_count": null,
   "metadata": {},
   "outputs": [],
   "source": [
    "s = 'ANATOMIA'\n",
    "set(s)"
   ]
  },
  {
   "cell_type": "code",
   "execution_count": null,
   "metadata": {},
   "outputs": [],
   "source": [
    "s = 'ANATOMIA'\n",
    "list(s)"
   ]
  },
  {
   "cell_type": "code",
   "execution_count": null,
   "metadata": {},
   "outputs": [],
   "source": [
    "#eliminar repetidos y ordernar el resultado\n",
    "c = set(s)\n",
    "print(c)\n",
    "print(\"-------------------------\")\n",
    "l = list(c)\n",
    "print(l)\n",
    "print(\"-------------------------\")\n",
    "l.sort()\n",
    "print(l)\n",
    "print(\"-------------------------\")\n",
    "l.sort(reverse = True)\n",
    "print(l)"
   ]
  },
  {
   "cell_type": "markdown",
   "metadata": {},
   "source": [
    "**Ejercicio Resuelto:**\n",
    "\n",
    "Sistema que solicita una opción y según el valor ingresado permita:\n",
    "\n",
    "* (1) Agregar la información del alumno (nombre, código, carrera y edad).\n",
    "* (2) Eliminar a un alumno al ingresar su código.\n",
    "* (3) Mostrar relación de alumnos (codigo, nombre y carrera), cantidad de alumnos matriculados, cantidad de carreras distintas y edad promedio.\n",
    "* (4) Actualizar la información del alumno (nombre, carrera y edad).\n",
    "* (5) Salir"
   ]
  },
  {
   "cell_type": "code",
   "execution_count": null,
   "metadata": {},
   "outputs": [],
   "source": [
    "lista_alumnos = {}"
   ]
  },
  {
   "cell_type": "code",
   "execution_count": null,
   "metadata": {},
   "outputs": [],
   "source": [
    "#creando un diccionario vacio (se irá agregando los alumnos)\n",
    "\n",
    "while(1):\n",
    "\n",
    "    opcion = int(input('''Ingrese la opcion: \n",
    "                        1. Ingresar Nuevo alumno\n",
    "                        2. Eliminar alumno existente\n",
    "                        3. Mostrar listado de alumnos\n",
    "                        4. Modificar datos de alumnos\n",
    "                        5. Salir\n",
    "\n",
    "                        '''))\n",
    "\n",
    "    #salimos del while si se ingresa la opción 5\n",
    "    if opcion == 5:\n",
    "        break\n",
    "\n",
    "    if opcion == 1:\n",
    "        nombre  = input('Ingrese el nombre del alumno: ')\n",
    "        codigo  = input('Ingrese su código: ')\n",
    "        carrera = input('Ingrese su carrera: ')\n",
    "        edad    = int(input('Ingrese su edad: '))\n",
    "\n",
    "        #agregando la información del alumno al diccionario, siendo la llave su código\n",
    "        lista_alumnos[codigo] = [nombre, carrera, edad]\n",
    "\n",
    "    elif opcion == 2:\n",
    "        #solicitamos el código del alumno a eliminar\n",
    "        codigo_eliminar = input('Ingrese el codigo a eliminar: ')\n",
    "        lista_alumnos.pop(codigo_eliminar)   \n",
    "\n",
    "    elif opcion == 3:\n",
    "        #mostrando la relacion de alumnos:\n",
    "        print('\\n1. Relación de alumnos:')\n",
    "        for clave, valor in lista_alumnos.items():\n",
    "            print(clave, '-', valor)\n",
    "\n",
    "        #contando la cantidad de alumnos en nuestro diccionario:\n",
    "        print('\\n2. Cantidad de alumnos:')\n",
    "        print(len(lista_alumnos))\n",
    "\n",
    "        #creando un set para almacenar las carreras distintas:\n",
    "        print('\\n3. Cantidad de carreras:')\n",
    "        carreras_unicas = set()\n",
    "\n",
    "        for clave, valor in lista_alumnos.items():\n",
    "            carreras_unicas.add(valor[1])\n",
    "\n",
    "        print(len(carreras_unicas))\n",
    "        print(carreras_unicas)\n",
    "\n",
    "        #recorriendo todas las edades, sumándolas y calculando el promedio\n",
    "\n",
    "        acum = 0\n",
    "\n",
    "        for clave, valor in lista_alumnos.items():\n",
    "            acum = acum + valor[2]\n",
    "\n",
    "        print('La edad promedio es', acum/len(lista_alumnos))\n",
    "\n",
    "    elif opcion == 4:\n",
    "        codigo  = input('Ingrese el código del alumno a actualizar: ')\n",
    "        nombre  = input('Ingrese el nombre actualizado: ')\n",
    "        carrera = input('Ingrese la carrera actualizada: ')\n",
    "        edad    = int(input('Ingrese la edad actualizada: '))\n",
    "\n",
    "        #agregando la información del alumno al diccionario, siendo la llave su código\n",
    "        lista_alumnos[codigo] = [nombre, carrera, edad]"
   ]
  }
 ],
 "metadata": {
  "anaconda-cloud": {},
  "kernelspec": {
   "display_name": "Python 3 (ipykernel)",
   "language": "python",
   "name": "python3"
  },
  "language_info": {
   "codemirror_mode": {
    "name": "ipython",
    "version": 3
   },
   "file_extension": ".py",
   "mimetype": "text/x-python",
   "name": "python",
   "nbconvert_exporter": "python",
   "pygments_lexer": "ipython3",
   "version": "3.12.2"
  }
 },
 "nbformat": 4,
 "nbformat_minor": 1
}
