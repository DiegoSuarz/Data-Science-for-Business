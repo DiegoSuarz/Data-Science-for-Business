{
  "cells": [
    {
      "cell_type": "markdown",
      "metadata": {
        "id": "4Opa9MLhyjSO"
      },
      "source": [
        "# <u>Programación Orientada a Objetos</u>"
      ]
    },
    {
      "cell_type": "markdown",
      "metadata": {
        "id": "sfGceP2KyjSU"
      },
      "source": [
        "## Clases"
      ]
    },
    {
      "cell_type": "markdown",
      "metadata": {
        "id": "W_h7XSrgyjSX"
      },
      "source": [
        "Las clases son los modelos sobre los cuáles se construirán nuestros objetos\n",
        "\n",
        "Las propiedades son las características intrínsecas del objeto\n",
        "\n",
        "Los métodos son funciones que representan acciones propias que puede realizar el objeto (y no otro)"
      ]
    },
    {
      "cell_type": "markdown",
      "metadata": {
        "id": "TvBmOWypyjSY"
      },
      "source": [
        "## Objeto"
      ]
    },
    {
      "cell_type": "markdown",
      "metadata": {
        "id": "WB5iAIvNyjSZ"
      },
      "source": [
        "Las clases por sí mismas, no son más que modelos que nos servirán para crear objetos en concreto. Podemos decir que una clase, es el razonamiento abstracto de un objeto, mientras que el objeto, es su materialización. A la acción de crear objetos, se la denomina instanciar una clase y dicha instancia, consiste en asignar la clase, como valor a una variable:"
      ]
    },
    {
      "cell_type": "code",
      "execution_count": 11,
      "metadata": {
        "id": "SoCM-pdgzWD5"
      },
      "outputs": [],
      "source": [
        "# crando clases\n",
        "class Llanta():\n",
        "    pass\n",
        "\n",
        "class Espejo():\n",
        "    pass\n",
        "\n",
        "class Timon():\n",
        "    pass"
      ]
    },
    {
      "cell_type": "code",
      "execution_count": 12,
      "metadata": {
        "id": "wGH7IP7ByjSa"
      },
      "outputs": [],
      "source": [
        "class Auto():\n",
        "    color = \"rojo\"\n",
        "    tamanio = \"grande\"\n",
        "    aspecto = \"bonito\"\n",
        "    llantas = Llanta()\n",
        "    espejos = Espejo()\n",
        "    timones = Timon()\n",
        "\n",
        "    def arrancar(self):\n",
        "        print(\"auto encendido\")"
      ]
    },
    {
      "cell_type": "code",
      "execution_count": 13,
      "metadata": {
        "colab": {
          "base_uri": "https://localhost:8080/"
        },
        "id": "UG7H9fTMyjSb",
        "outputId": "de08bb12-efe2-4ec4-89a5-623fd76a3d7d"
      },
      "outputs": [
        {
          "name": "stdout",
          "output_type": "stream",
          "text": [
            "rojo\n",
            "grande\n",
            "bonito\n",
            "amarillo\n",
            "auto encendido\n"
          ]
        }
      ],
      "source": [
        "auto_1 = Auto()\n",
        "print(auto_1.color)\n",
        "print(auto_1.tamanio)\n",
        "print(auto_1.aspecto)\n",
        "auto_1.color = \"amarillo\"\n",
        "print(auto_1.color)\n",
        "auto_1.arrancar()"
      ]
    },
    {
      "cell_type": "code",
      "execution_count": 14,
      "metadata": {
        "colab": {
          "base_uri": "https://localhost:8080/"
        },
        "id": "u-ktwKlRyjSb",
        "outputId": "467472a9-5d05-45d6-9cff-d7c119533006"
      },
      "outputs": [
        {
          "data": {
            "text/plain": [
              "__main__.Auto"
            ]
          },
          "execution_count": 14,
          "metadata": {},
          "output_type": "execute_result"
        }
      ],
      "source": [
        "type(auto_1)"
      ]
    },
    {
      "cell_type": "markdown",
      "metadata": {
        "id": "mstY7KzSyjSc"
      },
      "source": [
        "## Herencia: característica principal de la POO"
      ]
    },
    {
      "cell_type": "markdown",
      "metadata": {
        "id": "1gkUPUb2yjSc"
      },
      "source": [
        "\n",
        "Algunos objetos comparten las mismas propiedades y métodos que otro objeto, y además agregan nuevas propiedades y métodos. A esto se lo denomina herencia: una clase que hereda de otra."
      ]
    },
    {
      "cell_type": "code",
      "execution_count": 15,
      "metadata": {
        "id": "a8b7h8VRyjSc"
      },
      "outputs": [],
      "source": [
        "class Figura:\n",
        "    def __init__(self, a):\n",
        "        self.name = a"
      ]
    },
    {
      "cell_type": "code",
      "execution_count": 16,
      "metadata": {
        "colab": {
          "base_uri": "https://localhost:8080/",
          "height": 147
        },
        "id": "C_sSYMgayjSd",
        "outputId": "ad193e0d-bd0f-41e6-c5cb-db06c433ac0f"
      },
      "outputs": [
        {
          "ename": "TypeError",
          "evalue": "Figura.__init__() missing 1 required positional argument: 'a'",
          "output_type": "error",
          "traceback": [
            "\u001b[1;31m---------------------------------------------------------------------------\u001b[0m",
            "\u001b[1;31mTypeError\u001b[0m                                 Traceback (most recent call last)",
            "Cell \u001b[1;32mIn[16], line 1\u001b[0m\n\u001b[1;32m----> 1\u001b[0m forma \u001b[38;5;241m=\u001b[39m \u001b[43mFigura\u001b[49m\u001b[43m(\u001b[49m\u001b[43m)\u001b[49m\n",
            "\u001b[1;31mTypeError\u001b[0m: Figura.__init__() missing 1 required positional argument: 'a'"
          ]
        }
      ],
      "source": [
        "forma = Figura()"
      ]
    },
    {
      "cell_type": "code",
      "execution_count": null,
      "metadata": {
        "id": "ZYtOUXu0yjSd"
      },
      "outputs": [],
      "source": [
        "forma = Figura('figura1')"
      ]
    },
    {
      "cell_type": "code",
      "execution_count": null,
      "metadata": {
        "colab": {
          "base_uri": "https://localhost:8080/",
          "height": 36
        },
        "id": "-XlAAEicyjSd",
        "outputId": "32506252-014a-4c4b-c7d1-83c17c7ba237"
      },
      "outputs": [],
      "source": [
        "forma.name"
      ]
    },
    {
      "cell_type": "markdown",
      "metadata": {
        "id": "5WYlkMgmyjSe"
      },
      "source": [
        "Los métodos son como funciones, necesitan tener un argumento convenientemente llamado **self**, que se refiere al objeto del método que está siendo llamado. Date cuenta que en una llamada al método, no necesitamos pasar self como un argumento, Python se encargará de eso por nosotros. Si no ponemos self como argumento, Python arrojará un error."
      ]
    },
    {
      "cell_type": "code",
      "execution_count": null,
      "metadata": {
        "id": "Zr96DZxUyjSe"
      },
      "outputs": [],
      "source": [
        "#Definición de clases en python\n",
        "class Rectangulo(Figura):\n",
        "    def __init__(self,x,y, a): # constructor\n",
        "        self.x = x #creación de parámetros internos\n",
        "        self.y = y\n",
        "        Figura.__init__(self,a)\n",
        "\n",
        "    autor = \"anonimo\" # creación de parámetros de forma externa al constructor\n",
        "    descripcion=\"esto es un rectangulo\"\n",
        "\n",
        "    def area(self):\n",
        "        return self.x*self.y\n",
        "\n",
        "    def perimetro(self):\n",
        "        return 2*(self.x + self.y)\n",
        "\n",
        "    def cambio_descripcion(self,text):\n",
        "        self.descripcion=text"
      ]
    },
    {
      "cell_type": "code",
      "execution_count": null,
      "metadata": {
        "colab": {
          "base_uri": "https://localhost:8080/"
        },
        "id": "UBQ83bl_yjSe",
        "outputId": "df6a1396-359b-4a8a-8de6-6c040784bc14"
      },
      "outputs": [],
      "source": [
        "# si modificamos la clase, tenemos que volver a instanciar los objetos creados\n",
        "# para que reciban los cambios\n",
        "\n",
        "rectangulo1 = Rectangulo(90,35,'rect1')\n",
        "rectangulo2 = Rectangulo(20,11,'rect2')\n",
        "print(rectangulo1.area())"
      ]
    },
    {
      "cell_type": "code",
      "execution_count": null,
      "metadata": {
        "colab": {
          "base_uri": "https://localhost:8080/"
        },
        "id": "43E9BkGMyjSe",
        "outputId": "1798cb96-c0d6-4537-87a4-5dda6ed10227"
      },
      "outputs": [],
      "source": [
        "print(rectangulo2.area())"
      ]
    },
    {
      "cell_type": "code",
      "execution_count": null,
      "metadata": {
        "colab": {
          "base_uri": "https://localhost:8080/"
        },
        "id": "96anmM-RyjSf",
        "outputId": "e7fb33f5-00f0-49e7-de89-e27aa0eac784"
      },
      "outputs": [],
      "source": [
        "print(rectangulo1.descripcion)\n",
        "rectangulo1.cambio_descripcion(\"Rectangulo nuevo\")\n",
        "print(rectangulo1.descripcion)"
      ]
    },
    {
      "cell_type": "code",
      "execution_count": null,
      "metadata": {
        "colab": {
          "base_uri": "https://localhost:8080/"
        },
        "id": "h7__pwqQyjSf",
        "outputId": "89b2b6c5-6bc0-4ee8-f534-e2cde6094e94"
      },
      "outputs": [],
      "source": [
        "print(rectangulo1.name)\n",
        "print(rectangulo2.name)"
      ]
    },
    {
      "cell_type": "code",
      "execution_count": null,
      "metadata": {
        "colab": {
          "base_uri": "https://localhost:8080/"
        },
        "id": "XJeQWMQbyjSf",
        "outputId": "374dc49a-477b-44be-fba6-239f85be7c09"
      },
      "outputs": [],
      "source": [
        "dir(rectangulo1)"
      ]
    },
    {
      "cell_type": "markdown",
      "metadata": {
        "id": "bssrdGkKyjSf"
      },
      "source": [
        "### Un ejemplo más:\n",
        "\n",
        "Vamos a ver el comportamiento de los \"métodos mágicos\""
      ]
    },
    {
      "cell_type": "code",
      "execution_count": null,
      "metadata": {
        "id": "W_uwWUNmyjSg"
      },
      "outputs": [],
      "source": [
        "def mcd(m,n):\n",
        "    while m%n != 0:\n",
        "        mViejo = m\n",
        "        nViejo = n\n",
        "\n",
        "        m = nViejo\n",
        "        n = mViejo%nViejo\n",
        "    return n"
      ]
    },
    {
      "cell_type": "code",
      "execution_count": null,
      "metadata": {
        "colab": {
          "base_uri": "https://localhost:8080/"
        },
        "id": "0ZUG0bmnyjSg",
        "outputId": "c1aefe67-1f22-4635-b827-9d50c2286f10"
      },
      "outputs": [],
      "source": [
        "mcd(5,3)"
      ]
    },
    {
      "cell_type": "code",
      "execution_count": null,
      "metadata": {
        "colab": {
          "base_uri": "https://localhost:8080/"
        },
        "id": "ajJL-b1TyjSg",
        "outputId": "70862292-92e1-4dc1-b1bf-0ca8ddc3707a"
      },
      "outputs": [],
      "source": [
        "mcd(5,25)"
      ]
    },
    {
      "cell_type": "code",
      "execution_count": null,
      "metadata": {
        "colab": {
          "base_uri": "https://localhost:8080/"
        },
        "id": "gJaZ_nm_yjSh",
        "outputId": "acfeba4d-8c43-4e62-a266-1efe254d16b9"
      },
      "outputs": [],
      "source": [
        "mcd(18,9)"
      ]
    },
    {
      "cell_type": "code",
      "execution_count": null,
      "metadata": {
        "id": "pVa4zfozyjSh"
      },
      "outputs": [],
      "source": [
        "class Fraccion:\n",
        "    def __init__(self,arriba,abajo):\n",
        "        self.num = arriba\n",
        "        self.den = abajo\n",
        "\n",
        "    def __str__(self):\n",
        "        return str(self.num)+\"/\"+str(self.den)    # __str__ permite definir como print funciona sobre los objetos\n",
        "\n",
        "    def show(self):\n",
        "        print(self.num,\"/\",self.den)\n",
        "\n",
        "    def __add__(self,otraFraccion):              # define el comportamiento del operador +\n",
        "        nuevoNum = self.num*otraFraccion.den + \\\n",
        "                    self.den*otraFraccion.num\n",
        "        nuevoDen = self.den * otraFraccion.den\n",
        "        comun = mcd(nuevoNum,nuevoDen)\n",
        "        return Fraccion(nuevoNum//comun,nuevoDen//comun)\n",
        "\n",
        "    # otros métodos de operaciones se pueden realizar para la substracción (__sub__)\n",
        "    # para la multiplicación (__mul__) y división (__truediv__)\n",
        "\n",
        "    # implementación de métodos \"mágicos\" que permiten hacer comparaciones\n",
        "    def __eq__(self, otro):                     # define el comportamiento de la igualdad (==)\n",
        "        primerNum = self.num * otro.den\n",
        "        segundoNum = otro.num * self.den\n",
        "        return primerNum == segundoNum\n",
        "    def __gt__(self, otro):                  # define el comportamiento del mayor que (>), y se define __lt__ (<)\n",
        "        primerNum = self.num * otro.den\n",
        "        segundoNum = otro.num * self.den\n",
        "        return primerNum > segundoNum\n",
        "    def __ge__(self, otro):                 # define el comportamiento del mayor o igual que (>=), y se define __le__(<=)\n",
        "        primerNum = self.num * otro.den\n",
        "        segundoNum = otro.num * self.den\n",
        "        return primerNum >= segundoNum\n"
      ]
    },
    {
      "cell_type": "code",
      "execution_count": null,
      "metadata": {
        "colab": {
          "base_uri": "https://localhost:8080/"
        },
        "id": "zCLYh-PIyjSh",
        "outputId": "266b2360-a610-4451-b36a-c5671febd6e2"
      },
      "outputs": [],
      "source": [
        "x = Fraccion(1,2)\n",
        "y = Fraccion(2,4)\n",
        "\n",
        "x.show()\n",
        "y.show()"
      ]
    },
    {
      "cell_type": "code",
      "execution_count": null,
      "metadata": {
        "colab": {
          "base_uri": "https://localhost:8080/"
        },
        "id": "k3LEX9ySyjSh",
        "outputId": "6786e17d-e0fb-444d-d700-32bd200e3523"
      },
      "outputs": [],
      "source": [
        "print(x)"
      ]
    },
    {
      "cell_type": "code",
      "execution_count": null,
      "metadata": {
        "colab": {
          "base_uri": "https://localhost:8080/"
        },
        "id": "913i_1ucyjSh",
        "outputId": "0e22624c-1ce1-4927-9a8b-93f6b6daca4b"
      },
      "outputs": [],
      "source": [
        "print(x+y)  # conoca al metoro __add__"
      ]
    },
    {
      "cell_type": "code",
      "execution_count": null,
      "metadata": {
        "colab": {
          "base_uri": "https://localhost:8080/"
        },
        "id": "Rw4-ZMnyyjSh",
        "outputId": "1efd97ef-d9f1-46ad-caae-39102c01c8b1"
      },
      "outputs": [],
      "source": [
        "print(x == y)   # convoca al metodo __eq__\n",
        "print(x > y)    # convoca al metodo __gt__"
      ]
    },
    {
      "cell_type": "code",
      "execution_count": null,
      "metadata": {
        "colab": {
          "base_uri": "https://localhost:8080/"
        },
        "id": "KYxnAThCyjSi",
        "outputId": "7350188c-0ed3-4dc0-a0ad-226624c0fb00"
      },
      "outputs": [],
      "source": [
        "print(x < y)   # crea su contraparte __lt__"
      ]
    },
    {
      "cell_type": "code",
      "execution_count": null,
      "metadata": {
        "colab": {
          "base_uri": "https://localhost:8080/"
        },
        "id": "ZpkXoPskyjSi",
        "outputId": "fdbebb25-23b9-4e32-e36e-e4af98ed46aa"
      },
      "outputs": [],
      "source": [
        "print(x >= y)  # convoca al método __ge__"
      ]
    },
    {
      "cell_type": "code",
      "execution_count": null,
      "metadata": {
        "colab": {
          "base_uri": "https://localhost:8080/"
        },
        "id": "bBvFvRniyjSi",
        "outputId": "580c2601-346d-4894-8b75-173fddbca918"
      },
      "outputs": [],
      "source": [
        "print(x <= y) # convoca al método __le__"
      ]
    },
    {
      "cell_type": "markdown",
      "metadata": {
        "id": "Kivgfnb4yjSi"
      },
      "source": [
        "Ejemplo con otras fracciones:"
      ]
    },
    {
      "cell_type": "code",
      "execution_count": null,
      "metadata": {
        "colab": {
          "base_uri": "https://localhost:8080/"
        },
        "id": "ADHLo3SRyjSi",
        "outputId": "ee6492b2-3ed2-4300-ef62-9e78ec26a1b6"
      },
      "outputs": [],
      "source": [
        "x = Fraccion(1,2)\n",
        "y = Fraccion(3,4)\n",
        "\n",
        "x.show()\n",
        "y.show()"
      ]
    },
    {
      "cell_type": "code",
      "execution_count": null,
      "metadata": {
        "colab": {
          "base_uri": "https://localhost:8080/"
        },
        "id": "Fpu8xuF1yjSi",
        "outputId": "8fbd4fcf-3e96-4bb8-d674-1b582ca7f548"
      },
      "outputs": [],
      "source": [
        "print(x+y)  # conoca al metoro __add__"
      ]
    },
    {
      "cell_type": "code",
      "execution_count": null,
      "metadata": {
        "colab": {
          "base_uri": "https://localhost:8080/"
        },
        "id": "92JCguEsyjSj",
        "outputId": "e673b6dc-254c-4755-f6c0-d3e3b6bc1469"
      },
      "outputs": [],
      "source": [
        "print(x == y)   # convoca al metodo __eq__\n",
        "print(x > y)    # convoca al metodo __gt__"
      ]
    },
    {
      "cell_type": "code",
      "execution_count": null,
      "metadata": {
        "colab": {
          "base_uri": "https://localhost:8080/"
        },
        "id": "yqCe61czyjSj",
        "outputId": "8c38fec1-d764-41d1-8a65-9710e6234fba"
      },
      "outputs": [],
      "source": [
        "print(x < y)"
      ]
    },
    {
      "cell_type": "code",
      "execution_count": null,
      "metadata": {
        "colab": {
          "base_uri": "https://localhost:8080/"
        },
        "id": "WpQ23PbeyjSn",
        "outputId": "584a973f-4e83-483f-b0fe-fb88ba2c7ead"
      },
      "outputs": [],
      "source": [
        "print(x >= y)"
      ]
    },
    {
      "cell_type": "code",
      "execution_count": null,
      "metadata": {
        "colab": {
          "base_uri": "https://localhost:8080/"
        },
        "id": "HQqRdiakyjSo",
        "outputId": "1be73bfc-3c59-450a-ea75-6d963caa8128"
      },
      "outputs": [],
      "source": [
        "print(x <= y)"
      ]
    },
    {
      "cell_type": "markdown",
      "metadata": {
        "id": "urxDWHXCyjSo"
      },
      "source": [
        "#### Ejemplo 2:\n",
        "\n",
        "Implementemos la clase Punto:"
      ]
    },
    {
      "cell_type": "code",
      "execution_count": null,
      "metadata": {
        "id": "iueuZPmIyjSo"
      },
      "outputs": [],
      "source": [
        "class Punto():\n",
        "    def __init__(self,x,y):\n",
        "        self.x = x\n",
        "        self.y = y\n",
        "\n",
        "    def __add__(self,p):\n",
        "        x2 = self.x + p.x\n",
        "        y2 = self.y + p.y\n",
        "        z = Punto(x2,y2)\n",
        "        return z\n",
        "\n",
        "    def __str__(self):\n",
        "        return \"(\"+str(self.x)+\",\"+str(self.y)+\")\"\n",
        "\n",
        "    def distancia(self,otro):\n",
        "        x_new = pow(self.x - otro.x,2)\n",
        "        y_new = pow(self.y - otro.y,2)\n",
        "        dist = pow(x_new+y_new,1/2)\n",
        "        return round(dist,3)\n",
        "\n",
        "    #crear la clase módulo y comparacion de puntos"
      ]
    },
    {
      "cell_type": "code",
      "execution_count": null,
      "metadata": {
        "id": "NFfR-2pCyjSo"
      },
      "outputs": [],
      "source": [
        "punto1 = Punto(1,1)\n",
        "punto2 = Punto(2,2)"
      ]
    },
    {
      "cell_type": "code",
      "execution_count": null,
      "metadata": {
        "colab": {
          "base_uri": "https://localhost:8080/"
        },
        "id": "oJHSvC1cyjSo",
        "outputId": "753d1bdb-7b5b-4683-f5f9-883403610329"
      },
      "outputs": [],
      "source": [
        "print(punto1)"
      ]
    },
    {
      "cell_type": "code",
      "execution_count": null,
      "metadata": {
        "colab": {
          "base_uri": "https://localhost:8080/"
        },
        "id": "c19DJy6wyjSo",
        "outputId": "6a0c8397-c985-41a9-f7c7-049f38deeb70"
      },
      "outputs": [],
      "source": [
        "print(punto1+punto2)"
      ]
    },
    {
      "cell_type": "code",
      "execution_count": null,
      "metadata": {
        "colab": {
          "base_uri": "https://localhost:8080/"
        },
        "id": "nhDWVFbDyjSo",
        "outputId": "38ef15c9-1567-46ef-9caa-07eae3059376"
      },
      "outputs": [],
      "source": [
        "punto1.distancia(punto2)"
      ]
    },
    {
      "cell_type": "markdown",
      "metadata": {
        "id": "ju2z_pjHyjSp"
      },
      "source": [
        "#### Ejemplo 3:\n",
        "\n",
        "Un ejemplo sobre un **catálogo de películas:**"
      ]
    },
    {
      "cell_type": "code",
      "execution_count": null,
      "metadata": {
        "id": "jy1KfU7KyjSp"
      },
      "outputs": [],
      "source": [
        "class Pelicula:\n",
        "\n",
        "    # Constructor de clase\n",
        "    def __init__(self, titulo, duracion, lanzamiento):\n",
        "        self.titulo = titulo\n",
        "        self.duracion = duracion\n",
        "        self.lanzamiento = lanzamiento\n",
        "        print('Se ha creado la película:', self.titulo)\n",
        "\n",
        "    def __str__(self):\n",
        "        return '{} ({})'.format(self.titulo, self.lanzamiento)\n",
        "\n",
        "\n",
        "class Catalogo:\n",
        "\n",
        "    peliculas = []  # Esta lista contendrá objetos de la clase Pelicula\n",
        "\n",
        "    def __init__(self, peliculas=[]):\n",
        "        self.peliculas = peliculas\n",
        "\n",
        "    def agregar(self, p):  # p será un objeto Pelicula\n",
        "        self.peliculas.append(p)\n",
        "\n",
        "    def quitar_ultimo(self):  # p será un objeto Pelicula\n",
        "        self.peliculas.pop()\n",
        "\n",
        "    def mostrar(self):\n",
        "        for p in self.peliculas:\n",
        "            print(p)  # Print toma por defecto str(p)"
      ]
    },
    {
      "cell_type": "code",
      "execution_count": null,
      "metadata": {
        "colab": {
          "base_uri": "https://localhost:8080/"
        },
        "id": "v0TCEUacyjSp",
        "outputId": "663c93b1-b788-4d81-8d6d-458d89ec87c7"
      },
      "outputs": [],
      "source": [
        "p = Pelicula(\"El Padrino\", 175, 1972)\n",
        "print(p)"
      ]
    },
    {
      "cell_type": "code",
      "execution_count": null,
      "metadata": {
        "colab": {
          "base_uri": "https://localhost:8080/"
        },
        "id": "X0UaVTRAyjSp",
        "outputId": "bc7d47ec-829f-4668-dfc0-49979ec1a5e9"
      },
      "outputs": [],
      "source": [
        "q = Pelicula(\"Batman vs Superman\", 200, 2016)\n",
        "print(q)"
      ]
    },
    {
      "cell_type": "code",
      "execution_count": null,
      "metadata": {
        "colab": {
          "base_uri": "https://localhost:8080/"
        },
        "id": "ixqXUC9LyjSp",
        "outputId": "66c2ac6d-6b2d-4f29-a7e9-1b7de0cb7b20"
      },
      "outputs": [],
      "source": [
        "r = Pelicula(\"EL club de la pelea\", 120, 1999)\n",
        "print(r)"
      ]
    },
    {
      "cell_type": "code",
      "execution_count": null,
      "metadata": {
        "colab": {
          "base_uri": "https://localhost:8080/"
        },
        "id": "Tteqk94nyjSp",
        "outputId": "5d4786d1-8657-4e9b-976a-7b071119c9a8"
      },
      "outputs": [],
      "source": [
        "c = Catalogo([p,q,r])  # Añado una lista con una película desde el principio\n",
        "c.mostrar()"
      ]
    },
    {
      "cell_type": "code",
      "execution_count": null,
      "metadata": {
        "colab": {
          "base_uri": "https://localhost:8080/"
        },
        "id": "pAWWR_PEyjSp",
        "outputId": "3b22c15a-b0cb-4826-978e-780a50b63139"
      },
      "outputs": [],
      "source": [
        "c.agregar(Pelicula(\"El Padrino: Parte 2\", 202, 1974))  # Añadimos otra\n",
        "c.mostrar()"
      ]
    },
    {
      "cell_type": "code",
      "execution_count": null,
      "metadata": {
        "colab": {
          "base_uri": "https://localhost:8080/"
        },
        "id": "zzMXJerlyjSq",
        "outputId": "48c314c0-5730-4199-a42b-a2e4b7237193"
      },
      "outputs": [],
      "source": [
        "c.agregar(Pelicula(\"Interestellar\", 240, 2014))  # Añadimos otra\n",
        "c.mostrar()"
      ]
    },
    {
      "cell_type": "code",
      "execution_count": null,
      "metadata": {
        "id": "_BDooBdMyjSq"
      },
      "outputs": [],
      "source": [
        "c.quitar_ultimo()"
      ]
    },
    {
      "cell_type": "code",
      "execution_count": null,
      "metadata": {
        "colab": {
          "base_uri": "https://localhost:8080/"
        },
        "id": "8HV2K7v6yjSq",
        "outputId": "beb535be-6434-437f-cc3d-cccea18b475d"
      },
      "outputs": [],
      "source": [
        "c.mostrar()"
      ]
    },
    {
      "cell_type": "markdown",
      "metadata": {
        "id": "tuv7-4tMyjSq"
      },
      "source": [
        "#### Ejemplo 4:\n",
        "\n",
        "Listado de clientes en una empresa:"
      ]
    },
    {
      "cell_type": "code",
      "execution_count": null,
      "metadata": {
        "id": "Wmxjz7yUyjSq"
      },
      "outputs": [],
      "source": [
        "# Creo una estructura para los clientes\n",
        "class Cliente:\n",
        "\n",
        "    def __init__(self, dni, nombre, apellidos):\n",
        "        self.dni = dni\n",
        "        self.nombre = nombre\n",
        "        self.apellidos = apellidos\n",
        "\n",
        "    def __str__(self):\n",
        "        return '{} {}'.format(self.nombre,self.apellidos)\n",
        "\n",
        "# Y otra para las empresas\n",
        "class Empresa:\n",
        "\n",
        "    def __init__(self, clientes=[]):\n",
        "        self.clientes = clientes\n",
        "\n",
        "    def mostrar_cliente(self, dni=None):\n",
        "        for c in self.clientes:\n",
        "            if c.dni == dni:\n",
        "                print(c)\n",
        "                return\n",
        "        print(\"Cliente no encontrado\")\n",
        "\n",
        "    def borrar_cliente(self, dni=None):\n",
        "        for i,c in enumerate(self.clientes):\n",
        "            if c.dni == dni:\n",
        "                del(self.clientes[i])\n",
        "                print(str(c),\"> BORRADO\")\n",
        "                return\n",
        "        print(\"Cliente no encontrado\")"
      ]
    },
    {
      "cell_type": "code",
      "execution_count": null,
      "metadata": {
        "id": "cCpaeWsTyjSq"
      },
      "outputs": [],
      "source": [
        "# Creo un par de clientes\n",
        "hector = Cliente(nombre=\"Hector\", apellidos=\"Costa Guzman\", dni=\"11111111A\")\n",
        "juan = Cliente(\"22222222B\", \"Juan\", \"Gonzalez Marquez\")\n",
        "rosa = Cliente(\"33333333C\", \"Rosa\", \"Perez Quispe\")"
      ]
    },
    {
      "cell_type": "code",
      "execution_count": null,
      "metadata": {
        "colab": {
          "base_uri": "https://localhost:8080/"
        },
        "id": "M9wjLkKdyjSr",
        "outputId": "791203fc-7aeb-41f1-e3a3-e5a92d4ae1a2"
      },
      "outputs": [],
      "source": [
        "print(hector)"
      ]
    },
    {
      "cell_type": "code",
      "execution_count": null,
      "metadata": {
        "colab": {
          "base_uri": "https://localhost:8080/"
        },
        "id": "QGNln2f6yjSr",
        "outputId": "3c48f56e-6c97-4263-b61c-e607933f6b39"
      },
      "outputs": [],
      "source": [
        "print(juan)"
      ]
    },
    {
      "cell_type": "code",
      "execution_count": null,
      "metadata": {
        "colab": {
          "base_uri": "https://localhost:8080/",
          "height": 36
        },
        "id": "Vd5EgPoHyjSr",
        "outputId": "3bb32ca7-ca0f-4213-fd40-a57c12dae819"
      },
      "outputs": [],
      "source": [
        "rosa.dni"
      ]
    },
    {
      "cell_type": "code",
      "execution_count": null,
      "metadata": {
        "id": "25dd8WliyjSr"
      },
      "outputs": [],
      "source": [
        "# Creo una empresa con los clientes iniciales\n",
        "empresa = Empresa(clientes=[hector, juan, rosa])"
      ]
    },
    {
      "cell_type": "code",
      "execution_count": null,
      "metadata": {
        "colab": {
          "base_uri": "https://localhost:8080/"
        },
        "id": "04wL39KLyjSr",
        "outputId": "bf61b196-88c3-45bd-c7e6-089c0656a3bf"
      },
      "outputs": [],
      "source": [
        "# Muestro todos los clientes\n",
        "print(\"==CANTIDAD DE CLIENTES==\")\n",
        "len(empresa.clientes)"
      ]
    },
    {
      "cell_type": "code",
      "execution_count": null,
      "metadata": {
        "colab": {
          "base_uri": "https://localhost:8080/"
        },
        "id": "Mgm-lsJcyjSr",
        "outputId": "f301ea83-b8f2-42e0-9165-cec619a180e1"
      },
      "outputs": [],
      "source": [
        "print(\"\\n==MOSTRAR CLIENTES POR DNI==\")\n",
        "# Consulto clientes por DNI\n",
        "empresa.mostrar_cliente(\"11111111A\")\n",
        "empresa.mostrar_cliente(\"11111111Z\")"
      ]
    },
    {
      "cell_type": "code",
      "execution_count": null,
      "metadata": {
        "colab": {
          "base_uri": "https://localhost:8080/"
        },
        "id": "kal4z6YJyjSr",
        "outputId": "18de0154-9003-450e-8c86-073973b09422"
      },
      "outputs": [],
      "source": [
        "print(\"\\n==BORRAR CLIENTES POR DNI==\")\n",
        "# Borro un cliente por DNI\n",
        "empresa.borrar_cliente(\"22222222V\")\n",
        "empresa.borrar_cliente(\"22222222B\")"
      ]
    },
    {
      "cell_type": "code",
      "execution_count": null,
      "metadata": {
        "colab": {
          "base_uri": "https://localhost:8080/"
        },
        "id": "uGu6pcvIyjSs",
        "outputId": "e8df4dd1-5272-4061-f4d8-568167bb46dd"
      },
      "outputs": [],
      "source": [
        "# Muestro de nuevo todos los clientes\n",
        "print(\"\\n==CANTIDAD DE CLIENTES==\")\n",
        "len(empresa.clientes)"
      ]
    }
  ],
  "metadata": {
    "colab": {
      "provenance": []
    },
    "kernelspec": {
      "display_name": "Python 3 (ipykernel)",
      "language": "python",
      "name": "python3"
    },
    "language_info": {
      "codemirror_mode": {
        "name": "ipython",
        "version": 3
      },
      "file_extension": ".py",
      "mimetype": "text/x-python",
      "name": "python",
      "nbconvert_exporter": "python",
      "pygments_lexer": "ipython3",
      "version": "3.12.2"
    }
  },
  "nbformat": 4,
  "nbformat_minor": 0
}
