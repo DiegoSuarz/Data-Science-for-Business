{
  "cells": [
    {
      "cell_type": "markdown",
      "metadata": {
        "id": "EdvGXXsV0jFu"
      },
      "source": [
        "# Examen Práctico - Ciencia de Datos y Herramientas\n",
        "\n",
        "Resolver las siguientes preguntas. El código y las salidas se deben presentar en este notebook. Colocar su nombre en este notebook."
      ]
    },
    {
      "cell_type": "markdown",
      "metadata": {
        "id": "OsM72b4y0jFz"
      },
      "source": [
        "**Nombre:** Diego Roberto Suarez Inocente"
      ]
    },
    {
      "cell_type": "markdown",
      "metadata": {
        "id": "6HLPaGN40jF0"
      },
      "source": [
        "### Pregunta 1 (3 puntos)\n",
        "Escribir una función que genere una lista de números enteros aleatorios (debe ingresar el número de valores a generar) y que devuelva las siguientes salidas: Una lista ordenada con los números pares, una lista ordenada con los números impares y la cantidad de números de cada lista final."
      ]
    },
    {
      "cell_type": "code",
      "execution_count": 5,
      "metadata": {},
      "outputs": [],
      "source": [
        "import numpy as np\n",
        "import pandas as pd"
      ]
    },
    {
      "cell_type": "code",
      "execution_count": 3,
      "metadata": {
        "id": "u1zn8i-z0jF1"
      },
      "outputs": [
        {
          "ename": "ValueError",
          "evalue": "invalid literal for int() with base 10: ''",
          "output_type": "error",
          "traceback": [
            "\u001b[1;31m---------------------------------------------------------------------------\u001b[0m",
            "\u001b[1;31mValueError\u001b[0m                                Traceback (most recent call last)",
            "Cell \u001b[1;32mIn[3], line 15\u001b[0m\n\u001b[0;32m     12\u001b[0m     \u001b[38;5;28mprint\u001b[39m(\u001b[38;5;124mf\u001b[39m\u001b[38;5;124m'\u001b[39m\u001b[38;5;124mLa lista de numero pares son \u001b[39m\u001b[38;5;132;01m{\u001b[39;00mlista_par\u001b[38;5;132;01m}\u001b[39;00m\u001b[38;5;124m, teniendo una cantidad de \u001b[39m\u001b[38;5;132;01m{\u001b[39;00m\u001b[38;5;28mlen\u001b[39m(lista_par)\u001b[38;5;132;01m}\u001b[39;00m\u001b[38;5;124m elementos\u001b[39m\u001b[38;5;124m'\u001b[39m)    \n\u001b[0;32m     13\u001b[0m     \u001b[38;5;28mprint\u001b[39m(\u001b[38;5;124mf\u001b[39m\u001b[38;5;124m'\u001b[39m\u001b[38;5;124mLa lista de numero impares son \u001b[39m\u001b[38;5;132;01m{\u001b[39;00mlista_impar\u001b[38;5;132;01m}\u001b[39;00m\u001b[38;5;124m, teniendo una cantidad de \u001b[39m\u001b[38;5;132;01m{\u001b[39;00m\u001b[38;5;28mlen\u001b[39m(lista_impar)\u001b[38;5;132;01m}\u001b[39;00m\u001b[38;5;124m elementos\u001b[39m\u001b[38;5;124m'\u001b[39m)    \n\u001b[1;32m---> 15\u001b[0m numero \u001b[38;5;241m=\u001b[39m \u001b[38;5;28;43mint\u001b[39;49m\u001b[43m(\u001b[49m\u001b[38;5;28;43minput\u001b[39;49m\u001b[43m(\u001b[49m\u001b[38;5;124;43m\"\u001b[39;49m\u001b[38;5;124;43mingrese un número\u001b[39;49m\u001b[38;5;124;43m\"\u001b[39;49m\u001b[43m)\u001b[49m\u001b[43m)\u001b[49m\n\u001b[0;32m     16\u001b[0m num_aleatorio(numero)\n",
            "\u001b[1;31mValueError\u001b[0m: invalid literal for int() with base 10: ''"
          ]
        }
      ],
      "source": [
        "# Responder aquí\n",
        "def num_aleatorio(num):\n",
        "    lista_par = []\n",
        "    lista_impar = []\n",
        "    lista = pd.Series(np.random.randint(0,100,num))\n",
        "\n",
        "    for i in lista:\n",
        "        if i %2 == 0:\n",
        "            lista_par.append(i)\n",
        "        else:\n",
        "            lista_impar.append(i)\n",
        "    print(f'La lista de numero pares son {lista_par}, teniendo una cantidad de {len(lista_par)} elementos')    \n",
        "    print(f'La lista de numero impares son {lista_impar}, teniendo una cantidad de {len(lista_impar)} elementos')    \n",
        "\n",
        "numero = int(input(\"ingrese un número\"))\n",
        "num_aleatorio(numero)\n",
        "\n",
        "    "
      ]
    },
    {
      "cell_type": "markdown",
      "metadata": {
        "id": "Jb43XzEA0jF2"
      },
      "source": [
        "### Pregunta 2 (3 puntos)\n",
        "\n",
        "Resuelva el siguiente sistema de ecuaciones. Compruebe la solución realizando la multiplicación matricial.\n",
        "\n",
        "<img src=\"http://drive.google.com/uc?export=view&id=1pQP_8K7O3FzucCRGdxH8zlFeTDWlb-jZ\">"
      ]
    },
    {
      "cell_type": "code",
      "execution_count": null,
      "metadata": {
        "id": "ECr89ZDA0jF2"
      },
      "outputs": [
        {
          "name": "stdout",
          "output_type": "stream",
          "text": [
            "[-1.  3. -2.]\n"
          ]
        }
      ],
      "source": [
        "# Responder aquí\n",
        "A = np.array([[2,1,-3],[5,-4,1],[1,-1,-4]])\n",
        "B = np.array([7,-19,4])\n",
        "res = np.dot(np.linalg.inv(A),B)\n",
        "\n",
        "print(res)"
      ]
    },
    {
      "cell_type": "markdown",
      "metadata": {
        "id": "kY7-TjRx0jF3"
      },
      "source": [
        "### Pregunta 3 (4 puntos)\n",
        "\n",
        "Escribir un programa que simule un juego de adivinar una palabra. El programa debe realizar lo siguiente:\n",
        "\n",
        "* El programa debe preguntar al usuario la palabra a adivinar. A partir de la palabra introducida debe crear una lista con los caracteres de la palabra.\n",
        "* Después debe ir preguntando al usuario por letras hasta un máximo de 5 fallos o hasta que no queden letras en la lista. En ambos casos el programa terminará pero mostrará el mensaje “Perdiste” si se comenten 5 fallos y el mensaje “Ganaste” si no quedan palabras en la lista.\n",
        "* La letra debería contar así esté en mayúscula o minúscula.\n",
        "* Cada vez que el usuario introduzca una nueva letra, si la letra está en la lista se eliminará y mostrará el mensaje “CORRECTO”, mientras que si la letra no está en la lista mostrará el mensaje “FALLO”. Si la letra está más de una vez en la lista, se eliminarán todas las posiciones donde aparezca.\n",
        "* EXTRA: Cada vez que el usuario acierte una letra debe mostrar la palabra a adivinar con las letras acertadas hasta el momento y el resto reemplazadas por asteriscos."
      ]
    },
    {
      "cell_type": "code",
      "execution_count": null,
      "metadata": {
        "id": "jfOMvSVS0jF6"
      },
      "outputs": [
        {
          "name": "stdout",
          "output_type": "stream",
          "text": [
            "6\n",
            "['*', '*', '*', '*', '*', '*']\n",
            "['h', 'o', 'l', 'a', 's', 's']\n",
            "intento 1\n",
            "['*', '*', '*', '*', '*', '*']\n",
            "CORRECTO\n",
            "intento 2\n",
            "['h', '*', '*', '*', '*', '*']\n",
            "CORRECTO\n",
            "intento 3\n",
            "['h', 'o', '*', '*', '*', '*']\n",
            "CORRECTO\n",
            "intento 4\n",
            "['h', 'o', '*', 'a', '*', '*']\n",
            "CORRECTO\n",
            "intento 5\n",
            "['h', 'o', 'l', 'a', '*', '*']\n",
            "CORRECTO\n",
            "intento 6\n",
            "['h', 'o', 'l', 'a', 's', 's']\n",
            "CORRECTO\n",
            "['h', 'o', 'l', 'a', 's', 's']\n",
            "Ganaste\n"
          ]
        }
      ],
      "source": [
        "# Responder aquí\n",
        "palabra = input(\"Ingrese una palabra: \")\n",
        "\n",
        "def adivinar(palabra):\n",
        "    letras = palabra.lower()\n",
        "    letras = list(letras)\n",
        "    lista = []\n",
        "    index = 0\n",
        "    for letra in letras:\n",
        "        lista.append('*')\n",
        "\n",
        "    print(len(letras))\n",
        "    print(lista)\n",
        "    print(letras)\n",
        "    repeticion = len(letras)\n",
        "    index = 0\n",
        "    index1 = 0\n",
        "    fallo = 0\n",
        "    correcto = 0\n",
        "    while(fallo <= 4):\n",
        "        print(f\"intento {index1 + 1}\")\n",
        "        print(lista)\n",
        "        let = input(\"Ingrese una letra\")\n",
        "        index = 0\n",
        "      \n",
        "        for letra in letras:\n",
        "            if let == letra:\n",
        "                \n",
        "                lista[index] = let\n",
        "                correcto += 1\n",
        "\n",
        "            index += 1\n",
        "        index1 += 1 \n",
        "        #print(letras)\n",
        "        if correcto > 0:\n",
        "            print(\"CORRECTO\")\n",
        "            correcto = 0\n",
        "        else:\n",
        "            print(\"FALLO\")\n",
        "            fallo += 1\n",
        "        #print(correcto)\n",
        "\n",
        "        if index1 == repeticion:\n",
        "            break   \n",
        "    print(lista)        \n",
        "    if correcto > 0:\n",
        "        print(\"Perdiste\")\n",
        "    else:\n",
        "        print(\"Ganaste\")\n",
        "       \n",
        "adivinar(palabra)\n",
        "\n",
        "\n"
      ]
    },
    {
      "cell_type": "markdown",
      "metadata": {
        "id": "fqbqWQC60jF6"
      },
      "source": [
        "### Pregunta 4 (5 puntos)\n",
        "\n",
        "El cálculo del impuesto a la renta de quinta categoría de la SUNAT se define de forma progresiva. Se divide los ingresos anuales en tramos y asigna un porcentaje a pagar en cada uno de ellos. Previemente a la aplicación de los siguientes tramos, se deducen 7 UIT al ingreso anual. Para el excedente, los tramos son los siguientes:\n",
        "\n",
        "| Tramos Impuesto             | Tasa a aplicar  |\n",
        "| :-------------------------- | :-------------: |\n",
        "| Hasta 5 UIT                 |        8%       |\n",
        "| Más de 5 UIT hasta 20 UIT   |       14%       |\n",
        "| Más de 20 UIT hasta 35 UIT  |       17%       |\n",
        "| Más de 35 UIT hasta 45 UIT  |       20%       |\n",
        "| Más de 45 UIT               |       30%       |\n",
        "\n",
        "Por ejemplo, para una persona con un ingreso anual de S/ 120000, el cálculo del impuesto se haría así:\n",
        "\n",
        "- Paso 1: Restar las deducciones. Deducción de 7 UIT (se aplica la UIT del año 2021: S/4400).\n",
        "          7 X 4400 = 30800. Entonces: 120000 - 30800 = 89200 (Renta Neta de Quinta categoría).\n",
        "- Paso 2: Aplicar las tasas del Impuesto. De acuerdo al importe de la Renta Neta, sólo se aplicará hasta el tercer tramo.\n",
        "          En el primer tramo (Hasta 5 UIT): 22000 * 8% = 1760\n",
        "          En el segundo tramo (Más de 5 UIT hasta 20 UIT): 66000 * 14% = 9240\n",
        "          En el tercer tramo (Más de 20 UIT hasta 35 UIT): 1200 * 17% = 204\n",
        "La suma de las anteriores cantidades es el total a pagar: 11204 soles.\n",
        "\n",
        "Escribir un programa que pregunte por el ingreso anual del usuario y muestre por pantalla el impuesto que se debe pagar a la SUNAT."
      ]
    },
    {
      "cell_type": "code",
      "execution_count": null,
      "metadata": {},
      "outputs": [
        {
          "name": "stdout",
          "output_type": "stream",
          "text": [
            "El impuesto a pagar para un ingreso anual de 120000 soles es: 11204.000 soles\n"
          ]
        }
      ],
      "source": [
        "ingreso = int(input(\"Ingrese la cantidad de ingresos anuales: \"))\n",
        "\n",
        "def impuesto(ingreso_anual):\n",
        "    \n",
        "    UIT = 4400\n",
        "    UIT7 = 7 * UIT\n",
        "    RentaNetaQuintaCat = ingreso_anual - UIT7   \n",
        "\n",
        "    primerTramo = 5*UIT\n",
        "    segundoTramo = 20 * UIT\n",
        "    tercerTramo = 35 * UIT\n",
        "    cuartoTramo = 45 * UIT\n",
        "    \n",
        "    if RentaNetaQuintaCat <= primerTramo:\n",
        "        monto = RentaNetaQuintaCat * 0.08\n",
        "    elif RentaNetaQuintaCat <= segundoTramo:\n",
        "        monto = (primerTramo* 0.08) + ((RentaNetaQuintaCat - 5 * UIT) * 0.14)\n",
        "    elif RentaNetaQuintaCat <= tercerTramo:\n",
        "        monto = (primerTramo * 0.08) + (15 * UIT * 0.14) + ((RentaNetaQuintaCat - 20 * UIT) * 0.17)\n",
        "    elif RentaNetaQuintaCat <= cuartoTramo:\n",
        "        monto = (primerTramo * 0.08) + (15 * UIT * 0.14) + (15 * UIT * 0.17) + ((RentaNetaQuintaCat - 35 * UIT) * 0.20)\n",
        "    else:\n",
        "        monto = (primerTramo * 0.08) + (15 * UIT * 0.14) + (15 * UIT * 0.17) + (10 * UIT * 0.20) + ((RentaNetaQuintaCat - 45 * UIT) * 0.30)\n",
        "\n",
        "    return monto\n",
        "\n",
        "impuesto = impuesto(ingreso)\n",
        "print(f\"El impuesto a pagar para un ingreso anual de {ingreso} soles es: {impuesto:.2f} soles\")"
      ]
    },
    {
      "cell_type": "markdown",
      "metadata": {
        "id": "avarjUWd0jF_"
      },
      "source": [
        "### Pregunta 5 (5 puntos)\n",
        "\n",
        "Utilizando Pandas y Matplotlib, realice lo siguiente:\n",
        "\n",
        "1. Crear el siguiente DataFrame (agregue información adicional para el fin de semana con datos ficticios):\n",
        "  ```sh\n",
        "    Calorias  Tiempo\n",
        "  L      420      60\n",
        "  M      380      40\n",
        "  X      390      75\n",
        "  J      490      55\n",
        "  V      300      45\n",
        "  ```\n",
        "2. Calcular la media, mediana y desviación típica de ambas columnas.\n",
        "3. Añadir otra columna al DataFrame para ver si se ha cumplido el reto de quemar más de 400 calorías por hora. La nueva columna debe generarse aplicando una fórmula a las otras columnas. El DataFrame resultante debe ser el siguiente:\n",
        "  ```sh\n",
        "    Calorias  Tiempo   Reto\n",
        "  L      420      60   Cumple\n",
        "  M      380      40   Cumple\n",
        "  X      390      75  No cumple\n",
        "  J      490      55   Cumple\n",
        "  V      300      45  No cumple\n",
        "  ```\n",
        "4. Filtrar el DataFrame y devolver otro DataFrame con las filas pares que cumplan que el número de calorías es mayor de 400.\n",
        "5. Crear a partir del DataFrame una serie con los porcentajes de días que se ha conseguido el reto y los que no.\n",
        "6. (OPCIONAL) Crear un gráfico similar al siguiente, que muestre la progresión de las calorías y tiempo durante la semana.\n",
        "\n",
        "<img src=\"http://drive.google.com/uc?export=view&id=1mjm4Xn9SUVhf_RoItq3jw7tfHfPF8xrB\">"
      ]
    },
    {
      "cell_type": "code",
      "execution_count": 7,
      "metadata": {
        "id": "2kYZWUso0jGA"
      },
      "outputs": [
        {
          "data": {
            "text/html": [
              "<div>\n",
              "<style scoped>\n",
              "    .dataframe tbody tr th:only-of-type {\n",
              "        vertical-align: middle;\n",
              "    }\n",
              "\n",
              "    .dataframe tbody tr th {\n",
              "        vertical-align: top;\n",
              "    }\n",
              "\n",
              "    .dataframe thead th {\n",
              "        text-align: right;\n",
              "    }\n",
              "</style>\n",
              "<table border=\"1\" class=\"dataframe\">\n",
              "  <thead>\n",
              "    <tr style=\"text-align: right;\">\n",
              "      <th></th>\n",
              "      <th>Calorias</th>\n",
              "      <th>Tiempo</th>\n",
              "    </tr>\n",
              "  </thead>\n",
              "  <tbody>\n",
              "    <tr>\n",
              "      <th>L</th>\n",
              "      <td>420</td>\n",
              "      <td>60</td>\n",
              "    </tr>\n",
              "    <tr>\n",
              "      <th>M</th>\n",
              "      <td>380</td>\n",
              "      <td>40</td>\n",
              "    </tr>\n",
              "    <tr>\n",
              "      <th>X</th>\n",
              "      <td>390</td>\n",
              "      <td>75</td>\n",
              "    </tr>\n",
              "    <tr>\n",
              "      <th>J</th>\n",
              "      <td>490</td>\n",
              "      <td>55</td>\n",
              "    </tr>\n",
              "    <tr>\n",
              "      <th>V</th>\n",
              "      <td>300</td>\n",
              "      <td>45</td>\n",
              "    </tr>\n",
              "    <tr>\n",
              "      <th>S</th>\n",
              "      <td>500</td>\n",
              "      <td>57</td>\n",
              "    </tr>\n",
              "    <tr>\n",
              "      <th>D</th>\n",
              "      <td>280</td>\n",
              "      <td>45</td>\n",
              "    </tr>\n",
              "  </tbody>\n",
              "</table>\n",
              "</div>"
            ],
            "text/plain": [
              "   Calorias  Tiempo\n",
              "L       420      60\n",
              "M       380      40\n",
              "X       390      75\n",
              "J       490      55\n",
              "V       300      45\n",
              "S       500      57\n",
              "D       280      45"
            ]
          },
          "metadata": {},
          "output_type": "display_data"
        }
      ],
      "source": [
        "# Responder aquí\n",
        "df = pd.DataFrame({'Calorias' : [420,380,390,490,300,500,280], 'Tiempo':[60,40,75,55,45,57,45]},index=['L','M','X','J','V','S','D'])\n",
        "\n",
        "display(df)\n"
      ]
    },
    {
      "cell_type": "code",
      "execution_count": 8,
      "metadata": {},
      "outputs": [
        {
          "data": {
            "text/html": [
              "<div>\n",
              "<style scoped>\n",
              "    .dataframe tbody tr th:only-of-type {\n",
              "        vertical-align: middle;\n",
              "    }\n",
              "\n",
              "    .dataframe tbody tr th {\n",
              "        vertical-align: top;\n",
              "    }\n",
              "\n",
              "    .dataframe thead th {\n",
              "        text-align: right;\n",
              "    }\n",
              "</style>\n",
              "<table border=\"1\" class=\"dataframe\">\n",
              "  <thead>\n",
              "    <tr style=\"text-align: right;\">\n",
              "      <th></th>\n",
              "      <th>count</th>\n",
              "      <th>mean</th>\n",
              "      <th>std</th>\n",
              "      <th>min</th>\n",
              "      <th>25%</th>\n",
              "      <th>50%</th>\n",
              "      <th>75%</th>\n",
              "      <th>max</th>\n",
              "    </tr>\n",
              "  </thead>\n",
              "  <tbody>\n",
              "    <tr>\n",
              "      <th>Calorias</th>\n",
              "      <td>7.0</td>\n",
              "      <td>394.285714</td>\n",
              "      <td>84.824749</td>\n",
              "      <td>280.0</td>\n",
              "      <td>340.0</td>\n",
              "      <td>390.0</td>\n",
              "      <td>455.0</td>\n",
              "      <td>500.0</td>\n",
              "    </tr>\n",
              "    <tr>\n",
              "      <th>Tiempo</th>\n",
              "      <td>7.0</td>\n",
              "      <td>53.857143</td>\n",
              "      <td>11.866319</td>\n",
              "      <td>40.0</td>\n",
              "      <td>45.0</td>\n",
              "      <td>55.0</td>\n",
              "      <td>58.5</td>\n",
              "      <td>75.0</td>\n",
              "    </tr>\n",
              "  </tbody>\n",
              "</table>\n",
              "</div>"
            ],
            "text/plain": [
              "          count        mean        std    min    25%    50%    75%    max\n",
              "Calorias    7.0  394.285714  84.824749  280.0  340.0  390.0  455.0  500.0\n",
              "Tiempo      7.0   53.857143  11.866319   40.0   45.0   55.0   58.5   75.0"
            ]
          },
          "execution_count": 8,
          "metadata": {},
          "output_type": "execute_result"
        }
      ],
      "source": [
        "df.describe().T"
      ]
    },
    {
      "cell_type": "code",
      "execution_count": 10,
      "metadata": {},
      "outputs": [
        {
          "data": {
            "text/html": [
              "<div>\n",
              "<style scoped>\n",
              "    .dataframe tbody tr th:only-of-type {\n",
              "        vertical-align: middle;\n",
              "    }\n",
              "\n",
              "    .dataframe tbody tr th {\n",
              "        vertical-align: top;\n",
              "    }\n",
              "\n",
              "    .dataframe thead th {\n",
              "        text-align: right;\n",
              "    }\n",
              "</style>\n",
              "<table border=\"1\" class=\"dataframe\">\n",
              "  <thead>\n",
              "    <tr style=\"text-align: right;\">\n",
              "      <th></th>\n",
              "      <th>Calorias</th>\n",
              "      <th>Tiempo</th>\n",
              "      <th>Reto</th>\n",
              "    </tr>\n",
              "  </thead>\n",
              "  <tbody>\n",
              "    <tr>\n",
              "      <th>L</th>\n",
              "      <td>420</td>\n",
              "      <td>60</td>\n",
              "      <td>Cumple</td>\n",
              "    </tr>\n",
              "    <tr>\n",
              "      <th>M</th>\n",
              "      <td>380</td>\n",
              "      <td>40</td>\n",
              "      <td>Cumple</td>\n",
              "    </tr>\n",
              "    <tr>\n",
              "      <th>X</th>\n",
              "      <td>390</td>\n",
              "      <td>75</td>\n",
              "      <td>No cumple</td>\n",
              "    </tr>\n",
              "    <tr>\n",
              "      <th>J</th>\n",
              "      <td>490</td>\n",
              "      <td>55</td>\n",
              "      <td>Cumple</td>\n",
              "    </tr>\n",
              "    <tr>\n",
              "      <th>V</th>\n",
              "      <td>300</td>\n",
              "      <td>45</td>\n",
              "      <td>No cumple</td>\n",
              "    </tr>\n",
              "    <tr>\n",
              "      <th>S</th>\n",
              "      <td>500</td>\n",
              "      <td>57</td>\n",
              "      <td>Cumple</td>\n",
              "    </tr>\n",
              "    <tr>\n",
              "      <th>D</th>\n",
              "      <td>280</td>\n",
              "      <td>45</td>\n",
              "      <td>No cumple</td>\n",
              "    </tr>\n",
              "  </tbody>\n",
              "</table>\n",
              "</div>"
            ],
            "text/plain": [
              "   Calorias  Tiempo       Reto\n",
              "L       420      60     Cumple\n",
              "M       380      40     Cumple\n",
              "X       390      75  No cumple\n",
              "J       490      55     Cumple\n",
              "V       300      45  No cumple\n",
              "S       500      57     Cumple\n",
              "D       280      45  No cumple"
            ]
          },
          "execution_count": 10,
          "metadata": {},
          "output_type": "execute_result"
        }
      ],
      "source": [
        "df['Reto'] = np.where((df['Calorias']/df['Tiempo'])*60>400,'Cumple','No cumple')\n",
        "df"
      ]
    },
    {
      "cell_type": "code",
      "execution_count": null,
      "metadata": {},
      "outputs": [
        {
          "data": {
            "text/html": [
              "<div>\n",
              "<style scoped>\n",
              "    .dataframe tbody tr th:only-of-type {\n",
              "        vertical-align: middle;\n",
              "    }\n",
              "\n",
              "    .dataframe tbody tr th {\n",
              "        vertical-align: top;\n",
              "    }\n",
              "\n",
              "    .dataframe thead th {\n",
              "        text-align: right;\n",
              "    }\n",
              "</style>\n",
              "<table border=\"1\" class=\"dataframe\">\n",
              "  <thead>\n",
              "    <tr style=\"text-align: right;\">\n",
              "      <th></th>\n",
              "      <th>Calorias</th>\n",
              "      <th>Tiempo</th>\n",
              "      <th>Reto</th>\n",
              "    </tr>\n",
              "  </thead>\n",
              "  <tbody>\n",
              "    <tr>\n",
              "      <th>L</th>\n",
              "      <td>420</td>\n",
              "      <td>60</td>\n",
              "      <td>Cumple</td>\n",
              "    </tr>\n",
              "  </tbody>\n",
              "</table>\n",
              "</div>"
            ],
            "text/plain": [
              "   Calorias  Tiempo    Reto\n",
              "L       420      60  Cumple"
            ]
          },
          "metadata": {},
          "output_type": "display_data"
        }
      ],
      "source": [
        "df1 = df.iloc[[0,2,4,6],:]\n",
        "display(df1[(df1['Calorias']>400)])\n"
      ]
    },
    {
      "cell_type": "code",
      "execution_count": null,
      "metadata": {},
      "outputs": [
        {
          "name": "stdout",
          "output_type": "stream",
          "text": [
            "Reto\n",
            "No cumple    57.14\n",
            "Cumple       42.86\n",
            "Name: count, dtype: float64\n"
          ]
        }
      ],
      "source": [
        "reto = df['Reto'].value_counts()\n",
        "porcentaje = round((reto/7)*100,2)\n",
        "print(porcentaje)"
      ]
    },
    {
      "cell_type": "code",
      "execution_count": null,
      "metadata": {},
      "outputs": [
        {
          "data": {
            "image/png": "[encoded data removed]",
            "text/plain": [
              "<Figure size 800x500 with 1 Axes>"
            ]
          },
          "metadata": {},
          "output_type": "display_data"
        }
      ],
      "source": [
        "import matplotlib.pyplot as plt\n",
        "# Crear un gráfico de líneas\n",
        "plt.figure(figsize=(8, 5))  # Tamaño de la figura\n",
        "plt.plot(df['Tiempo'], marker='o', linestyle='-', color='orange', alpha=0.7,label = 'Tiempo')\n",
        "plt.plot(df['Calorias'], marker='+', linestyle='-', color='blue', alpha=0.7,label = 'Calorias')\n",
        "\n",
        "# Añadir etiquetas y título\n",
        "plt.title('Evolucion diaria')\n",
        "plt.xlabel('Dias')\n",
        "plt.ylabel('Calorías')\n",
        "\n",
        "plt.legend()\n",
        "\n",
        "\n",
        "plt.grid(False)  \n",
        "plt.show()"
      ]
    }
  ],
  "metadata": {
    "colab": {
      "provenance": []
    },
    "kernelspec": {
      "display_name": "Python 3 (ipykernel)",
      "language": "python",
      "name": "python3"
    },
    "language_info": {
      "codemirror_mode": {
        "name": "ipython",
        "version": 3
      },
      "file_extension": ".py",
      "mimetype": "text/x-python",
      "name": "python",
      "nbconvert_exporter": "python",
      "pygments_lexer": "ipython3",
      "version": "3.12.2"
    }
  },
  "nbformat": 4,
  "nbformat_minor": 0
}
