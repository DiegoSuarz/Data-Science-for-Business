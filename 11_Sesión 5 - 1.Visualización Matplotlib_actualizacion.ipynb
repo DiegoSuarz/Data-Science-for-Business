{
  "cells": [
    {
      "cell_type": "markdown",
      "metadata": {
        "id": "0GR2GmVSNYuI"
      },
      "source": [
        "# <u>Visualización con Matplotlib</u>"
      ]
    },
    {
      "cell_type": "markdown",
      "metadata": {
        "id": "xNlQfR66_sE-"
      },
      "source": [
        "Importar las librerías necesarias"
      ]
    },
    {
      "cell_type": "code",
      "execution_count": 1,
      "metadata": {
        "id": "WujUZB9-_sE-"
      },
      "outputs": [],
      "source": [
        "import pandas as pd\n",
        "import numpy as np\n",
        "import matplotlib.pyplot as plt"
      ]
    },
    {
      "cell_type": "code",
      "execution_count": 2,
      "metadata": {
        "id": "SxtYw7W-NYuN"
      },
      "outputs": [
        {
          "data": {
            "text/plain": [
              "'1.26.4'"
            ]
          },
          "execution_count": 2,
          "metadata": {},
          "output_type": "execute_result"
        }
      ],
      "source": [
        "import matplotlib\n",
        "matplotlib.__version__\n",
        "pd.__version__\n",
        "np.__version__"
      ]
    },
    {
      "cell_type": "markdown",
      "metadata": {
        "id": "QQ8ERcpX_sFB"
      },
      "source": [
        "#### Interfaz Pyplot"
      ]
    },
    {
      "cell_type": "markdown",
      "metadata": {
        "id": "hNQEV9J-_sFB"
      },
      "source": [
        "* Permite llevar a cabo la función plot: listas, arrays\n",
        "* Personalizar las líneas,colores, leyendas, etc.\n",
        "* Ofrece un conjunto de tipos de graficas: hist(), scatter(), boxplot(), etc.\n",
        "* Identificar los componentes:\n",
        "    * Datos: Listas, ndarray, Pandas Series\n",
        "    * Elementos: Titulos, nombre de los ejes, etc. Se accede a los elementos básicos con **.plt**\n",
        "\n",
        "\n",
        "* markers: https://matplotlib.org/api/markers_api.html\n",
        "* Leyenda: https://matplotlib.org/api/_as_gen/matplotlib.pyplot.legend.html\n",
        "* Colores: https://matplotlib.org/api/colors_api.html\n",
        "* Estilos: https://tonysyu.github.io/raw_content/matplotlib-style-gallery/gallery.html"
      ]
    },
    {
      "cell_type": "markdown",
      "metadata": {
        "id": "OZN82XT5NYuO"
      },
      "source": [
        "### 1. Gráfico de línea"
      ]
    },
    {
      "cell_type": "markdown",
      "metadata": {
        "id": "54_rAl0R_sFC"
      },
      "source": [
        "Caso 1:\n",
        "* Datos: Listas\n",
        "* Representación: Una línea con los puntos de cada lista"
      ]
    },
    {
      "cell_type": "code",
      "execution_count": null,
      "metadata": {
        "id": "l4CRbLCLNYuP"
      },
      "outputs": [],
      "source": [
        "# import numpy as np\n",
        "# import matplotlib.pyplot as plt"
      ]
    },
    {
      "cell_type": "code",
      "execution_count": null,
      "metadata": {
        "id": "l7Ugc6GENYuP"
      },
      "outputs": [],
      "source": [
        "# Un gráfico de línea\n",
        "a = [1, 2, 3, 4]\n",
        "b = [11, 22, 33, 44]\n",
        "\n",
        "plt.plot(a, b)\n",
        "plt.show()"
      ]
    },
    {
      "cell_type": "code",
      "execution_count": null,
      "metadata": {
        "id": "1r1RxLSDNYuP"
      },
      "outputs": [],
      "source": [
        "plt.plot(a, b, 'ro')\n",
        "plt.show()"
      ]
    },
    {
      "cell_type": "code",
      "execution_count": null,
      "metadata": {
        "id": "IkFpR0HSNYuP"
      },
      "outputs": [],
      "source": [
        "plt.plot(a, b, 'gs')\n",
        "plt.show()"
      ]
    },
    {
      "cell_type": "code",
      "execution_count": null,
      "metadata": {
        "id": "DPC-vmMoNYuQ"
      },
      "outputs": [],
      "source": [
        "plt.plot(a, b, 'ro')\n",
        "plt.axis([0, 6, 0, 60]) # especifica la ventana gráfica de los ejes.[xmin, xmax, ymin, ymax]\n",
        "plt.show()"
      ]
    },
    {
      "cell_type": "code",
      "execution_count": null,
      "metadata": {
        "id": "ZKAXRE0lNYuQ"
      },
      "outputs": [],
      "source": [
        "# Un gráfico de línea\n",
        "a = [1, 2, 3, 4]\n",
        "b = [11, 22, 33, 44]\n",
        "\n",
        "plt.plot(a, b, color='brown', linewidth=3, label='línea')\n",
        "plt.legend()\n",
        "plt.show()"
      ]
    },
    {
      "cell_type": "markdown",
      "metadata": {
        "id": "fElxlf7jNYuQ"
      },
      "source": [
        "![image.png](attachment:image.png)"
      ]
    },
    {
      "cell_type": "markdown",
      "metadata": {
        "id": "FOP1TTBoNYuR"
      },
      "source": [
        "![image.png](attachment:image.png)"
      ]
    },
    {
      "cell_type": "code",
      "execution_count": null,
      "metadata": {
        "id": "NY_k3gC2_sFC"
      },
      "outputs": [],
      "source": [
        "plt.plot([0, 0.1, 0.2, 0.5, 0.6],\n",
        "         [1,  -1,   0,   3,  -1],\n",
        "         marker = 'o',\n",
        "         linestyle = '--')\n",
        "plt.show()"
      ]
    },
    {
      "cell_type": "code",
      "execution_count": null,
      "metadata": {
        "id": "AR3baH-1NYuR"
      },
      "outputs": [],
      "source": [
        "plt.plot(a, b, color='g', marker='d', linestyle='dashed', linewidth=5, label='línea', markersize=15)\n",
        "plt.legend()\n",
        "plt.show()"
      ]
    },
    {
      "cell_type": "markdown",
      "metadata": {
        "id": "xlTCv225_sFG"
      },
      "source": [
        "Caso 2\n",
        "* Datos: Array\n",
        "* Representación: Una función en un solo sistema de ejes"
      ]
    },
    {
      "cell_type": "code",
      "execution_count": null,
      "metadata": {
        "id": "r6sWjEDH_sFG"
      },
      "outputs": [],
      "source": [
        "x=np.linspace(-1,5,20)"
      ]
    },
    {
      "cell_type": "code",
      "execution_count": null,
      "metadata": {
        "id": "iMyhRoBcNYuS"
      },
      "outputs": [],
      "source": [
        "x"
      ]
    },
    {
      "cell_type": "code",
      "execution_count": null,
      "metadata": {
        "id": "BEXEVDQ9_sFI"
      },
      "outputs": [],
      "source": [
        "def f(x):\n",
        "    return np.exp(-x**2)"
      ]
    },
    {
      "cell_type": "code",
      "execution_count": null,
      "metadata": {
        "id": "0P96R7Yc_sFM"
      },
      "outputs": [],
      "source": [
        "# Calculando la función a los valores del objeto x\n",
        "f(x)"
      ]
    },
    {
      "cell_type": "code",
      "execution_count": null,
      "metadata": {
        "id": "L5piJDwm_sFO"
      },
      "outputs": [],
      "source": [
        "# Elementos: .plt()\n",
        "# Representando un solo gráfico\n",
        "\n",
        "plt.figure(figsize = (10,5)) # Aumentar el tamaño de la ventana\n",
        "plt.title(\"Grafica de la función f(x)\")\n",
        "plt.xlabel(\"Eje X\")\n",
        "plt.ylabel(\"Eje Y\")\n",
        "plt.axis((-1,5,-0.5,2))\n",
        "plt.plot(x,f(x),\n",
        "         marker = 'o',\n",
        "         linewidth = 2, #Aumentar el tamaño de la línea\n",
        "         color = 'r',\n",
        "         alpha = 0.8, #Tonalidad de la línea\n",
        "         markersize=5,\n",
        "         linestyle = '--',\n",
        "         label = 'f(x)')\n",
        "plt.legend()\n",
        "plt.show()"
      ]
    },
    {
      "cell_type": "code",
      "execution_count": null,
      "metadata": {
        "id": "-UAKMbskNYuT"
      },
      "outputs": [],
      "source": [
        "# Otro ejemplo\n",
        "npoints = 100\n",
        "\n",
        "X = np.random.randn(npoints)\n",
        "Y = -0.4 * X\n",
        "plt.plot(X,Y, label=\"otra linea\")\n",
        "plt.grid()   #agrega cuadriculas al gráfico\n",
        "plt.legend()\n",
        "plt.show()"
      ]
    },
    {
      "cell_type": "markdown",
      "metadata": {
        "id": "UnryN9gK_sFQ"
      },
      "source": [
        "Caso 3\n",
        "* Datos: Array\n",
        "* Representar: Dos gráficos en un mismo sistema de Ejes"
      ]
    },
    {
      "cell_type": "code",
      "execution_count": null,
      "metadata": {
        "id": "4NRhEPlY_sFR"
      },
      "outputs": [],
      "source": [
        "x=np.linspace(-1,5,20)"
      ]
    },
    {
      "cell_type": "code",
      "execution_count": null,
      "metadata": {
        "id": "jcoYHllG_sFT"
      },
      "outputs": [],
      "source": [
        "def fCuadratica(x):\n",
        "    return x**2\n",
        "\n",
        "def fCubica(x):\n",
        "    return x**3"
      ]
    },
    {
      "cell_type": "code",
      "execution_count": null,
      "metadata": {
        "id": "o2Zuqrux_sFV"
      },
      "outputs": [],
      "source": [
        "plt.figure(figsize=(10,5))\n",
        "plt.title(\"Mis gráficos\")\n",
        "plt.xlabel(\"Eje x\")\n",
        "plt.ylabel(\"Eje y\")\n",
        "plt.plot(x,fCuadratica(x),\n",
        "         #marker = '*',\n",
        "         #color = 'b',\n",
        "         #linestyle = '-',\n",
        "         '*b-',\n",
        "         label ='F(x)**2'\n",
        "         )\n",
        "plt.plot(x,fCubica(x),\n",
        "         #marker = 'o'\n",
        "         #color = 'k',\n",
        "         #linestyle = '--',\n",
        "         'ok--',\n",
        "         label ='F(x)**3')\n",
        "plt.legend(loc = 'best')\n",
        "plt.show()"
      ]
    },
    {
      "cell_type": "code",
      "execution_count": null,
      "metadata": {
        "id": "wN1oDMOjNYuU"
      },
      "outputs": [],
      "source": [
        "# evenly sampled time at 200ms intervals\n",
        "t = np.arange(0., 5., 0.2)\n",
        "\n",
        "# red dashes, blue squares and green triangles\n",
        "plt.plot(t, t, 'r--', t, t**2, 'sb-', t, t**3, 'g^:')\n",
        "plt.show()"
      ]
    },
    {
      "cell_type": "code",
      "execution_count": null,
      "metadata": {
        "id": "XWnQtdQxNYuU"
      },
      "outputs": [],
      "source": [
        "with plt.style.context('dark_background'):\n",
        "    plt.plot(np.sin(np.linspace(0, 2 * np.pi)), 'r-o')\n",
        "plt.show()"
      ]
    },
    {
      "cell_type": "code",
      "execution_count": null,
      "metadata": {
        "id": "vVqSyde4NYuV"
      },
      "outputs": [],
      "source": [
        "with plt.style.context('seaborn'):\n",
        "    plt.plot(np.sin(np.linspace(0, 2 * np.pi)), 'r-o')\n",
        "plt.axis([0, 15, 0, 1])   # permite tener un entorno del mismo tamaño de ambos ejes\n",
        "plt.show()"
      ]
    },
    {
      "cell_type": "markdown",
      "metadata": {
        "id": "7sPXfWVWNYuV"
      },
      "source": [
        "Para otros tipos de estilos: https://matplotlib.org/stable/gallery/style_sheets/style_sheets_reference.html"
      ]
    },
    {
      "cell_type": "markdown",
      "metadata": {
        "id": "YnWH4v3INYuV"
      },
      "source": [
        "### 2. Histograma"
      ]
    },
    {
      "cell_type": "markdown",
      "metadata": {
        "id": "602ATFWQ_sFY"
      },
      "source": [
        "Los histogramas representan en altura la acumulación de caso en intervalos de valor. Son apropiados para variables cuantitativas."
      ]
    },
    {
      "cell_type": "code",
      "execution_count": null,
      "metadata": {
        "id": "ylJL383D_sFY"
      },
      "outputs": [],
      "source": [
        "data_normal_1 = np.random.normal(loc = 1.0, scale = 0.5, size = 1000)\n",
        "\n",
        "# loc: Valor \"float\", representa el centro de la distribución\n",
        "# scale: Valor \"float\", representa la desviación Estandar de la distrib.\n",
        "# size: un valor \"int\""
      ]
    },
    {
      "cell_type": "code",
      "execution_count": null,
      "metadata": {
        "id": "pTk5y11Z_sFb"
      },
      "outputs": [],
      "source": [
        "print(data_normal_1.shape)\n",
        "print(data_normal_1.dtype)\n",
        "print(data_normal_1[0:30])"
      ]
    },
    {
      "cell_type": "code",
      "execution_count": null,
      "metadata": {
        "id": "-S2ZXYfk_sFd"
      },
      "outputs": [],
      "source": [
        "plt.title(\"Histograma\")\n",
        "plt.xlabel(\"Valor\")\n",
        "plt.ylabel(\"Frecuencia\")\n",
        "plt.hist(data_normal_1,\n",
        "         bins = 40,\n",
        "         alpha = 0.6,\n",
        "         edgecolor ='k',\n",
        "         label =\"Histograma Data 1\")\n",
        "# bins: numero de Intervalos de clase\n",
        "# alpha: Nitidez -[0-1]\n",
        "plt.legend()\n",
        "plt.show()"
      ]
    },
    {
      "cell_type": "markdown",
      "metadata": {
        "id": "K0aeqEr7NYuW"
      },
      "source": [
        "Podemos agregar texto usando **plt.text()**"
      ]
    },
    {
      "cell_type": "code",
      "execution_count": null,
      "metadata": {
        "id": "vMqxKlrjNYub"
      },
      "outputs": [],
      "source": [
        "Num_puntos = 1000\n",
        "mu = 10  # media of distribution\n",
        "sigma = 10  # desviación estándar\n",
        "x = mu + sigma * np.random.randn(Num_puntos) #genera Num_puntos puntos aleatorios de media mu y desviación tipica sigma."
      ]
    },
    {
      "cell_type": "code",
      "execution_count": null,
      "metadata": {
        "id": "MwY3VAE5NYub"
      },
      "outputs": [],
      "source": [
        "help(plt.text)"
      ]
    },
    {
      "cell_type": "code",
      "execution_count": null,
      "metadata": {
        "id": "gmd-Sb_rNYuc"
      },
      "outputs": [],
      "source": [
        "plt.figure(figsize = (10,10)) # Aumentar el tamaño de la ventana\n",
        "plt.hist(x, bins=20, color = 'skyblue', edgecolor='white')\n",
        "plt.text(20, 100, r'$\\mu=10,\\ \\sigma=10$', fontsize=20)\n",
        "plt.text(-10, 80, 'Hola', fontsize=20, bbox=dict(facecolor='red', alpha=0.5))\n",
        "plt.title('Histograma de IQ')\n",
        "plt.grid(True)   #agrega una trama de cuadrículas\n",
        "plt.show()"
      ]
    },
    {
      "cell_type": "code",
      "execution_count": null,
      "metadata": {
        "id": "Xc6XJ3SM_sFh"
      },
      "outputs": [],
      "source": [
        "data_normal_2 = np.random.normal(loc = 1.5, scale = 0.1, size = 500)\n",
        "data_normal_3 = np.random.normal(loc = 0.5, scale = 0.6, size = 500)"
      ]
    },
    {
      "cell_type": "markdown",
      "metadata": {
        "id": "IJZX43Q4NYuc"
      },
      "source": [
        "Otro ejemplo con histogramas:"
      ]
    },
    {
      "cell_type": "code",
      "execution_count": null,
      "metadata": {
        "id": "FI4Z_WeB_sFj"
      },
      "outputs": [],
      "source": [
        "plt.figure(figsize = (8,5))\n",
        "plt.title(\"Histograma\")\n",
        "plt.xlabel(\"Eje X\")\n",
        "plt.ylabel(\"Eje Y\")\n",
        "plt.hist(data_normal_2,bins = 20,alpha = 0.5, edgecolor = 'k',label ='Hist N2')\n",
        "plt.hist(data_normal_3,bins = 20,alpha = 0.5,edgecolor = 'k',label = 'Hist N3')\n",
        "plt.legend()\n",
        "plt.show()"
      ]
    },
    {
      "cell_type": "markdown",
      "metadata": {
        "id": "lYHL2fGs_sF-"
      },
      "source": [
        "### 3. Boxplot"
      ]
    },
    {
      "cell_type": "code",
      "execution_count": null,
      "metadata": {
        "id": "seeZO0gh_sF-"
      },
      "outputs": [],
      "source": [
        "# Cargar un dataset\n",
        "\n",
        "import pandas as pd\n",
        "import numpy as np\n",
        "import matplotlib.pyplot as plt"
      ]
    },
    {
      "cell_type": "code",
      "execution_count": null,
      "metadata": {
        "id": "Y9_W3JLV_sGN"
      },
      "outputs": [],
      "source": [
        "dfBoston=pd.read_csv('Boston.csv')"
      ]
    },
    {
      "cell_type": "code",
      "execution_count": null,
      "metadata": {
        "id": "r5dnrbDm_sGP"
      },
      "outputs": [],
      "source": [
        "dfBoston.head(5)"
      ]
    },
    {
      "cell_type": "code",
      "execution_count": null,
      "metadata": {
        "id": "xvdU2blW_sGT"
      },
      "outputs": [],
      "source": [
        "dfBoston.head(10)"
      ]
    },
    {
      "cell_type": "code",
      "execution_count": null,
      "metadata": {
        "id": "x5SWF2Ax_sGX"
      },
      "outputs": [],
      "source": [
        "dfBoston.head(5)"
      ]
    },
    {
      "cell_type": "code",
      "execution_count": null,
      "metadata": {
        "id": "rYt1C3oo_sGZ"
      },
      "outputs": [],
      "source": [
        "plt.title(\"Boxplot de Boston DataFrame\")\n",
        "plt.boxplot(dfBoston['medv'])\n",
        "plt.show()\n",
        "dfBoston['medv'].describe()"
      ]
    },
    {
      "cell_type": "code",
      "execution_count": null,
      "metadata": {
        "id": "soDZekKo_sGc"
      },
      "outputs": [],
      "source": [
        "plt.figure(figsize = (5,3))\n",
        "plt.title(\"Boxplot\")\n",
        "plt.xlabel(\"Eje X\")\n",
        "plt.ylabel(\"Eje Y\")\n",
        "#plt.boxplot(dfBoston['RM'],flierprops={'markerfacecolor':'g','marker':'s'})\n",
        "plt.boxplot(dfBoston['rm'],showfliers=False,vert=False)\n",
        "plt.show()"
      ]
    },
    {
      "cell_type": "code",
      "execution_count": null,
      "metadata": {
        "id": "pJZ_b19L_sGe"
      },
      "outputs": [],
      "source": [
        "dfBoston.columns"
      ]
    },
    {
      "cell_type": "code",
      "execution_count": null,
      "metadata": {
        "id": "_5Uv2oM-_sGf"
      },
      "outputs": [],
      "source": [
        "var_plot = [dfBoston['lstat'],dfBoston['crim'],dfBoston['age'],dfBoston['medv']]"
      ]
    },
    {
      "cell_type": "code",
      "execution_count": null,
      "metadata": {
        "id": "0VatPXqt_sGi"
      },
      "outputs": [],
      "source": [
        "plt.boxplot(var_plot)\n",
        "plt.show()"
      ]
    },
    {
      "cell_type": "code",
      "execution_count": null,
      "metadata": {
        "id": "mTUc-qiH_sGk"
      },
      "outputs": [],
      "source": [
        "dfBoston[['lstat','crim','age','medv']].describe()"
      ]
    },
    {
      "cell_type": "markdown",
      "metadata": {
        "id": "zF64R5i7_sGq"
      },
      "source": [
        "### 4. Diagrama de barras"
      ]
    },
    {
      "cell_type": "markdown",
      "metadata": {
        "id": "hEES48uv_sGq"
      },
      "source": [
        "Para representar una variable categorica usamos el clasico diagrama de barras. Se representa en alturas cantidades asociadas a categorias de una variable."
      ]
    },
    {
      "cell_type": "code",
      "execution_count": null,
      "metadata": {
        "id": "t8E6-eRC_sGq"
      },
      "outputs": [],
      "source": [
        "distritos = ['Surco','Miraflores','Barranco','Ate','La Molina','SJM','SJL']"
      ]
    },
    {
      "cell_type": "code",
      "execution_count": null,
      "metadata": {
        "id": "7_yuCXbx_sGs"
      },
      "outputs": [],
      "source": [
        "#Altura\n",
        "nro_habitantes = [100,150,65,72,35,45,160]"
      ]
    },
    {
      "cell_type": "code",
      "execution_count": null,
      "metadata": {
        "id": "oYhqpwlK_sGu"
      },
      "outputs": [],
      "source": [
        "#Posicion - index\n",
        "posicion = list(range(len(distritos)))\n",
        "posicion"
      ]
    },
    {
      "cell_type": "code",
      "execution_count": null,
      "metadata": {
        "id": "Et3-ZC0c_sGw"
      },
      "outputs": [],
      "source": [
        "print(distritos)\n",
        "print(nro_habitantes)\n",
        "print(posicion)"
      ]
    },
    {
      "cell_type": "code",
      "execution_count": null,
      "metadata": {
        "id": "DAZJeRG4_sGx"
      },
      "outputs": [],
      "source": [
        "coorX = [0,1,2,3,4,5,6]\n",
        "coorY= [100, 150, 65, 72, 35, 45, 160]"
      ]
    },
    {
      "cell_type": "code",
      "execution_count": null,
      "metadata": {
        "id": "a7jwm4mO_sGy"
      },
      "outputs": [],
      "source": [
        "# Te crea una lista de tuplas\n",
        "list(zip(coorX,coorY))"
      ]
    },
    {
      "cell_type": "code",
      "execution_count": null,
      "metadata": {
        "id": "GHTPBx4m_sG0"
      },
      "outputs": [],
      "source": [
        "plt.bar(x=posicion,\n",
        "        height =nro_habitantes,\n",
        "        width=0.6,\n",
        "        align = 'center',\n",
        "        color = ['k','r','y','b','g','g','skyblue'],\n",
        "        edgecolor='k',\n",
        "        tick_label = distritos)\n",
        "\n",
        "plt.xticks(posicion, distritos, rotation='vertical')\n",
        "\n",
        "for x, y in zip(coorX, nro_habitantes):\n",
        "    plt.text(x,y,s=y,ha ='center',va ='bottom')\n",
        "\n",
        "plt.show()"
      ]
    },
    {
      "cell_type": "markdown",
      "metadata": {
        "id": "dlwq3wi7_sG2"
      },
      "source": [
        "### Dos variables cuantitativas"
      ]
    },
    {
      "cell_type": "markdown",
      "metadata": {
        "id": "ljNkmO0V_sG2"
      },
      "source": [
        "**Scatter Plot**\n",
        "\n",
        "* Esta relacionada con dos variables cuantitativas\n",
        "* El grado de asociación lineal que pueden tener dos variables cuantitativas"
      ]
    },
    {
      "cell_type": "code",
      "execution_count": null,
      "metadata": {
        "id": "CsMBwv8X_sG2"
      },
      "outputs": [],
      "source": [
        "dfBoston.head(10)"
      ]
    },
    {
      "cell_type": "code",
      "execution_count": null,
      "metadata": {
        "id": "6_lyAfsC_sG4"
      },
      "outputs": [],
      "source": [
        "plt.title(\"Diagrama de dispersión\")\n",
        "plt.scatter(dfBoston['age'],dfBoston['medv'],alpha =0.6,color = 'g')\n",
        "plt.xlabel(\"age\")\n",
        "plt.ylabel(\"medv\")\n",
        "plt.show()"
      ]
    },
    {
      "cell_type": "markdown",
      "metadata": {
        "id": "Bsa5H5HD_sG6"
      },
      "source": [
        "* Podemos observar una ligera relación inversa en la variable EDAD vs MEDV, esto significa que a medida que aumenta la edad ligeramente existe una concentración de menores valores de MEDV."
      ]
    },
    {
      "cell_type": "markdown",
      "metadata": {
        "id": "aBqqB3Fd_sG6"
      },
      "source": [
        "**Realizando otro ejemplo**"
      ]
    },
    {
      "cell_type": "code",
      "execution_count": null,
      "metadata": {
        "id": "yjT_H1TG_sG7"
      },
      "outputs": [],
      "source": [
        "datosNormal1 = np.random.normal(loc = 1, scale = 8, size = 500)\n",
        "datosNormal2 = np.random.normal(loc = 1, scale = 0.5, size = 500)\n",
        "datosNormal3 = np.random.normal(loc = 1, scale = 2 , size = 500)"
      ]
    },
    {
      "cell_type": "code",
      "execution_count": null,
      "metadata": {
        "id": "U9sQq_oP_sG8"
      },
      "outputs": [],
      "source": [
        "plt.figure(figsize=(10,10))\n",
        "plt.scatter(datosNormal1,datosNormal2,\n",
        "            marker = '*',\n",
        "            s = 70,\n",
        "            alpha = 0.5,color = 'b',label='N1 vs N2')\n",
        "plt.scatter(datosNormal1,datosNormal3,\n",
        "            marker='o',\n",
        "            s = 50,\n",
        "            alpha = 0.5,color = 'r',label='N1 vs N3')\n",
        "plt.legend(loc = 'best')\n",
        "plt.show()"
      ]
    },
    {
      "cell_type": "code",
      "execution_count": null,
      "metadata": {
        "id": "AjreiX3R_sG-"
      },
      "outputs": [],
      "source": [
        "tamaño=np.round(dfBoston['age'].head(100)*20,0)"
      ]
    },
    {
      "cell_type": "code",
      "execution_count": null,
      "metadata": {
        "id": "G-t4-yZe_sHA"
      },
      "outputs": [],
      "source": [
        "plt.figure(figsize=(10,5))\n",
        "plt.title(\"Diagrama de burbujas\")\n",
        "plt.xlabel(\"age\")\n",
        "plt.ylabel(\"medv\")\n",
        "plt.scatter(dfBoston['age'].head(100),dfBoston['medv'].head(100),\n",
        "           marker = 'o',\n",
        "            s = tamaño,\n",
        "            c=dfBoston['age'].head(100),\n",
        "           edgecolor = 'k',\n",
        "           alpha = 0.5)\n",
        "plt.axis((0,110,0,60))\n",
        "plt.show()"
      ]
    },
    {
      "cell_type": "markdown",
      "metadata": {
        "id": "lOsIDlD0NYum"
      },
      "source": [
        "### 5. Otros ejemplos\n",
        "\n",
        "Más información: https://pandas.pydata.org/pandas-docs/stable/reference/api/pandas.DataFrame.plot.html"
      ]
    },
    {
      "cell_type": "markdown",
      "metadata": {
        "id": "Ij4_b_ZyNYun"
      },
      "source": [
        "Para descargar una librería usar el siguiente comando:"
      ]
    },
    {
      "cell_type": "code",
      "execution_count": null,
      "metadata": {
        "id": "Nze6XCpnNYun"
      },
      "outputs": [],
      "source": [
        "!pip install pydataset"
      ]
    },
    {
      "cell_type": "code",
      "execution_count": null,
      "metadata": {
        "id": "OtzhxdiuNYun"
      },
      "outputs": [],
      "source": [
        "from pydataset import data   #contiene datasets incluidos para pruebas\n",
        "iris = data('iris')\n",
        "iris.head()"
      ]
    },
    {
      "cell_type": "code",
      "execution_count": null,
      "metadata": {
        "id": "NJucaPC6NYun"
      },
      "outputs": [],
      "source": [
        "# import pandas as pd\n",
        "# iris = pd.read_csv('data\\iris.csv', index_col = 'Unnamed: 0')\n",
        "# iris.head()"
      ]
    },
    {
      "cell_type": "code",
      "execution_count": null,
      "metadata": {
        "id": "hK05U8RPNYun"
      },
      "outputs": [],
      "source": [
        "#dibujando un gráfico de línea\n",
        "iris.plot(kind='line')\n",
        "plt.show()"
      ]
    },
    {
      "cell_type": "code",
      "execution_count": null,
      "metadata": {
        "id": "FSiSOx8YNYun"
      },
      "outputs": [],
      "source": [
        "iris.plot(kind='hist',edgecolor=\"black\",alpha=0.6)\n",
        "plt.show()"
      ]
    },
    {
      "cell_type": "code",
      "execution_count": null,
      "metadata": {
        "id": "8c6xtTrpNYuo"
      },
      "outputs": [],
      "source": [
        "iris['Sepal.Width'].plot(kind='hist', edgecolor=\"black\",color = 'brown',alpha=0.6)\n",
        "plt.show()"
      ]
    },
    {
      "cell_type": "code",
      "execution_count": null,
      "metadata": {
        "id": "gvzB5e5JNYuo"
      },
      "outputs": [],
      "source": [
        "#dibujando un boxplot\n",
        "iris.plot(kind='box')\n",
        "plt.show()"
      ]
    },
    {
      "cell_type": "code",
      "execution_count": null,
      "metadata": {
        "id": "uBdMdIh9NYuo"
      },
      "outputs": [],
      "source": [
        "#dibujando un boxplot por grupo\n",
        "iris.groupby('Species').plot(kind='box')\n",
        "plt.show()"
      ]
    },
    {
      "cell_type": "code",
      "execution_count": null,
      "metadata": {
        "id": "oEqrqOrJNYuo"
      },
      "outputs": [],
      "source": [
        "# gráfico de dispersión\n",
        "iris.plot(x='Sepal.Length', y='Sepal.Width',kind='scatter')\n",
        "plt.show()"
      ]
    },
    {
      "cell_type": "code",
      "execution_count": null,
      "metadata": {
        "id": "Uv6hV-lsNYuo"
      },
      "outputs": [],
      "source": [
        "iris['Color']='red' # Nueva columna con el color\n",
        "iris.loc[iris.Species == \"setosa\",'Color']='green'\n",
        "iris.loc[iris.Species == \"versicolor\",'Color']='blue'\n",
        "iris.head(20)"
      ]
    },
    {
      "cell_type": "code",
      "execution_count": null,
      "metadata": {
        "id": "HDM8RpqJNYuo"
      },
      "outputs": [],
      "source": [
        "iris['Color'].unique(), iris['Species'].unique()"
      ]
    },
    {
      "cell_type": "code",
      "execution_count": null,
      "metadata": {
        "id": "EUNYpCAwNYuo"
      },
      "outputs": [],
      "source": [
        "iris.plot(x='Sepal.Length', y='Sepal.Width', color =iris.Color, kind='scatter')\n",
        "plt.xlabel('sepal length (cm)')\n",
        "plt.ylabel('sepal width (cm)')\n",
        "# plt.legend()\n",
        "plt.show()"
      ]
    },
    {
      "cell_type": "markdown",
      "metadata": {
        "id": "g8ZEt-SjNYup"
      },
      "source": [
        "Veamos un ejemplo de gráfico adicionanto texto:"
      ]
    },
    {
      "cell_type": "code",
      "execution_count": null,
      "metadata": {
        "id": "vA_RFrnYNYup"
      },
      "outputs": [],
      "source": [
        "t = np.arange(0.0, 5.0, 0.01)\n",
        "s = np.cos(2*np.pi*t)\n",
        "line, = plt.plot(t, s, lw=2)\n",
        "\n",
        "plt.annotate('local max', xy=(2, 1), xytext=(3, 1.5),\n",
        "            arrowprops=dict(facecolor='black', shrink=0.05),)\n",
        "\n",
        "plt.ylim(-2,2)\n",
        "plt.show()"
      ]
    },
    {
      "cell_type": "markdown",
      "metadata": {
        "id": "V5RutKS-NYup"
      },
      "source": [
        "### 6. Subgráficos en varias secciones"
      ]
    },
    {
      "cell_type": "code",
      "execution_count": null,
      "metadata": {
        "id": "Bbn7mAn5NYup"
      },
      "outputs": [],
      "source": [
        "def f(t):\n",
        "    return np.exp(-t) * np.cos(2*np.pi*t)\n",
        "\n",
        "t1 = np.arange(0.0, 5.0, 0.1)\n",
        "t2 = np.arange(0.0, 5.0, 0.02)\n",
        "\n",
        "plt.figure(figsize=(10,5))\n",
        "plt.subplot(211)\n",
        "plt.plot(t1, f(t1), 'bo', t2, f(t2), 'k')\n",
        "\n",
        "plt.subplot(212)\n",
        "plt.plot(t2, np.cos(2*np.pi*t2), 'r--')\n",
        "plt.show()"
      ]
    },
    {
      "cell_type": "code",
      "execution_count": null,
      "metadata": {
        "id": "UeUxoWhVNYup"
      },
      "outputs": [],
      "source": [
        "Num_puntos = 1000\n",
        "mu = 10  # media of distribution\n",
        "sigma = 10  # desviación estándar\n",
        "x = mu + sigma * np.random.randn(Num_puntos) #genera Num_puntos puntos aleatorios de media mu y desviación tipica sigma.\n"
      ]
    },
    {
      "cell_type": "code",
      "execution_count": null,
      "metadata": {
        "id": "hsjLp1C3NYuq"
      },
      "outputs": [],
      "source": [
        "# usando el desempaquetado de tuplas para múltiples eje\n",
        "fig, (ax1,ax2) = plt.subplots(2,1,figsize=(10,5))   # divide el espacio gráfico en 2 filas y una columna\n",
        "\n",
        "# Preparamos un histograma en el subplot ax\n",
        "num_bins = 50 # numero de barras\n",
        "n, bins, patches = ax1.hist(x, num_bins, density=1,edgecolor='black',color=\"red\")\n",
        "ax1.set_title('Histograma')\n",
        "\n",
        "#función de una distribución normal de media mu y desviación tipica sigma.\n",
        "y = ((1 / (np.sqrt(2 * np.pi) * sigma)) * np.exp(-0.5 * (1 / sigma * (bins - mu))**2))\n",
        "\n",
        "ax2.plot(bins, y,'--',color=\"green\") # mete los valores de las Y y las X y las dibuja\n",
        "ax2.set_xlabel('Gente lista') #configura la leyenda de la grafica\n",
        "ax2.set_ylabel('Probabilidad')\n",
        "ax2.set_title('Histograma de CIs: $\\mu=100$, $\\sigma=15$')\n",
        "\n",
        "# Ajustar el espaciado para prevenir el recorte de las etiquetas y que no se superpongan\n",
        "fig.tight_layout()\n",
        "plt.show()"
      ]
    },
    {
      "cell_type": "code",
      "execution_count": null,
      "metadata": {
        "id": "xrzoVwRkNYuq"
      },
      "outputs": [],
      "source": [
        "# usando el desempaquetado de tuplas para múltiples ejes\n",
        "fig, (ax1,ax2) = plt.subplots(1,2,figsize=(10,5))   # divide el espacio gráfico en 1 fila y 2 columnas\n",
        "\n",
        "# Preparamos un histograma en el subplot ax\n",
        "num_bins = 20 # numero de barras\n",
        "n, bins, patches = ax1.hist(x, num_bins, density=1,edgecolor='black',color=\"red\")\n",
        "ax1.set_title('Histograma')\n",
        "\n",
        "#función de una distribución normal de media mu y desviación tipica sigma.\n",
        "y = ((1 / (np.sqrt(2 * np.pi) * sigma)) * np.exp(-0.5 * (1 / sigma * (bins - mu))**2))\n",
        "\n",
        "ax2.plot(bins, y,'--',color=\"green\") # mete los valores de las Y y las X y las dibuja\n",
        "ax2.set_xlabel('Gente lista') #configura la leyenda de la grafica\n",
        "ax2.set_ylabel('Probabilidad')\n",
        "ax2.set_title('Gráfico línea de CIs: $\\mu=100$, $\\sigma=15$')\n",
        "\n",
        "# Ajustar el espaciado para prevenir el recorte de la etiqueta y\n",
        "fig.tight_layout()\n",
        "plt.show()"
      ]
    },
    {
      "cell_type": "code",
      "execution_count": null,
      "metadata": {
        "id": "6eY0DzMENYuq"
      },
      "outputs": [],
      "source": [
        "import matplotlib.pyplot as plt\n",
        "\n",
        "s1 = iris['Sepal.Length']\n",
        "s2 = iris['Petal.Length']\n",
        "s3 = iris['Sepal.Width']\n",
        "s4 = iris['Petal.Width']\n",
        "\n",
        "# usando el desempaquetado de tuplas para múltiples ejes\n",
        "fig, ((ax1,ax2),(ax3,ax4)) = plt.subplots(2,2,figsize=(8,8))\n",
        "\n",
        "ax1.boxplot(s1, boxprops=dict(color='blue'))\n",
        "ax1.set_title('Largo de Sépalo')\n",
        "\n",
        "ax2.hist(s2, bins=30, density=1,edgecolor='black',color=\"green\")\n",
        "ax2.set_title('Largo de Pétalo')\n",
        "\n",
        "ax3.hist(s3, bins=10, density=1,edgecolor='black',color=\"blue\")\n",
        "ax3.set_title('Ancho de Sépalo')\n",
        "\n",
        "ax4.plot(s4,'-',color=\"red\")\n",
        "ax4.set_title('Ancho de Pétalo')\n",
        "\n",
        "# Ajustar el espaciado para prevenir el recorte de la etiqueta y\n",
        "fig.tight_layout()  # también ajustará el espacio entre las subparcelas para minimizar las superposiciones.\n",
        "plt.show()"
      ]
    },
    {
      "cell_type": "markdown",
      "metadata": {
        "id": "brs0Pt3fNYuq"
      },
      "source": [
        "**matplotlib.pyplot** admite no solo escalas de eje lineal, sino también escalas logarítmicas y logit. Esto se usa comúnmente si los datos abarcan muchos órdenes de magnitud. Cambiar la escala de un eje es fácil:\n",
        "\n",
        "**plt.xscale ('log')**\n",
        "\n",
        "A continuación se muestra un ejemplo de cuatro gráficos con los mismos datos y diferentes escalas para el eje y."
      ]
    },
    {
      "cell_type": "code",
      "execution_count": null,
      "metadata": {
        "id": "UMem_LzYNYuq"
      },
      "outputs": [],
      "source": [
        "from matplotlib.ticker import NullFormatter  # useful for `logit` scale\n",
        "\n",
        "# Fixing random state for reproducibility\n",
        "np.random.seed(19680801)\n",
        "\n",
        "# make up some data in the interval ]0, 1[\n",
        "y = np.random.normal(loc=0.5, scale=0.4, size=1000)\n",
        "y = y[(y > 0) & (y < 1)]\n",
        "y.sort()\n",
        "x = np.arange(len(y))\n",
        "\n",
        "# plot with various axes scales\n",
        "plt.figure(figsize=(8,8)) # podemos definir el tamaño de la figura\n",
        "\n",
        "# linear\n",
        "plt.subplot(221)\n",
        "plt.plot(x, y)\n",
        "plt.yscale('linear')\n",
        "plt.title('linear')\n",
        "plt.grid(True)\n",
        "\n",
        "# log\n",
        "plt.subplot(222)\n",
        "plt.plot(x, y)\n",
        "plt.yscale('log')\n",
        "plt.title('log')\n",
        "plt.grid(True)\n",
        "\n",
        "\n",
        "# logit\n",
        "plt.subplot(224)\n",
        "plt.plot(x, y)\n",
        "plt.yscale('logit')\n",
        "plt.title('logit')\n",
        "plt.grid(True)\n",
        "# Format the minor tick labels of the y-axis into empty strings with\n",
        "# `NullFormatter`, to avoid cumbering the axis with too many labels.\n",
        "plt.gca().yaxis.set_minor_formatter(NullFormatter())\n",
        "# Adjust the subplot layout, because the logit one may take more space\n",
        "# than usual, due to y-tick labels like \"1 - 10^{-3}\"\n",
        "plt.subplots_adjust(top=0.92, bottom=0.08, left=0.10, right=0.95, hspace=0.25,\n",
        "                    wspace=0.35)\n",
        "\n",
        "plt.show()"
      ]
    },
    {
      "cell_type": "markdown",
      "metadata": {
        "id": "elNwYnApNYur"
      },
      "source": [
        "### 7. Composición de 2 gráficos"
      ]
    },
    {
      "cell_type": "code",
      "execution_count": null,
      "metadata": {
        "id": "uLQVCRv7NYur",
        "scrolled": true
      },
      "outputs": [],
      "source": [
        "x = iris['Sepal.Width']\n",
        "mu = x.mean()\n",
        "sigma = x.std()\n",
        "\n",
        "#Dos gráficos en uno\n",
        "fig, ax = plt.subplots()\n",
        "\n",
        "# Preparamos un histograma en el subplot ax\n",
        "num_bins = 50 # numero de barras\n",
        "n, bins, patches = ax.hist(x, num_bins, color = 'g', edgecolor='black')\n",
        "\n",
        "#función de una distribución normal de media mu y desviación tipica sigma.\n",
        "y = (bins ** 2)\n",
        "\n",
        "ax.plot(bins, y,'--', color = 'red') # mete los valores de las Y y las X y las dibuja\n",
        "ax.set_xlabel('Valor de las acciones') #configura la leyenda de la grafica\n",
        "ax.set_title('Superposición de 2 gráficos')\n",
        "\n",
        "# Ajustar el espaciado para prevenir el recorte de la etiqueta y\n",
        "fig.tight_layout()\n",
        "plt.show()"
      ]
    },
    {
      "cell_type": "code",
      "execution_count": null,
      "metadata": {
        "id": "YEMaoh7ENYur"
      },
      "outputs": [],
      "source": [
        "Num_puntos = 1500\n",
        "mu = 100  # media of distribution\n",
        "sigma = 15  # desviación estándar\n",
        "x = mu + sigma * np.random.randn(Num_puntos) #genera Num_puntos puntos aleatorios de media mu y desviación tipica sigma.\n",
        "\n",
        "#Dos gráficos en uno\n",
        "fig, ax = plt.subplots()\n",
        "\n",
        "# Preparamos un histograma en el subplot ax\n",
        "num_bins = 50 # numero de barras\n",
        "n, bins, patches = ax.hist(x, num_bins, density=1,edgecolor='black')\n",
        "\n",
        "#función de una distribución normal de media mu y desviación tipica sigma.\n",
        "y = ((1 / (np.sqrt(2 * np.pi) * sigma)) * np.exp(-0.5 * (1 / sigma * (bins - mu))**2))\n",
        "\n",
        "ax.plot(bins, y,'--') # mete los valores de las Y y las X y las dibuja\n",
        "ax.set_xlabel('Gente lista') #configura la leyenda de la grafica\n",
        "ax.set_ylabel('Probabilidad')\n",
        "ax.set_title('Histograma de CIs: $\\mu=100$, $\\sigma=15$')\n",
        "\n",
        "# Ajustar el espaciado para prevenir el recorte de la etiqueta y\n",
        "fig.tight_layout()\n",
        "plt.show()"
      ]
    },
    {
      "cell_type": "markdown",
      "metadata": {
        "id": "dO9AfQOcNYus"
      },
      "source": [
        "Más tipos de visualizaciones: https://www.data-to-viz.com/\n",
        "\n",
        "Más información: https://matplotlib.org/3.2.1/tutorials/introductory/pyplot.html#sphx-glr-tutorials-introductory-pyplot-py"
      ]
    }
  ],
  "metadata": {
    "colab": {
      "provenance": []
    },
    "kernelspec": {
      "display_name": "Python 3",
      "language": "python",
      "name": "python3"
    },
    "language_info": {
      "codemirror_mode": {
        "name": "ipython",
        "version": 3
      },
      "file_extension": ".py",
      "mimetype": "text/x-python",
      "name": "python",
      "nbconvert_exporter": "python",
      "pygments_lexer": "ipython3",
      "version": "3.12.2"
    }
  },
  "nbformat": 4,
  "nbformat_minor": 0
}
