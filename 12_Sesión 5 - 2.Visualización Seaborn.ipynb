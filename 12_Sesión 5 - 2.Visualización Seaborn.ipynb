{
 "cells": [
  {
   "cell_type": "markdown",
   "metadata": {},
   "source": [
    "# <u>Visualización con Seaborn</u>"
   ]
  },
  {
   "cell_type": "markdown",
   "metadata": {},
   "source": [
    "Seaborn es más que una mera librería de visualización, es una librería para representación estadística, ya que muestra fácilmente la relación que guardan los datos para detectar tendencias y patrones.\n",
    "\n",
    "Seaborn es una librería para pintar gráficas construidas a partir de matplotlib."
   ]
  },
  {
   "cell_type": "code",
   "execution_count": null,
   "metadata": {},
   "outputs": [],
   "source": [
    "# actualizamos seaborn a la versión más actualizada\n",
    "\n",
    "# !pip install seaborn --upgrade"
   ]
  },
  {
   "cell_type": "code",
   "execution_count": null,
   "metadata": {},
   "outputs": [],
   "source": [
    "import pandas as pd\n",
    "import numpy as np\n",
    "\n",
    "import matplotlib.pyplot as plt\n",
    "import seaborn as sns\n",
    "\n",
    "%matplotlib inline"
   ]
  },
  {
   "cell_type": "code",
   "execution_count": null,
   "metadata": {},
   "outputs": [],
   "source": [
    "from pydataset import data   #contiene datasets incluidos para pruebas\n",
    "iris = data('iris')"
   ]
  },
  {
   "cell_type": "code",
   "execution_count": null,
   "metadata": {},
   "outputs": [],
   "source": [
    "# si quieren instalar pydataset\n",
    "# !pip install pydataset"
   ]
  },
  {
   "cell_type": "code",
   "execution_count": null,
   "metadata": {},
   "outputs": [],
   "source": [
    "# iris = pd.read_csv('data/iris.csv')"
   ]
  },
  {
   "cell_type": "code",
   "execution_count": null,
   "metadata": {},
   "outputs": [],
   "source": [
    "iris.head()"
   ]
  },
  {
   "cell_type": "markdown",
   "metadata": {},
   "source": [
    "* **Barplot.** Muy recomendable para la visuación de datos agregados, como la media."
   ]
  },
  {
   "cell_type": "code",
   "execution_count": null,
   "metadata": {},
   "outputs": [],
   "source": [
    "sns.barplot(x='Species', y='Sepal.Length', data=iris, estimator=np.mean)\n",
    "plt.show()"
   ]
  },
  {
   "cell_type": "code",
   "execution_count": null,
   "metadata": {},
   "outputs": [],
   "source": [
    "df=iris\n",
    "groupedvalues=df.groupby('Species').mean().reset_index()\n",
    "g=sns.barplot(x='Species',y='Sepal.Length',data=groupedvalues)\n",
    "\n",
    "for index, row in groupedvalues.iterrows():\n",
    "    g.text(row.name,row['Sepal.Length'], round(row['Sepal.Length'],2), color='black', ha=\"center\")"
   ]
  },
  {
   "cell_type": "markdown",
   "metadata": {},
   "source": [
    "* **Histograma.** Para conocer la distribución de los datos, el histograma es una herramienta básica, sin embargo, esta representación está muy influenciada por el número de bins que se seleccionen y el ancho de cada uno."
   ]
  },
  {
   "cell_type": "code",
   "execution_count": null,
   "metadata": {},
   "outputs": [],
   "source": [
    "sns.displot(iris['Sepal.Length'])\n",
    "plt.show()"
   ]
  },
  {
   "cell_type": "markdown",
   "metadata": {},
   "source": [
    "* **KDE plots (Kernel Density Estimation plots).** Genera mejores representaciones de distribuciones de datos que un histograma al suavizar la forma de los datos, pero no aporta información estadística."
   ]
  },
  {
   "cell_type": "code",
   "execution_count": null,
   "metadata": {},
   "outputs": [],
   "source": [
    "sns.kdeplot(data=iris['Sepal.Length'], shade=True)\n",
    "plt.show()"
   ]
  },
  {
   "cell_type": "markdown",
   "metadata": {},
   "source": [
    "* **Box plots.** Útiles para conocer los rangos de datos, si existen outliers, la media y el rango intercuartil en el que se distribuyen los datos."
   ]
  },
  {
   "cell_type": "code",
   "execution_count": null,
   "metadata": {},
   "outputs": [],
   "source": [
    "sns.boxplot(data=iris, x='Species', y='Sepal.Length')\n",
    "plt.show()"
   ]
  },
  {
   "cell_type": "markdown",
   "metadata": {},
   "source": [
    "* **Violin plots.** La conjunción de KDE + box plots, clave para comparar distribuciones. Un violin representa la distribución, su media, el rango intercuartil y el intervalo de confianza de 95% en el que se distruyen los mapas."
   ]
  },
  {
   "cell_type": "code",
   "execution_count": null,
   "metadata": {},
   "outputs": [],
   "source": [
    "sns.violinplot(data=iris, x='Species', y='Sepal.Length')\n",
    "plt.show()"
   ]
  },
  {
   "cell_type": "markdown",
   "metadata": {},
   "source": [
    "* **Catplot().** Este método es muy útil cuando en el análisis se representan variables categóricas. Otra alternativa al diagrama de barras."
   ]
  },
  {
   "cell_type": "code",
   "execution_count": null,
   "metadata": {},
   "outputs": [],
   "source": [
    "sns.catplot(x='Species', y='Sepal.Length', kind=\"swarm\", data=iris)\n",
    "plt.show()"
   ]
  },
  {
   "cell_type": "markdown",
   "metadata": {},
   "source": [
    "* **Scatter plots.** Ideal para la representación de correlaciones y cómo una variable afecta a la otra"
   ]
  },
  {
   "cell_type": "code",
   "execution_count": null,
   "metadata": {},
   "outputs": [],
   "source": [
    "sns.scatterplot(x=\"Sepal.Length\", y=\"Sepal.Width\", data=iris)\n",
    "plt.show()"
   ]
  },
  {
   "cell_type": "code",
   "execution_count": null,
   "metadata": {},
   "outputs": [],
   "source": [
    "sns.scatterplot(x=\"Sepal.Length\", y=\"Sepal.Width\", hue='Species', data=iris)\n",
    "plt.show()"
   ]
  },
  {
   "cell_type": "markdown",
   "metadata": {},
   "source": [
    "Para más ejemplos: https://seaborn.pydata.org/\n",
    "\n",
    "Cómo desarrollar cada gráfico de forma correcta: https://www.python-graph-gallery.com/"
   ]
  },
  {
   "cell_type": "markdown",
   "metadata": {
    "id": "V8o5f4wgF_SV"
   },
   "source": [
    "### Veamos otros ejemplos gráficos"
   ]
  },
  {
   "cell_type": "code",
   "execution_count": null,
   "metadata": {
    "colab": {
     "base_uri": "https://localhost:8080/",
     "height": 357
    },
    "id": "7B70JzSWF_Sp",
    "outputId": "24e8d652-a938-47e1-d850-8d9cc032751e"
   },
   "outputs": [],
   "source": [
    "iris.head()"
   ]
  },
  {
   "cell_type": "markdown",
   "metadata": {
    "id": "K8RVc5G8F_Sr"
   },
   "source": [
    "**Histogramas y funciones de densidad**"
   ]
  },
  {
   "cell_type": "code",
   "execution_count": null,
   "metadata": {
    "colab": {
     "base_uri": "https://localhost:8080/",
     "height": 333
    },
    "id": "BqOoheBzF_St",
    "outputId": "2bc611e8-ee14-43dd-fb8e-207e38e60c5e"
   },
   "outputs": [],
   "source": [
    "sns.histplot(iris['Sepal.Length'],bins=30,kde=True)\n",
    "plt.show()\n",
    "# kde = True por default, te presenta la curva de densidad.\n",
    "# hist : True/False, te presenta el histograma."
   ]
  },
  {
   "cell_type": "code",
   "execution_count": null,
   "metadata": {},
   "outputs": [],
   "source": [
    "sns.histplot(iris['Sepal.Length'],bins=20,kde=True,edgecolor=\"black\",linewidth=2,linestyle='--')\n",
    "plt.show()"
   ]
  },
  {
   "cell_type": "code",
   "execution_count": null,
   "metadata": {
    "colab": {
     "base_uri": "https://localhost:8080/",
     "height": 333
    },
    "id": "AQ8mayTMF_Sv",
    "outputId": "cc4e7357-bb14-41b4-bcfe-00664cc6bd12"
   },
   "outputs": [],
   "source": [
    "sns.kdeplot(iris['Sepal.Length'])\n",
    "plt.show()"
   ]
  },
  {
   "cell_type": "code",
   "execution_count": null,
   "metadata": {},
   "outputs": [],
   "source": [
    "sns.kdeplot(iris['Sepal.Length'],shade=True, color='green')\n",
    "plt.axhline(y=0.2)\n",
    "plt.axvline(x=5)\n",
    "plt.show()"
   ]
  },
  {
   "cell_type": "markdown",
   "metadata": {
    "id": "iwab_CZpF_Sx"
   },
   "source": [
    "**ScatterPlot**"
   ]
  },
  {
   "cell_type": "code",
   "execution_count": null,
   "metadata": {
    "id": "OunerQ9aF_Sy"
   },
   "outputs": [],
   "source": [
    "#sns.scatterplot?"
   ]
  },
  {
   "cell_type": "code",
   "execution_count": null,
   "metadata": {
    "colab": {
     "base_uri": "https://localhost:8080/",
     "height": 333
    },
    "id": "090eEzpvF_S0",
    "outputId": "ca850f90-b51b-4149-ee67-49cdb82e1b00"
   },
   "outputs": [],
   "source": [
    "sns.scatterplot(data=iris,x='Sepal.Length',y='Petal.Length',hue='Species')\n",
    "plt.show()"
   ]
  },
  {
   "cell_type": "code",
   "execution_count": null,
   "metadata": {},
   "outputs": [],
   "source": [
    "# adicionamos estilo de marcadores\n",
    "plt.figure(figsize=(10,10))\n",
    "sns.scatterplot(data=iris,x='Sepal.Length',y='Petal.Length',hue='Species',style='Species')\n",
    "plt.show()"
   ]
  },
  {
   "cell_type": "code",
   "execution_count": null,
   "metadata": {},
   "outputs": [],
   "source": [
    "#incluimos el tamaño\n",
    "plt.figure(figsize=(10,10))\n",
    "sns.scatterplot(data=iris,x='Sepal.Length',y='Petal.Length',hue='Species',size='Sepal.Width',sizes=(20, 200))\n",
    "plt.show()"
   ]
  },
  {
   "cell_type": "markdown",
   "metadata": {},
   "source": [
    "Más sobre scatterplots: https://seaborn.pydata.org/generated/seaborn.scatterplot.html"
   ]
  },
  {
   "cell_type": "markdown",
   "metadata": {
    "id": "Q74poOjbF_S2"
   },
   "source": [
    "#### Distribuciones Bivariantes"
   ]
  },
  {
   "cell_type": "markdown",
   "metadata": {
    "id": "FTxmB5RxF_S2"
   },
   "source": [
    "* El equivalente a plt.scatter de matplotlib en seaborn es sns.jointplot().\n",
    "* No solo pinta el scatter sino que de manera automática muestra los histogramas de las variables involucradas"
   ]
  },
  {
   "cell_type": "code",
   "execution_count": null,
   "metadata": {
    "colab": {
     "base_uri": "https://localhost:8080/",
     "height": 441
    },
    "id": "EXriwnCEF_S3",
    "outputId": "b00982cd-47f0-4ae5-f2ba-1fb167be8f01"
   },
   "outputs": [],
   "source": [
    "sns.jointplot(x=iris['Sepal.Length'],y=iris['Petal.Length'])\n",
    "plt.show()"
   ]
  },
  {
   "cell_type": "code",
   "execution_count": null,
   "metadata": {},
   "outputs": [],
   "source": [
    "sns.jointplot(x=iris['Sepal.Length'],y=iris['Petal.Length'],kind='reg')\n",
    "plt.show()"
   ]
  },
  {
   "cell_type": "code",
   "execution_count": null,
   "metadata": {},
   "outputs": [],
   "source": [
    "sns.jointplot(x=iris['Sepal.Length'],y=iris['Petal.Length'],hue=iris['Species'])\n",
    "plt.show()"
   ]
  },
  {
   "cell_type": "code",
   "execution_count": null,
   "metadata": {
    "colab": {
     "base_uri": "https://localhost:8080/",
     "height": 441
    },
    "id": "BFs2Pv6tF_S4",
    "outputId": "171dc22a-0b02-4ce9-e01b-e8801f86589c"
   },
   "outputs": [],
   "source": [
    "sns.jointplot(x=iris['Sepal.Length'],y=iris['Petal.Length'],kind='hex',color ='purple')\n",
    "plt.show()"
   ]
  },
  {
   "cell_type": "code",
   "execution_count": null,
   "metadata": {
    "colab": {
     "base_uri": "https://localhost:8080/",
     "height": 441
    },
    "id": "Vhvjoj5lF_S7",
    "outputId": "33b21e4c-ced4-4081-9997-f17987b36773"
   },
   "outputs": [],
   "source": [
    "sns.jointplot(x=iris['Sepal.Length'],y=iris['Petal.Length'],kind='kde')\n",
    "plt.show()"
   ]
  },
  {
   "cell_type": "code",
   "execution_count": null,
   "metadata": {
    "colab": {
     "base_uri": "https://localhost:8080/",
     "height": 441
    },
    "id": "uRTrHPVWF_S9",
    "outputId": "c429fc1d-94e2-4780-9228-7dba329912dc"
   },
   "outputs": [],
   "source": [
    "snsObject=sns.jointplot(x=iris['Sepal.Length'],y=iris['Petal.Length'],hue=iris['Species'],kind='kde')\n",
    "plt.show()"
   ]
  },
  {
   "cell_type": "markdown",
   "metadata": {},
   "source": [
    "Probemos con otra data:"
   ]
  },
  {
   "cell_type": "code",
   "execution_count": null,
   "metadata": {},
   "outputs": [],
   "source": [
    "penguins = sns.load_dataset(\"penguins\")\n",
    "sns.jointplot(data=penguins, x=\"bill_length_mm\", y=\"bill_depth_mm\",kind='kde', color = 'brown')\n",
    "plt.show()"
   ]
  },
  {
   "cell_type": "code",
   "execution_count": null,
   "metadata": {},
   "outputs": [],
   "source": [
    "sns.jointplot(data=penguins, x=\"bill_length_mm\", y=\"bill_depth_mm\",kind='kde', color = 'brown',hue=\"species\")\n",
    "plt.show() "
   ]
  },
  {
   "cell_type": "markdown",
   "metadata": {
    "id": "Lc7ES-cMF_S_"
   },
   "source": [
    "**Relaciones entre todas las variables**\n",
    "\n",
    "    * pairplot()\n"
   ]
  },
  {
   "cell_type": "markdown",
   "metadata": {
    "id": "5olMZCV0F_S_"
   },
   "source": [
    "Es muy útil poder ver las relaciones entre todas las variables existentes.\n",
    "Para esto existen las funciones pairplot(), PairGrid()."
   ]
  },
  {
   "cell_type": "code",
   "execution_count": null,
   "metadata": {
    "colab": {
     "base_uri": "https://localhost:8080/",
     "height": 726
    },
    "id": "ks9ohlqlF_TA",
    "outputId": "c98766b7-a750-4d2b-d937-4f5d2822ad2c"
   },
   "outputs": [],
   "source": [
    "sns.pairplot(iris,hue='Species')\n",
    "plt.show()"
   ]
  },
  {
   "cell_type": "code",
   "execution_count": null,
   "metadata": {},
   "outputs": [],
   "source": [
    "sns.pairplot(iris,hue='Species',kind='kde')\n",
    "plt.show()"
   ]
  },
  {
   "cell_type": "code",
   "execution_count": null,
   "metadata": {},
   "outputs": [],
   "source": [
    "sns.pairplot(penguins,hue='species')\n",
    "plt.show()"
   ]
  },
  {
   "cell_type": "markdown",
   "metadata": {},
   "source": [
    "Para guardar el último gráfico ejecutado en un archivo, podemos utilizar la función **savefig** de matplotlib.pyplot:"
   ]
  },
  {
   "cell_type": "code",
   "execution_count": null,
   "metadata": {},
   "outputs": [],
   "source": [
    "# permite guardar el último gráfico ejecutado\n",
    "sns.pairplot(iris, hue = \"Species\")\n",
    "plt.savefig(\"Correlaciones.jpg\")"
   ]
  },
  {
   "cell_type": "markdown",
   "metadata": {},
   "source": [
    "### Extra:\n",
    "En la librería ***seaborn*** tenemos un listado de conjuntos de datos de prueba que podemos utilizar: "
   ]
  },
  {
   "cell_type": "code",
   "execution_count": null,
   "metadata": {},
   "outputs": [],
   "source": [
    "#import seaborn as sns\n",
    "planets = sns.load_dataset('planets')\n",
    "planets.shape"
   ]
  },
  {
   "cell_type": "code",
   "execution_count": null,
   "metadata": {},
   "outputs": [],
   "source": [
    "planets.head()"
   ]
  },
  {
   "cell_type": "code",
   "execution_count": null,
   "metadata": {},
   "outputs": [],
   "source": [
    "titanic = sns.load_dataset('titanic')\n",
    "titanic.shape"
   ]
  },
  {
   "cell_type": "code",
   "execution_count": null,
   "metadata": {},
   "outputs": [],
   "source": [
    "titanic.head()"
   ]
  },
  {
   "cell_type": "code",
   "execution_count": null,
   "metadata": {},
   "outputs": [],
   "source": [
    "accidentes = sns.load_dataset('car_crashes')\n",
    "accidentes.shape"
   ]
  },
  {
   "cell_type": "code",
   "execution_count": null,
   "metadata": {},
   "outputs": [],
   "source": [
    "accidentes.head()"
   ]
  },
  {
   "cell_type": "code",
   "execution_count": null,
   "metadata": {},
   "outputs": [],
   "source": [
    "help(sns.load_dataset)"
   ]
  },
  {
   "cell_type": "code",
   "execution_count": null,
   "metadata": {},
   "outputs": [],
   "source": [
    "#listado de datasets\n",
    "sns.get_dataset_names()"
   ]
  },
  {
   "cell_type": "markdown",
   "metadata": {},
   "source": [
    "Más información de estos conjuntos de datos en: https://github.com/mwaskom/seaborn-data"
   ]
  }
 ],
 "metadata": {
  "kernelspec": {
   "display_name": "Python 3",
   "language": "python",
   "name": "python3"
  },
  "language_info": {
   "codemirror_mode": {
    "name": "ipython",
    "version": 3
   },
   "file_extension": ".py",
   "mimetype": "text/x-python",
   "name": "python",
   "nbconvert_exporter": "python",
   "pygments_lexer": "ipython3",
   "version": "3.7.5"
  }
 },
 "nbformat": 4,
 "nbformat_minor": 4
}
